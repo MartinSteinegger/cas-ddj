{
 "cells": [
  {
   "cell_type": "markdown",
   "metadata": {},
   "source": [
    "## Agenda"
   ]
  },
  {
   "cell_type": "markdown",
   "metadata": {},
   "source": [
    "- Tokenization\n",
    "- Stemming\n",
    "- Lemmatization\n",
    "    - Pattern\n",
    "    - TextBlob\n",
    "- POS Tagging\n",
    "    - Pattern\n",
    "    - TextBlob\n",
    "- Stop Word removal"
   ]
  },
  {
   "cell_type": "markdown",
   "metadata": {},
   "source": [
    "## Tokenizer\n",
    "- Wie splittet man einfach einen Satz in Wörter auf?\n",
    "- https://www.admin.ch/opc/de/classified-compilation/19995395/index.html#a8"
   ]
  },
  {
   "cell_type": "code",
   "execution_count": 38,
   "metadata": {},
   "outputs": [],
   "source": [
    "import nltk\n",
    "from nltk.tokenize import word_tokenize"
   ]
  },
  {
   "cell_type": "code",
   "execution_count": 39,
   "metadata": {},
   "outputs": [],
   "source": [
    "verfassung = '''\n",
    "Im Namen Gottes des Allmächtigen!\n",
    "\n",
    "Das Schweizervolk und die Kantone,\n",
    "\n",
    "in der Verantwortung gegenüber der Schöpfung,\n",
    "\n",
    "im Bestreben, den Bund zu erneuern, um Freiheit und Demokratie, Unabhängigkeit und Frieden in Solidarität und Offenheit gegenüber der Welt zu stärken,\n",
    "\n",
    "im Willen, in gegenseitiger Rücksichtnahme und Achtung ihre Vielfalt in der Einheit zu leben,\n",
    "\n",
    "im Bewusstsein der gemeinsamen Errungenschaften und der Verantwortung gegenüber den künftigen Generationen,\n",
    "\n",
    "gewiss, dass frei nur ist, wer seine Freiheit gebraucht, und dass die Stärke des Volkes sich misst am Wohl der Schwachen,\n",
    "\n",
    "geben sich folgende Verfassung:\n",
    "'''"
   ]
  },
  {
   "cell_type": "code",
   "execution_count": 40,
   "metadata": {},
   "outputs": [
    {
     "data": {
      "text/plain": [
       "'\\nIm Namen Gottes des Allmächtigen!\\n\\nDas Schweizervolk und die Kantone,\\n\\nin der Verantwortung gegenüber der Schöpfung,\\n\\nim Bestreben, den Bund zu erneuern, um Freiheit und Demokratie, Unabhängigkeit und Frieden in Solidarität und Offenheit gegenüber der Welt zu stärken,\\n\\nim Willen, in gegenseitiger Rücksichtnahme und Achtung ihre Vielfalt in der Einheit zu leben,\\n\\nim Bewusstsein der gemeinsamen Errungenschaften und der Verantwortung gegenüber den künftigen Generationen,\\n\\ngewiss, dass frei nur ist, wer seine Freiheit gebraucht, und dass die Stärke des Volkes sich misst am Wohl der Schwachen,\\n\\ngeben sich folgende Verfassung:\\n'"
      ]
     },
     "execution_count": 40,
     "metadata": {},
     "output_type": "execute_result"
    }
   ],
   "source": [
    "#verfassung = verfassung.decode('utf-8')\n",
    "verfassung"
   ]
  },
  {
   "cell_type": "markdown",
   "metadata": {},
   "source": [
    "### In einzelne Wörter + Zeichen"
   ]
  },
  {
   "cell_type": "code",
   "execution_count": 41,
   "metadata": {},
   "outputs": [
    {
     "data": {
      "text/plain": [
       "['Im',\n",
       " 'Namen',\n",
       " 'Gottes',\n",
       " 'des',\n",
       " 'Allmächtigen',\n",
       " '!',\n",
       " 'Das',\n",
       " 'Schweizervolk',\n",
       " 'und',\n",
       " 'die']"
      ]
     },
     "execution_count": 41,
     "metadata": {},
     "output_type": "execute_result"
    }
   ],
   "source": [
    "tokens = nltk.word_tokenize(verfassung)\n",
    "tokens[0:10]"
   ]
  },
  {
   "cell_type": "markdown",
   "metadata": {},
   "source": [
    "### In Wörter"
   ]
  },
  {
   "cell_type": "code",
   "execution_count": 42,
   "metadata": {},
   "outputs": [
    {
     "data": {
      "text/plain": [
       "['im',\n",
       " 'namen',\n",
       " 'gottes',\n",
       " 'des',\n",
       " 'allmächtigen',\n",
       " 'das',\n",
       " 'schweizervolk',\n",
       " 'und',\n",
       " 'die',\n",
       " 'kantone',\n",
       " 'in',\n",
       " 'der',\n",
       " 'verantwortung',\n",
       " 'gegenüber',\n",
       " 'der',\n",
       " 'schöpfung',\n",
       " 'im',\n",
       " 'bestreben',\n",
       " 'den',\n",
       " 'bund']"
      ]
     },
     "execution_count": 42,
     "metadata": {},
     "output_type": "execute_result"
    }
   ],
   "source": [
    "from nltk.tokenize import word_tokenize\n",
    "words = word_tokenize(verfassung)\n",
    "words=[word.lower() for word in words if word.isalpha()]\n",
    "words[0:20]"
   ]
  },
  {
   "cell_type": "markdown",
   "metadata": {},
   "source": [
    "### Hier noch ein paar praktische Python funktionen wie isalpha\n",
    "\n",
    "|  s.startswith(t) | test if s starts with t |\n",
    "|  ------ | ------ |\n",
    "|  s.endswith(t) | test if s ends with t |\n",
    "|  t in s | test if t is a substring of s |\n",
    "|  s.islower() | test if s contains cased characters and all are lowercase |\n",
    "|  s.isupper() | test if s contains cased characters and all are uppercase |\n",
    "|  s.isalpha() | test if s is non-empty and all characters in s are alphabetic |\n",
    "|  s.isalnum() | test if s is non-empty and all characters in s are alphanumeric |\n",
    "|  s.isdigit() | test if s is non-empty and all characters in s are digits |\n",
    "|  s.istitle() | test if s contains cased characters and is titlecased (i.e. all words in s have initial capitals) |"
   ]
  },
  {
   "cell_type": "markdown",
   "metadata": {},
   "source": [
    "### In Sätze"
   ]
  },
  {
   "cell_type": "code",
   "execution_count": 43,
   "metadata": {
    "scrolled": true
   },
   "outputs": [
    {
     "data": {
      "text/plain": [
       "['\\nIm Namen Gottes des Allmächtigen!',\n",
       " 'Das Schweizervolk und die Kantone,\\n\\nin der Verantwortung gegenüber der Schöpfung,\\n\\nim Bestreben, den Bund zu erneuern, um Freiheit und Demokratie, Unabhängigkeit und Frieden in Solidarität und Offenheit gegenüber der Welt zu stärken,\\n\\nim Willen, in gegenseitiger Rücksichtnahme und Achtung ihre Vielfalt in der Einheit zu leben,\\n\\nim Bewusstsein der gemeinsamen Errungenschaften und der Verantwortung gegenüber den künftigen Generationen,\\n\\ngewiss, dass frei nur ist, wer seine Freiheit gebraucht, und dass die Stärke des Volkes sich misst am Wohl der Schwachen,\\n\\ngeben sich folgende Verfassung:']"
      ]
     },
     "execution_count": 43,
     "metadata": {},
     "output_type": "execute_result"
    }
   ],
   "source": [
    "from nltk.tokenize import sent_tokenize\n",
    "sentences = sent_tokenize(verfassung)\n",
    "sentences"
   ]
  },
  {
   "cell_type": "markdown",
   "metadata": {},
   "source": [
    "## Stemming\n",
    "- d.h. das überführen von Wörtern in den gleichen Stamm. \n",
    "- Übliche Probleme die Sprache so mit sich bringt:\n",
    "    - Deklination: gehe, gehst, gehen, geht, ... es handelt sich um das gleiche Wort. \n",
    "    - Plural, Groß/Kleinschreibung: katze, katzen, Katze ... es handelt sich auch um das gleiche Wort. \n",
    "    - ..."
   ]
  },
  {
   "cell_type": "code",
   "execution_count": 44,
   "metadata": {},
   "outputs": [],
   "source": [
    "porter = nltk.PorterStemmer()\n",
    "lancaster = nltk.LancasterStemmer()"
   ]
  },
  {
   "cell_type": "markdown",
   "metadata": {},
   "source": [
    "### Porter stemmer\n",
    "- geht ganz ok für Englisch\n",
    "- https://de.wikipedia.org/wiki/Porter-Stemmer-Algorithmus"
   ]
  },
  {
   "cell_type": "code",
   "execution_count": 45,
   "metadata": {},
   "outputs": [
    {
     "data": {
      "text/plain": [
       "['Universal',\n",
       " 'Declaration',\n",
       " 'of',\n",
       " 'Human',\n",
       " 'Rights',\n",
       " 'Preamble',\n",
       " 'Whereas',\n",
       " 'recognition',\n",
       " 'of',\n",
       " 'the',\n",
       " 'inherent',\n",
       " 'dignity',\n",
       " 'and',\n",
       " 'of',\n",
       " 'the',\n",
       " 'equal',\n",
       " 'and',\n",
       " 'inalienable',\n",
       " 'rights',\n",
       " 'of']"
      ]
     },
     "execution_count": 45,
     "metadata": {},
     "output_type": "execute_result"
    }
   ],
   "source": [
    "from nltk.corpus import udhr\n",
    "engl_words = udhr.words(\"English-Latin1\")\n",
    "engl_words[0:20]"
   ]
  },
  {
   "cell_type": "code",
   "execution_count": 46,
   "metadata": {},
   "outputs": [
    {
     "data": {
      "text/plain": [
       "['univers',\n",
       " 'declar',\n",
       " 'of',\n",
       " 'human',\n",
       " 'right',\n",
       " 'preambl',\n",
       " 'wherea',\n",
       " 'recognit',\n",
       " 'of',\n",
       " 'the',\n",
       " 'inher',\n",
       " 'digniti',\n",
       " 'and',\n",
       " 'of',\n",
       " 'the',\n",
       " 'equal',\n",
       " 'and',\n",
       " 'inalien',\n",
       " 'right',\n",
       " 'of']"
      ]
     },
     "execution_count": 46,
     "metadata": {},
     "output_type": "execute_result"
    }
   ],
   "source": [
    "[porter.stem(w) for w in engl_words][0:20]"
   ]
  },
  {
   "cell_type": "markdown",
   "metadata": {},
   "source": [
    "### Lancaster Stemmer\n",
    "- kommt zu leicht anderen \"stämmen\"\n",
    "- funktioniert nicht so gut für deutsch"
   ]
  },
  {
   "cell_type": "code",
   "execution_count": 47,
   "metadata": {},
   "outputs": [
    {
     "data": {
      "text/plain": [
       "['univers',\n",
       " 'decl',\n",
       " 'of',\n",
       " 'hum',\n",
       " 'right',\n",
       " 'preambl',\n",
       " 'wherea',\n",
       " 'recognit',\n",
       " 'of',\n",
       " 'the',\n",
       " 'inh',\n",
       " 'dign',\n",
       " 'and',\n",
       " 'of',\n",
       " 'the',\n",
       " 'eq',\n",
       " 'and',\n",
       " 'ina',\n",
       " 'right',\n",
       " 'of']"
      ]
     },
     "execution_count": 47,
     "metadata": {},
     "output_type": "execute_result"
    }
   ],
   "source": [
    "[lancaster.stem(w) for w in engl_words][0:20]"
   ]
  },
  {
   "cell_type": "markdown",
   "metadata": {},
   "source": [
    "### Snowball stemmer\n",
    "- Geht gut für deusch\n",
    "- http://snowball.tartarus.org/algorithms/german/stemmer.html"
   ]
  },
  {
   "cell_type": "code",
   "execution_count": 48,
   "metadata": {},
   "outputs": [],
   "source": [
    "snowball = nltk.stem.snowball.GermanStemmer()"
   ]
  },
  {
   "cell_type": "code",
   "execution_count": 49,
   "metadata": {},
   "outputs": [
    {
     "data": {
      "text/plain": [
       "['im',\n",
       " 'nam',\n",
       " 'gott',\n",
       " 'des',\n",
       " 'allmacht',\n",
       " 'das',\n",
       " 'schweizervolk',\n",
       " 'und',\n",
       " 'die',\n",
       " 'kanton',\n",
       " 'in',\n",
       " 'der',\n",
       " 'verantwort',\n",
       " 'gegenub',\n",
       " 'der',\n",
       " 'schopfung',\n",
       " 'im',\n",
       " 'bestreb',\n",
       " 'den',\n",
       " 'bund']"
      ]
     },
     "execution_count": 49,
     "metadata": {},
     "output_type": "execute_result"
    }
   ],
   "source": [
    "[snowball.stem(w) for w in words][0:20]"
   ]
  },
  {
   "cell_type": "markdown",
   "metadata": {},
   "source": [
    "## Lemmatizer\n",
    "- Zurückführen des Textes zu \"Wörterbuchdefinitionen\""
   ]
  },
  {
   "cell_type": "code",
   "execution_count": 50,
   "metadata": {},
   "outputs": [],
   "source": [
    "text = \"Women in technologies areas are amazing at coding. Especially one woman is great, her name is Ursula Burns.\"\n",
    "words = word_tokenize(text)\n",
    "words_engl =[word.lower() for word in words if word.isalpha()]"
   ]
  },
  {
   "cell_type": "code",
   "execution_count": 51,
   "metadata": {},
   "outputs": [
    {
     "name": "stderr",
     "output_type": "stream",
     "text": [
      "[nltk_data] Downloading package wordnet to\n",
      "[nltk_data]     /Users/martinsteinegger/nltk_data...\n",
      "[nltk_data]   Package wordnet is already up-to-date!\n"
     ]
    },
    {
     "data": {
      "text/plain": [
       "['woman',\n",
       " 'in',\n",
       " 'technology',\n",
       " 'area',\n",
       " 'are',\n",
       " 'amazing',\n",
       " 'at',\n",
       " 'coding',\n",
       " 'especially',\n",
       " 'one',\n",
       " 'woman',\n",
       " 'is',\n",
       " 'great',\n",
       " 'her',\n",
       " 'name',\n",
       " 'is',\n",
       " 'ursula',\n",
       " 'burn']"
      ]
     },
     "execution_count": 51,
     "metadata": {},
     "output_type": "execute_result"
    }
   ],
   "source": [
    "nltk.download('wordnet')\n",
    "from nltk import WordNetLemmatizer\n",
    "\n",
    "lemma = nltk.WordNetLemmatizer() \n",
    "lemmas = [lemma.lemmatize(i) for i in words_engl]\n",
    "lemmas[0:20]"
   ]
  },
  {
   "cell_type": "markdown",
   "metadata": {},
   "source": [
    "### Lematizer Deutsch NLTK\n",
    "- Geht leider nicht für deusch :( in nltk"
   ]
  },
  {
   "cell_type": "code",
   "execution_count": 52,
   "metadata": {},
   "outputs": [
    {
     "ename": "AttributeError",
     "evalue": "'str' object has no attribute 'decode'",
     "output_type": "error",
     "traceback": [
      "\u001b[0;31m---------------------------------------------------------------------------\u001b[0m",
      "\u001b[0;31mAttributeError\u001b[0m                            Traceback (most recent call last)",
      "\u001b[0;32m<ipython-input-52-90e186618da8>\u001b[0m in \u001b[0;36m<module>\u001b[0;34m\u001b[0m\n\u001b[1;32m      2\u001b[0m \u001b[0mKurz\u001b[0m \u001b[0mvor\u001b[0m \u001b[0;36m22.00\u001b[0m \u001b[0mUhr\u001b[0m \u001b[0msind\u001b[0m \u001b[0mPolizisten\u001b[0m \u001b[0mder\u001b[0m \u001b[0mStadtpolizei\u001b[0m \u001b[0;32min\u001b[0m \u001b[0malle\u001b[0m \u001b[0mRichtungen\u001b[0m \u001b[0maber\u001b[0m \u001b[0mvor\u001b[0m \u001b[0mallem\u001b[0m \u001b[0;32min\u001b[0m \u001b[0mRichtung\u001b[0m \u001b[0mKreis\u001b[0m \u001b[0;36m9\u001b[0m \u001b[0mausgerückt\u001b[0m\u001b[0;34m.\u001b[0m \u001b[0mGrund\u001b[0m \u001b[0mwar\u001b[0m \u001b[0meine\u001b[0m \u001b[0mMeldung\u001b[0m \u001b[0mzu\u001b[0m \u001b[0meiner\u001b[0m \u001b[0mprivaten\u001b[0m \u001b[0mParty\u001b[0m \u001b[0man\u001b[0m \u001b[0mder\u001b[0m \u001b[0mAargauerstrasse\u001b[0m\u001b[0;34m,\u001b[0m \u001b[0mdie\u001b[0m \u001b[0mangeblich\u001b[0m \u001b[0mausser\u001b[0m \u001b[0mKontrolle\u001b[0m \u001b[0mgeraten\u001b[0m \u001b[0msei\u001b[0m\u001b[0;34m.\u001b[0m\u001b[0;34m\u001b[0m\u001b[0;34m\u001b[0m\u001b[0m\n\u001b[1;32m      3\u001b[0m '''\n\u001b[0;32m----> 4\u001b[0;31m \u001b[0mparty_text\u001b[0m \u001b[0;34m=\u001b[0m \u001b[0mparty_text\u001b[0m\u001b[0;34m.\u001b[0m\u001b[0mdecode\u001b[0m\u001b[0;34m(\u001b[0m\u001b[0;34m\"UTF-8\"\u001b[0m\u001b[0;34m)\u001b[0m\u001b[0;34m\u001b[0m\u001b[0;34m\u001b[0m\u001b[0m\n\u001b[0m\u001b[1;32m      5\u001b[0m \u001b[0mwords\u001b[0m \u001b[0;34m=\u001b[0m \u001b[0mword_tokenize\u001b[0m\u001b[0;34m(\u001b[0m\u001b[0mparty_text\u001b[0m\u001b[0;34m)\u001b[0m\u001b[0;34m\u001b[0m\u001b[0;34m\u001b[0m\u001b[0m\n\u001b[1;32m      6\u001b[0m \u001b[0mwords_german\u001b[0m \u001b[0;34m=\u001b[0m\u001b[0;34m[\u001b[0m\u001b[0mword\u001b[0m\u001b[0;34m.\u001b[0m\u001b[0mlower\u001b[0m\u001b[0;34m(\u001b[0m\u001b[0;34m)\u001b[0m \u001b[0;32mfor\u001b[0m \u001b[0mword\u001b[0m \u001b[0;32min\u001b[0m \u001b[0mwords\u001b[0m \u001b[0;32mif\u001b[0m \u001b[0mword\u001b[0m\u001b[0;34m.\u001b[0m\u001b[0misalpha\u001b[0m\u001b[0;34m(\u001b[0m\u001b[0;34m)\u001b[0m\u001b[0;34m]\u001b[0m\u001b[0;34m\u001b[0m\u001b[0;34m\u001b[0m\u001b[0m\n",
      "\u001b[0;31mAttributeError\u001b[0m: 'str' object has no attribute 'decode'"
     ]
    }
   ],
   "source": [
    "party_text = '''\n",
    "Kurz vor 22.00 Uhr sind Polizisten der Stadtpolizei in alle Richtungen aber vor allem in Richtung Kreis 9 ausgerückt. Grund war eine Meldung zu einer privaten Party an der Aargauerstrasse, die angeblich ausser Kontrolle geraten sei. \n",
    "'''\n",
    "party_text = party_text.decode(\"UTF-8\")\n",
    "words = word_tokenize(party_text)\n",
    "words_german =[word.lower() for word in words if word.isalpha()]"
   ]
  },
  {
   "cell_type": "code",
   "execution_count": 22,
   "metadata": {},
   "outputs": [
    {
     "ename": "NameError",
     "evalue": "name 'words_german' is not defined",
     "output_type": "error",
     "traceback": [
      "\u001b[0;31m---------------------------------------------------------------------------\u001b[0m",
      "\u001b[0;31mNameError\u001b[0m                                 Traceback (most recent call last)",
      "\u001b[0;32m<ipython-input-22-167f8c3c2d88>\u001b[0m in \u001b[0;36m<module>\u001b[0;34m\u001b[0m\n\u001b[1;32m      1\u001b[0m \u001b[0mlemma\u001b[0m \u001b[0;34m=\u001b[0m \u001b[0mnltk\u001b[0m\u001b[0;34m.\u001b[0m\u001b[0mWordNetLemmatizer\u001b[0m\u001b[0;34m(\u001b[0m\u001b[0;34m)\u001b[0m\u001b[0;34m\u001b[0m\u001b[0;34m\u001b[0m\u001b[0m\n\u001b[0;32m----> 2\u001b[0;31m \u001b[0mlemmas\u001b[0m \u001b[0;34m=\u001b[0m \u001b[0;34m[\u001b[0m\u001b[0mlemma\u001b[0m\u001b[0;34m.\u001b[0m\u001b[0mlemmatize\u001b[0m\u001b[0;34m(\u001b[0m\u001b[0mi\u001b[0m\u001b[0;34m)\u001b[0m \u001b[0;32mfor\u001b[0m \u001b[0mi\u001b[0m \u001b[0;32min\u001b[0m \u001b[0mwords_german\u001b[0m\u001b[0;34m]\u001b[0m\u001b[0;34m\u001b[0m\u001b[0;34m\u001b[0m\u001b[0m\n\u001b[0m\u001b[1;32m      3\u001b[0m \u001b[0mlemmas\u001b[0m\u001b[0;34m[\u001b[0m\u001b[0;36m0\u001b[0m\u001b[0;34m:\u001b[0m\u001b[0;36m20\u001b[0m\u001b[0;34m]\u001b[0m\u001b[0;34m\u001b[0m\u001b[0;34m\u001b[0m\u001b[0m\n",
      "\u001b[0;31mNameError\u001b[0m: name 'words_german' is not defined"
     ]
    }
   ],
   "source": [
    "lemma = nltk.WordNetLemmatizer() \n",
    "lemmas = [lemma.lemmatize(i) for i in words_german]\n",
    "lemmas[0:20]"
   ]
  },
  {
   "cell_type": "markdown",
   "metadata": {},
   "source": [
    "## Lemmatizer in Pattern\n",
    "- Ähnlich wie NLTK funktioniert aber auch für deutsch\n",
    "- https://www.clips.uantwerpen.be/pattern\n",
    "- ```pip install pattern```\n",
    "- Deutsche modelle kommen übrigens von der Uni Zürich https://www.zora.uzh.ch/id/eprint/28579/"
   ]
  },
  {
   "cell_type": "code",
   "execution_count": 23,
   "metadata": {},
   "outputs": [
    {
     "ename": "ModuleNotFoundError",
     "evalue": "No module named 'pattern'",
     "output_type": "error",
     "traceback": [
      "\u001b[0;31m---------------------------------------------------------------------------\u001b[0m",
      "\u001b[0;31mModuleNotFoundError\u001b[0m                       Traceback (most recent call last)",
      "\u001b[0;32m<ipython-input-23-9a15f838248a>\u001b[0m in \u001b[0;36m<module>\u001b[0;34m\u001b[0m\n\u001b[0;32m----> 1\u001b[0;31m \u001b[0;32mfrom\u001b[0m \u001b[0mpattern\u001b[0m\u001b[0;34m.\u001b[0m\u001b[0mde\u001b[0m \u001b[0;32mimport\u001b[0m \u001b[0mparse\u001b[0m\u001b[0;34m\u001b[0m\u001b[0;34m\u001b[0m\u001b[0m\n\u001b[0m",
      "\u001b[0;31mModuleNotFoundError\u001b[0m: No module named 'pattern'"
     ]
    }
   ],
   "source": [
    "from pattern.de import parse"
   ]
  },
  {
   "cell_type": "code",
   "execution_count": 24,
   "metadata": {},
   "outputs": [
    {
     "ename": "NameError",
     "evalue": "name 'parse' is not defined",
     "output_type": "error",
     "traceback": [
      "\u001b[0;31m---------------------------------------------------------------------------\u001b[0m",
      "\u001b[0;31mNameError\u001b[0m                                 Traceback (most recent call last)",
      "\u001b[0;32m<ipython-input-24-09a2be76bac3>\u001b[0m in \u001b[0;36m<module>\u001b[0;34m\u001b[0m\n\u001b[1;32m      1\u001b[0m \u001b[0mtext\u001b[0m \u001b[0;34m=\u001b[0m \u001b[0;34m\"Richtungen Richtung.\"\u001b[0m\u001b[0;34m\u001b[0m\u001b[0;34m\u001b[0m\u001b[0m\n\u001b[0;32m----> 2\u001b[0;31m \u001b[0ms\u001b[0m \u001b[0;34m=\u001b[0m \u001b[0mparse\u001b[0m\u001b[0;34m(\u001b[0m\u001b[0mtext\u001b[0m\u001b[0;34m,\u001b[0m \u001b[0mrelations\u001b[0m\u001b[0;34m=\u001b[0m\u001b[0;32mTrue\u001b[0m\u001b[0;34m,\u001b[0m \u001b[0mlemmata\u001b[0m\u001b[0;34m=\u001b[0m\u001b[0;32mTrue\u001b[0m\u001b[0;34m)\u001b[0m\u001b[0;34m\u001b[0m\u001b[0;34m\u001b[0m\u001b[0m\n\u001b[0m\u001b[1;32m      3\u001b[0m \u001b[0ms\u001b[0m\u001b[0;34m\u001b[0m\u001b[0;34m\u001b[0m\u001b[0m\n",
      "\u001b[0;31mNameError\u001b[0m: name 'parse' is not defined"
     ]
    }
   ],
   "source": [
    "text = \"Richtungen Richtung.\"\n",
    "s = parse(text, relations=True, lemmata=True)\n",
    "s"
   ]
  },
  {
   "cell_type": "code",
   "execution_count": 25,
   "metadata": {},
   "outputs": [
    {
     "ename": "ModuleNotFoundError",
     "evalue": "No module named 'pattern'",
     "output_type": "error",
     "traceback": [
      "\u001b[0;31m---------------------------------------------------------------------------\u001b[0m",
      "\u001b[0;31mModuleNotFoundError\u001b[0m                       Traceback (most recent call last)",
      "\u001b[0;32m<ipython-input-25-2d805d6468ff>\u001b[0m in \u001b[0;36m<module>\u001b[0;34m\u001b[0m\n\u001b[1;32m      1\u001b[0m \u001b[0mlemmata\u001b[0m \u001b[0;34m=\u001b[0m \u001b[0;34m[\u001b[0m\u001b[0;34m]\u001b[0m\u001b[0;34m\u001b[0m\u001b[0;34m\u001b[0m\u001b[0m\n\u001b[0;32m----> 2\u001b[0;31m \u001b[0;32mfrom\u001b[0m \u001b[0mpattern\u001b[0m\u001b[0;34m.\u001b[0m\u001b[0mde\u001b[0m \u001b[0;32mimport\u001b[0m \u001b[0mparsetree\u001b[0m\u001b[0;34m\u001b[0m\u001b[0;34m\u001b[0m\u001b[0m\n\u001b[0m\u001b[1;32m      3\u001b[0m \u001b[0ms\u001b[0m \u001b[0;34m=\u001b[0m \u001b[0mparsetree\u001b[0m\u001b[0;34m(\u001b[0m\u001b[0mparty_text\u001b[0m\u001b[0;34m,\u001b[0m\u001b[0mrelations\u001b[0m\u001b[0;34m=\u001b[0m\u001b[0;32mTrue\u001b[0m\u001b[0;34m,\u001b[0m \u001b[0mlemmata\u001b[0m\u001b[0;34m=\u001b[0m\u001b[0;32mTrue\u001b[0m\u001b[0;34m)\u001b[0m\u001b[0;34m\u001b[0m\u001b[0;34m\u001b[0m\u001b[0m\n\u001b[1;32m      4\u001b[0m \u001b[0;32mfor\u001b[0m \u001b[0msentence\u001b[0m \u001b[0;32min\u001b[0m \u001b[0ms\u001b[0m\u001b[0;34m:\u001b[0m\u001b[0;34m\u001b[0m\u001b[0;34m\u001b[0m\u001b[0m\n\u001b[1;32m      5\u001b[0m     \u001b[0;32mfor\u001b[0m \u001b[0mchunk\u001b[0m \u001b[0;32min\u001b[0m \u001b[0msentence\u001b[0m\u001b[0;34m.\u001b[0m\u001b[0mchunks\u001b[0m\u001b[0;34m:\u001b[0m\u001b[0;34m\u001b[0m\u001b[0;34m\u001b[0m\u001b[0m\n",
      "\u001b[0;31mModuleNotFoundError\u001b[0m: No module named 'pattern'"
     ]
    }
   ],
   "source": [
    "lemmata = []\n",
    "from pattern.de import parsetree\n",
    "s = parsetree(party_text,relations=True, lemmata=True) \n",
    "for sentence in s: \n",
    "    for chunk in sentence.chunks:\n",
    "        for word in chunk.words:\n",
    "            #print(\"%s (%s)\" %(word,word.lemma))\n",
    "            lemmata.append(word.lemma)\n",
    "lemmata[0:20]"
   ]
  },
  {
   "cell_type": "markdown",
   "metadata": {},
   "source": [
    "## Lemmatizer in Textblob\n",
    " - https://textblob.readthedocs.io/en/dev/quickstart.html\n",
    " - ```pip install -U textblob```\n",
    " - ```pip install -U textblob-de```\n",
    " - https://github.com/markuskiller/textblob-de"
   ]
  },
  {
   "cell_type": "code",
   "execution_count": 54,
   "metadata": {},
   "outputs": [
    {
     "data": {
      "text/plain": [
       "['kurz',\n",
       " 'vor',\n",
       " '22.00',\n",
       " 'Uhr',\n",
       " 'sein',\n",
       " 'Polizist',\n",
       " 'der',\n",
       " 'Stadtpolizei',\n",
       " 'in',\n",
       " 'all',\n",
       " 'Richtungen',\n",
       " 'aber',\n",
       " 'vor',\n",
       " 'all',\n",
       " 'in',\n",
       " 'Richtung',\n",
       " 'Kreis',\n",
       " '9',\n",
       " 'ausgerückt',\n",
       " 'Grund']"
      ]
     },
     "execution_count": 54,
     "metadata": {},
     "output_type": "execute_result"
    }
   ],
   "source": [
    "party_text = '''\n",
    "Kurz vor 22.00 Uhr sind Polizisten der Stadtpolizei in alle Richtungen aber vor allem in Richtung Kreis 9 ausgerückt. Grund war eine Meldung zu einer privaten Party an der Aargauerstrasse, die angeblich ausser Kontrolle geraten sei. \n",
    "'''\n",
    "#party_text = party_text.decode(\"UTF-8\")\n",
    "from textblob_de import TextBlobDE\n",
    "from textblob_de import PatternParser\n",
    "blob = TextBlobDE(party_text, parser=PatternParser(pprint=False, lemmata=True))\n",
    "blob.parse()\n",
    "list(blob.words.lemmatize())[0:20]"
   ]
  },
  {
   "cell_type": "markdown",
   "metadata": {},
   "source": [
    "## POS Tagging (Part of Speech Tagging)\n",
    "- Ich bin nur interessiert an Substantiven oder Adjektiven oder Verben. \n",
    "- Wie kann ich nur diese filtern? \n",
    "- Funktioniert für Deutsch nicht auf Anhieb in NLTK :(\n",
    "- aber gut in pattern und textblob"
   ]
  },
  {
   "cell_type": "markdown",
   "metadata": {},
   "source": [
    "## Übersicht\n",
    "https://www.clips.uantwerpen.be/pages/mbsp-tags\n",
    "\n",
    "|  Tag | Description | Example |\n",
    "|  ------ | ------ | ------ |\n",
    "|  **CC** | conjunction, coordinating | and, or, but |\n",
    "|  **CD** | cardinal number | five, three, 13% |\n",
    "|  **DT** | determiner | the, a, these |\n",
    "|  **EX** | existential there | there were six boys |\n",
    "|  **FW** | foreign word | mais |\n",
    "|  **IN** | conjunction, subordinating or preposition | of, on, before, unless |\n",
    "|  **JJ** | adjective | nice, easy |\n",
    "|  **JJR** | adjective, comparative | nicer, easier |\n",
    "|  **JJS** | adjective, superlative | nicest, easiest |\n",
    "|  **LS** | list item marker |  |\n",
    "|  **MD** | verb, modal auxillary | may, should |\n",
    "|  **NN** | noun, singular or mass | tiger, chair, laughter |\n",
    "|  **NNS** | noun, plural | tigers, chairs, insects |\n",
    "|  **NNP** | noun, proper singular | Germany, God, Alice |\n",
    "|  **NNPS** | noun, proper plural | we met two Christmases ago |\n",
    "|  **PDT** | predeterminer | both his children |\n",
    "|  **POS** | possessive ending | s |\n",
    "|  **PRP** | pronoun, personal | me, you, it |\n",
    "|  **PRP** | pronoun, possessive | my, your, our |\n",
    "|  **RB** | adverb | extremely, loudly, hard |\n",
    "|  **RBR** | adverb, comparative | better |\n",
    "|  **RBS** | adverb, superlative | best |\n",
    "|  **RP** | adverb, particle | about, off, up |\n",
    "|  **SYM** | symbol | % |\n",
    "|  **TO** | infinitival to | what to do? |\n",
    "|  **UH** | interjection | oh, oops, gosh |\n",
    "|  **VB** | verb, base form | think |\n",
    "|  **VBZ** | verb, 3rd person singular present | she thinks |\n",
    "|  **VBP** | verb, non-3rd person singular present | I think |\n",
    "|  **VBD** | verb, past tense | they thought |\n",
    "|  **VBN** | verb, past participle | a sunken ship |\n",
    "|  **VBG** | verb, gerund or present participle | thinking is fun |\n",
    "|  **WDT** | wh-determiner | which, whatever, whichever |\n",
    "|  **WP** | wh-pronoun, personal | what, who, whom |\n",
    "|  **WP** | wh-pronoun, possessive | whose, whosever |\n",
    "|  **WRB** | wh-adverb | where, when |\n",
    "|  **.** | punctuation mark, sentence closer | .;?* |\n",
    "|  **,** | punctuation mark, comma | , |\n",
    "|  **:** | punctuation mark, colon | : |\n",
    "|  **(** | contextual separator, left paren | ( |\n",
    "|  **)** | contextual separator, right paren | ) |"
   ]
  },
  {
   "cell_type": "markdown",
   "metadata": {},
   "source": [
    "### POS Tags in pattern"
   ]
  },
  {
   "cell_type": "code",
   "execution_count": 55,
   "metadata": {},
   "outputs": [
    {
     "ename": "ModuleNotFoundError",
     "evalue": "No module named 'pattern'",
     "output_type": "error",
     "traceback": [
      "\u001b[0;31m---------------------------------------------------------------------------\u001b[0m",
      "\u001b[0;31mModuleNotFoundError\u001b[0m                       Traceback (most recent call last)",
      "\u001b[0;32m<ipython-input-55-10c8fca0dc5f>\u001b[0m in \u001b[0;36m<module>\u001b[0;34m\u001b[0m\n\u001b[1;32m      2\u001b[0m \u001b[0msubstantive\u001b[0m \u001b[0;34m=\u001b[0m \u001b[0;34m[\u001b[0m\u001b[0;34m]\u001b[0m\u001b[0;34m\u001b[0m\u001b[0;34m\u001b[0m\u001b[0m\n\u001b[1;32m      3\u001b[0m \u001b[0madjektive\u001b[0m \u001b[0;34m=\u001b[0m \u001b[0;34m[\u001b[0m\u001b[0;34m]\u001b[0m\u001b[0;34m\u001b[0m\u001b[0;34m\u001b[0m\u001b[0m\n\u001b[0;32m----> 4\u001b[0;31m \u001b[0;32mfrom\u001b[0m \u001b[0mpattern\u001b[0m\u001b[0;34m.\u001b[0m\u001b[0mde\u001b[0m \u001b[0;32mimport\u001b[0m \u001b[0mparsetree\u001b[0m\u001b[0;34m\u001b[0m\u001b[0;34m\u001b[0m\u001b[0m\n\u001b[0m\u001b[1;32m      5\u001b[0m \u001b[0ms\u001b[0m \u001b[0;34m=\u001b[0m \u001b[0mparsetree\u001b[0m\u001b[0;34m(\u001b[0m\u001b[0mparty_text\u001b[0m\u001b[0;34m,\u001b[0m\u001b[0mrelations\u001b[0m\u001b[0;34m=\u001b[0m\u001b[0;32mTrue\u001b[0m\u001b[0;34m,\u001b[0m \u001b[0mlemmata\u001b[0m\u001b[0;34m=\u001b[0m\u001b[0;32mTrue\u001b[0m\u001b[0;34m)\u001b[0m\u001b[0;34m\u001b[0m\u001b[0;34m\u001b[0m\u001b[0m\n\u001b[1;32m      6\u001b[0m \u001b[0;32mfor\u001b[0m \u001b[0msentence\u001b[0m \u001b[0;32min\u001b[0m \u001b[0ms\u001b[0m\u001b[0;34m:\u001b[0m\u001b[0;34m\u001b[0m\u001b[0;34m\u001b[0m\u001b[0m\n",
      "\u001b[0;31mModuleNotFoundError\u001b[0m: No module named 'pattern'"
     ]
    }
   ],
   "source": [
    "verben = []\n",
    "substantive = []\n",
    "adjektive = []\n",
    "from pattern.de import parsetree\n",
    "s = parsetree(party_text,relations=True, lemmata=True) \n",
    "for sentence in s: \n",
    "    for chunk in sentence.chunks:\n",
    "        for word in chunk.words:\n",
    "            if \"V\" in word.type:\n",
    "                verben.append(word)\n",
    "            if \"NN\" in word.type:\n",
    "                substantive.append(word)\n",
    "            if \"J\" in word.type:\n",
    "                adjektive.append(word)"
   ]
  },
  {
   "cell_type": "code",
   "execution_count": 56,
   "metadata": {},
   "outputs": [
    {
     "data": {
      "text/plain": [
       "[]"
      ]
     },
     "execution_count": 56,
     "metadata": {},
     "output_type": "execute_result"
    }
   ],
   "source": [
    "verben"
   ]
  },
  {
   "cell_type": "code",
   "execution_count": 57,
   "metadata": {},
   "outputs": [
    {
     "data": {
      "text/plain": [
       "[]"
      ]
     },
     "execution_count": 57,
     "metadata": {},
     "output_type": "execute_result"
    }
   ],
   "source": [
    "substantive"
   ]
  },
  {
   "cell_type": "code",
   "execution_count": 58,
   "metadata": {},
   "outputs": [
    {
     "data": {
      "text/plain": [
       "[]"
      ]
     },
     "execution_count": 58,
     "metadata": {},
     "output_type": "execute_result"
    }
   ],
   "source": [
    "adjektive"
   ]
  },
  {
   "cell_type": "markdown",
   "metadata": {},
   "source": [
    "### POS tags in textblob"
   ]
  },
  {
   "cell_type": "code",
   "execution_count": 59,
   "metadata": {},
   "outputs": [],
   "source": [
    "substantive = []\n",
    "adjektive = []\n",
    "verben = []\n",
    "blob = TextBlobDE(party_text, parser=PatternParser(pprint=False, lemmata=True))\n",
    "for word in blob.tags:\n",
    "    if \"NN\" in word[1]:\n",
    "        substantive.append(word[0])\n",
    "    if \"V\" in word[1]:\n",
    "        verben.append(word[0])\n",
    "    if \"JJ\" in word[1]:\n",
    "        adjektive.append(word[0])"
   ]
  },
  {
   "cell_type": "code",
   "execution_count": 64,
   "metadata": {},
   "outputs": [],
   "source": [
    "#mit eigenem text von der zsz-page\n",
    "textzsz = '''Ende Dezember 2014 hatte der damals 31-Jährige in der elterlichen Villa in Küsnacht mit seinem Freund Kokain und Ketamin konsumiert. Die beiden gerieten dann in Streit. Der Beschuldigte schlug dem Freund den Schädel ein, rammte ihm eine Kerze in den Rachen und erwürgte ihn.\n",
    "\n",
    "Das Bezirksgericht Meilen hatte den Sohn eines wohlhabenden Galerie-Inhabers im Juni 2017 wegen vorsätzlicher Tötung, Vergewaltigung und anderer Delikte zu einer Freiheitsstrafe von 12,5 Jahren verurteilt. Es ordnete eine strafvollzugsbegleitende Therapie an, die der Beschuldigte vor längerer Zeit angefangen hat. Er habe seither grosse Fortschritte gemacht, sagte der junge Mann, der sich bereits im vorzeitigen Strafvollzug befindet. Seit seiner Inhaftierung am Tattag habe er keine Drogen mehr konsumiert. Heute nehme er auch keinerlei Medikamente mehr. «Darüber bin ich glücklich». Er wäre auch motiviert für eine stationäre Massnahme, sagte er.\n",
    "\n",
    "«Ich bete für sie»\n",
    "\n",
    "Bezüglich des Tötungsdelikts machte er von seinem Recht auf Aussageverweigerung Gebrauch. Er wandte sich aber im Schlusswort an die Angehörigen des Opfers und versicherte, wie leid ihm seine Tat tue. «Bitte verzeihen Sie mir».\n",
    "\n",
    "Er habe seinen langjährigen Freund, den er «wie einen Bruder geliebt» habe, nicht mit Absicht getötet. Dennoch schäme er sich für seine Tat und bereue sie zutiefst. Er sei in Gedanken bei den Angehörigen und «bete für sie in dieser schlimmen Zeit».\n",
    "\n",
    "Laut Verteidiger hatte sich der Beschuldigte zur Tatzeit nach ausgiebigem Konsum von Kokain und dem Medikament Ketamin in einem psychotischen Rausch befunden. Auch der psychiatrische Gutachter habe festgehalten, dass seine Einsichtsfähigkeit damals vollständig aufgehoben gewesen sei. Für das Tötungsdelikt könne er deshalb nicht zur Rechenschaft gezogen werden.\n",
    "\n",
    "Da der Beschuldigte seit Jahren drogensüchtig gewesen sei, habe er eben nicht - wie die erste Instanz geltend machte - «ohne weiteres» auf den Konsum illegaler Substanzen verzichten können. Er sei deshalb nicht selbstverschuldet in den psychotischen Zustand geraten. Aus diesem Grund sei er freizusprechen.\n",
    "\n",
    "Zweifel an Aussagen\n",
    "\n",
    "Der Staatsanwalt gab seinem Zweifel an den Ausführungen des Beschuldigten zu seinem Wahnzustand Ausdruck. Bereits das Bezirksgericht hatte sie als unglaubhaft bezeichnet. «Strategische Schutzbehauptungen» seien nicht auszuschliessen.\n",
    "\n",
    "Der Beschuldigte habe von früheren Erfahrungen her genau gewusst, wie verheerend sich sein Drogen- und Medikamentenkonsum auswirken könne. Er war deswegen schon einmal in die Psychiatrie eingewiesen worden. Laut Staatsanwalt verweigerte er aber jede Therapie.\n",
    "\n",
    "Am Nachmittag kommen die Sexualdelikte zur Sprache, für die der jungen Mann ebenfalls erstinstanzlich verurteilt wurde. Das Plädoyer übernimmt dann sein zweiter Anwalt. Die Öffentlichkeit ist von diesem teil der Verhandlung ausgeschlossen. Nur akkreditierte Journalisten und die Familie des Beschuldigten sind zugelassen. Wann die mündliche Urteilseröffnung erfolgt, ist noch offen. (pst/SDA)'''"
   ]
  },
  {
   "cell_type": "code",
   "execution_count": 80,
   "metadata": {},
   "outputs": [],
   "source": [
    "# kommas und ähnlichen scheiss raus\n",
    "tokens = word_tokenize(textzsz)\n",
    "tokens = [word.lower() for word in tokens if word.isalpha()]\n",
    "textzsz_clean = (\" \").join(tokens)"
   ]
  },
  {
   "cell_type": "code",
   "execution_count": 81,
   "metadata": {},
   "outputs": [],
   "source": [
    "#laufen lassen\n",
    "substantive = []\n",
    "adjektive = []\n",
    "verben = []\n",
    "blob = TextBlobDE(textzsz_clean, parser=PatternParser(pprint=False, lemmata=True))\n",
    "for word in blob.tags:\n",
    "    if \"NN\" in word[1]:\n",
    "        substantive.append(word[0])\n",
    "    if \"V\" in word[1]:\n",
    "        verben.append(word[0])\n",
    "    if \"JJ\" in word[1]:\n",
    "        adjektive.append(word[0])"
   ]
  },
  {
   "cell_type": "code",
   "execution_count": 84,
   "metadata": {},
   "outputs": [
    {
     "data": {
      "text/plain": [
       "['dezember',\n",
       " 'villa',\n",
       " 'küsnacht',\n",
       " 'freund',\n",
       " 'kokain',\n",
       " 'ketamin',\n",
       " 'konsumiert',\n",
       " 'gerieten',\n",
       " 'streit',\n",
       " 'beschuldigte',\n",
       " 'freund',\n",
       " 'schädel',\n",
       " 'rammte',\n",
       " 'kerze',\n",
       " 'erwürgte',\n",
       " 'bezirksgericht',\n",
       " 'meilen',\n",
       " 'sohn',\n",
       " 'wohlhabenden',\n",
       " 'juni',\n",
       " 'vorsätzlicher',\n",
       " 'tötung',\n",
       " 'vergewaltigung',\n",
       " 'delikte',\n",
       " 'freiheitsstrafe',\n",
       " 'jahren',\n",
       " 'verurteilt',\n",
       " 'ordnete',\n",
       " 'therapie',\n",
       " 'beschuldigte',\n",
       " 'zeit',\n",
       " 'angefangen',\n",
       " 'fortschritte',\n",
       " 'mann',\n",
       " 'strafvollzug',\n",
       " 'inhaftierung',\n",
       " 'tattag',\n",
       " 'drogen',\n",
       " 'konsumiert',\n",
       " 'medikamente',\n",
       " 'massnahme',\n",
       " 'bete',\n",
       " 'tötungsdelikts',\n",
       " 'aussageverweigerung',\n",
       " 'gebrauch',\n",
       " 'schlusswort',\n",
       " 'angehörigen',\n",
       " 'opfers',\n",
       " 'versicherte',\n",
       " 'tue',\n",
       " 'freund',\n",
       " 'bruder',\n",
       " 'geliebt',\n",
       " 'absicht',\n",
       " 'schäme',\n",
       " 'bereue',\n",
       " 'zutiefst',\n",
       " 'gedanken',\n",
       " 'angehörigen',\n",
       " 'bete',\n",
       " 'zeit',\n",
       " 'verteidiger',\n",
       " 'beschuldigte',\n",
       " 'tatzeit',\n",
       " 'konsum',\n",
       " 'kokain',\n",
       " 'ketamin',\n",
       " 'rausch',\n",
       " 'befunden',\n",
       " 'gutachter',\n",
       " 'einsichtsfähigkeit',\n",
       " 'tötungsdelikt',\n",
       " 'rechenschaft',\n",
       " 'beschuldigte',\n",
       " 'jahren',\n",
       " 'instanz',\n",
       " 'konsum',\n",
       " 'substanzen',\n",
       " 'selbstverschuldet',\n",
       " 'zustand',\n",
       " 'grund',\n",
       " 'zweifel',\n",
       " 'staatsanwalt',\n",
       " 'zweifel',\n",
       " 'ausführungen',\n",
       " 'beschuldigten',\n",
       " 'wahnzustand',\n",
       " 'ausdruck',\n",
       " 'bezirksgericht',\n",
       " 'unglaubhaft',\n",
       " 'schutzbehauptungen',\n",
       " 'auszuschliessen',\n",
       " 'beschuldigte',\n",
       " 'erfahrungen',\n",
       " 'gewusst',\n",
       " 'medikamentenkonsum',\n",
       " 'psychiatrie',\n",
       " 'staatsanwalt',\n",
       " 'verweigerte',\n",
       " 'therapie',\n",
       " 'nachmittag',\n",
       " 'sexualdelikte',\n",
       " 'sprache',\n",
       " 'mann',\n",
       " 'verurteilt',\n",
       " 'plädoyer',\n",
       " 'anwalt',\n",
       " 'öffentlichkeit',\n",
       " 'verhandlung',\n",
       " 'akkreditierte',\n",
       " 'journalisten',\n",
       " 'familie',\n",
       " 'beschuldigten',\n",
       " 'urteilseröffnung']"
      ]
     },
     "execution_count": 84,
     "metadata": {},
     "output_type": "execute_result"
    }
   ],
   "source": [
    "substantive"
   ]
  },
  {
   "cell_type": "code",
   "execution_count": 86,
   "metadata": {},
   "outputs": [
    {
     "data": {
      "text/plain": [
       "['ende',\n",
       " 'elterlichen',\n",
       " 'anderer',\n",
       " 'strafvollzugsbegleitende',\n",
       " 'längerer',\n",
       " 'grosse',\n",
       " 'junge',\n",
       " 'vorzeitigen',\n",
       " 'keine',\n",
       " 'keinerlei',\n",
       " 'glücklich',\n",
       " 'motiviert',\n",
       " 'stationäre',\n",
       " 'leid',\n",
       " 'langjährigen',\n",
       " 'schlimmen',\n",
       " 'laut',\n",
       " 'ausgiebigem',\n",
       " 'medikament',\n",
       " 'psychotischen',\n",
       " 'psychiatrische',\n",
       " 'vollständig',\n",
       " 'drogensüchtig',\n",
       " 'erste',\n",
       " 'geltend',\n",
       " 'illegaler',\n",
       " 'psychotischen',\n",
       " 'geraten',\n",
       " 'freizusprechen',\n",
       " 'strategische',\n",
       " 'früheren',\n",
       " 'verheerend',\n",
       " 'laut',\n",
       " 'jede',\n",
       " 'jungen',\n",
       " 'erstinstanzlich',\n",
       " 'zweiter',\n",
       " 'zugelassen',\n",
       " 'mündliche',\n",
       " 'offen']"
      ]
     },
     "execution_count": 86,
     "metadata": {},
     "output_type": "execute_result"
    }
   ],
   "source": [
    "adjektive"
   ]
  },
  {
   "cell_type": "code",
   "execution_count": 85,
   "metadata": {},
   "outputs": [
    {
     "data": {
      "text/plain": [
       "['hatte',\n",
       " 'schlug',\n",
       " 'hatte',\n",
       " 'hat',\n",
       " 'habe',\n",
       " 'gemacht',\n",
       " 'sagte',\n",
       " 'befindet',\n",
       " 'habe',\n",
       " 'heute',\n",
       " 'nehme',\n",
       " 'bin',\n",
       " 'wäre',\n",
       " 'sagte',\n",
       " 'machte',\n",
       " 'recht',\n",
       " 'wandte',\n",
       " 'tat',\n",
       " 'verzeihen',\n",
       " 'habe',\n",
       " 'habe',\n",
       " 'getötet',\n",
       " 'tat',\n",
       " 'sei',\n",
       " 'hatte',\n",
       " 'auch',\n",
       " 'festgehalten',\n",
       " 'aufgehoben',\n",
       " 'gewesen',\n",
       " 'sei',\n",
       " 'könne',\n",
       " 'gezogen',\n",
       " 'werden',\n",
       " 'gewesen',\n",
       " 'sei',\n",
       " 'habe',\n",
       " 'machte',\n",
       " 'verzichten',\n",
       " 'können',\n",
       " 'sei',\n",
       " 'sei',\n",
       " 'aussagen',\n",
       " 'gab',\n",
       " 'bereits',\n",
       " 'hatte',\n",
       " 'bezeichnet',\n",
       " 'seien',\n",
       " 'habe',\n",
       " 'sein',\n",
       " 'auswirken',\n",
       " 'könne',\n",
       " 'eingewiesen',\n",
       " 'worden',\n",
       " 'kommen',\n",
       " 'wurde',\n",
       " 'übernimmt',\n",
       " 'sein',\n",
       " 'ist',\n",
       " 'ausgeschlossen',\n",
       " 'sind',\n",
       " 'erfolgt',\n",
       " 'ist']"
      ]
     },
     "execution_count": 85,
     "metadata": {},
     "output_type": "execute_result"
    }
   ],
   "source": [
    "verben"
   ]
  },
  {
   "cell_type": "markdown",
   "metadata": {},
   "source": [
    "## Stop word removal\n"
   ]
  },
  {
   "cell_type": "code",
   "execution_count": 87,
   "metadata": {},
   "outputs": [
    {
     "name": "stderr",
     "output_type": "stream",
     "text": [
      "[nltk_data] Downloading package stopwords to\n",
      "[nltk_data]     /Users/martinsteinegger/nltk_data...\n",
      "[nltk_data]   Package stopwords is already up-to-date!\n"
     ]
    }
   ],
   "source": [
    "nltk.download('stopwords')\n",
    "from nltk.corpus import stopwords"
   ]
  },
  {
   "cell_type": "markdown",
   "metadata": {},
   "source": [
    "### Englisch"
   ]
  },
  {
   "cell_type": "code",
   "execution_count": 88,
   "metadata": {},
   "outputs": [
    {
     "data": {
      "text/plain": [
       "['i',\n",
       " 'me',\n",
       " 'my',\n",
       " 'myself',\n",
       " 'we',\n",
       " 'our',\n",
       " 'ours',\n",
       " 'ourselves',\n",
       " 'you',\n",
       " \"you're\",\n",
       " \"you've\",\n",
       " \"you'll\",\n",
       " \"you'd\",\n",
       " 'your',\n",
       " 'yours',\n",
       " 'yourself',\n",
       " 'yourselves',\n",
       " 'he',\n",
       " 'him',\n",
       " 'his',\n",
       " 'himself',\n",
       " 'she',\n",
       " \"she's\",\n",
       " 'her',\n",
       " 'hers',\n",
       " 'herself',\n",
       " 'it',\n",
       " \"it's\",\n",
       " 'its',\n",
       " 'itself',\n",
       " 'they',\n",
       " 'them',\n",
       " 'their',\n",
       " 'theirs',\n",
       " 'themselves',\n",
       " 'what',\n",
       " 'which',\n",
       " 'who',\n",
       " 'whom',\n",
       " 'this',\n",
       " 'that',\n",
       " \"that'll\",\n",
       " 'these',\n",
       " 'those',\n",
       " 'am',\n",
       " 'is',\n",
       " 'are',\n",
       " 'was',\n",
       " 'were',\n",
       " 'be',\n",
       " 'been',\n",
       " 'being',\n",
       " 'have',\n",
       " 'has',\n",
       " 'had',\n",
       " 'having',\n",
       " 'do',\n",
       " 'does',\n",
       " 'did',\n",
       " 'doing',\n",
       " 'a',\n",
       " 'an',\n",
       " 'the',\n",
       " 'and',\n",
       " 'but',\n",
       " 'if',\n",
       " 'or',\n",
       " 'because',\n",
       " 'as',\n",
       " 'until',\n",
       " 'while',\n",
       " 'of',\n",
       " 'at',\n",
       " 'by',\n",
       " 'for',\n",
       " 'with',\n",
       " 'about',\n",
       " 'against',\n",
       " 'between',\n",
       " 'into',\n",
       " 'through',\n",
       " 'during',\n",
       " 'before',\n",
       " 'after',\n",
       " 'above',\n",
       " 'below',\n",
       " 'to',\n",
       " 'from',\n",
       " 'up',\n",
       " 'down',\n",
       " 'in',\n",
       " 'out',\n",
       " 'on',\n",
       " 'off',\n",
       " 'over',\n",
       " 'under',\n",
       " 'again',\n",
       " 'further',\n",
       " 'then',\n",
       " 'once']"
      ]
     },
     "execution_count": 88,
     "metadata": {},
     "output_type": "execute_result"
    }
   ],
   "source": [
    "stopwords.words('english')[0:100]"
   ]
  },
  {
   "cell_type": "code",
   "execution_count": 89,
   "metadata": {},
   "outputs": [
    {
     "data": {
      "text/plain": [
       "['big', 'tree', 'duck']"
      ]
     },
     "execution_count": 89,
     "metadata": {},
     "output_type": "execute_result"
    }
   ],
   "source": [
    "words_engl = [\"the\", \"big\", \"tree\", \"and\", \"the\", \"duck\"]\n",
    "filtered_words = [word for word in words_engl if word not in stopwords.words('english')]\n",
    "filtered_words"
   ]
  },
  {
   "cell_type": "markdown",
   "metadata": {},
   "source": [
    "### Deutsch"
   ]
  },
  {
   "cell_type": "code",
   "execution_count": 90,
   "metadata": {},
   "outputs": [],
   "source": [
    "mylist = stopwords.words('german')"
   ]
  },
  {
   "cell_type": "code",
   "execution_count": 91,
   "metadata": {},
   "outputs": [
    {
     "data": {
      "text/plain": [
       "['wollen',\n",
       " 'einem',\n",
       " 'wieder',\n",
       " 'dass',\n",
       " 'euer',\n",
       " 'anders',\n",
       " 'einige',\n",
       " 'anderes',\n",
       " 'dir',\n",
       " 'welche',\n",
       " 'wo',\n",
       " 'keinen',\n",
       " 'euren',\n",
       " 'zwischen',\n",
       " 'haben',\n",
       " 'um',\n",
       " 'dort',\n",
       " 'unsere',\n",
       " 'deiner',\n",
       " 'zwar',\n",
       " 'hin',\n",
       " 'doch',\n",
       " 'hat',\n",
       " 'jede',\n",
       " 'ihr',\n",
       " 'welches',\n",
       " 'jene',\n",
       " 'während',\n",
       " 'einiger',\n",
       " 'diesem',\n",
       " 'dazu',\n",
       " 'auf',\n",
       " 'oder',\n",
       " 'gegen',\n",
       " 'und',\n",
       " 'des',\n",
       " 'nicht',\n",
       " 'als',\n",
       " 'am',\n",
       " 'aus',\n",
       " 'bei',\n",
       " 'sein',\n",
       " 'jetzt',\n",
       " 'du',\n",
       " 'kann',\n",
       " 'ihres',\n",
       " 'anderen',\n",
       " 'will',\n",
       " 'den',\n",
       " 'meinen',\n",
       " 'würde',\n",
       " 'bist',\n",
       " 'seine',\n",
       " 'an',\n",
       " 'eine',\n",
       " 'hier',\n",
       " 'weil',\n",
       " 'ihren',\n",
       " 'jenem',\n",
       " 'einmal',\n",
       " 'dann',\n",
       " 'sondern',\n",
       " 'so',\n",
       " 'desselben',\n",
       " 'ihre',\n",
       " 'unserem',\n",
       " 'unseres',\n",
       " 'wirst',\n",
       " 'zur',\n",
       " 'ins',\n",
       " 'alles',\n",
       " 'sich',\n",
       " 'dich',\n",
       " 'muss',\n",
       " 'ihn',\n",
       " 'solchem',\n",
       " 'diese',\n",
       " 'seinen',\n",
       " 'demselben',\n",
       " 'deines',\n",
       " 'ander',\n",
       " 'dessen',\n",
       " 'in',\n",
       " 'indem',\n",
       " 'jener',\n",
       " 'machen',\n",
       " 'wir',\n",
       " 'dieselbe',\n",
       " 'derer',\n",
       " 'könnte',\n",
       " 'wie',\n",
       " 'über',\n",
       " 'ihnen',\n",
       " 'mich',\n",
       " 'hinter',\n",
       " 'deine',\n",
       " 'noch',\n",
       " 'solcher',\n",
       " 'solches',\n",
       " 'manchem',\n",
       " 'denselben',\n",
       " 'eurer',\n",
       " 'solche',\n",
       " 'viel',\n",
       " 'ihrer',\n",
       " 'seines',\n",
       " 'dieselben',\n",
       " 'sie',\n",
       " 'jeden',\n",
       " 'weiter',\n",
       " 'solchen',\n",
       " 'wollte',\n",
       " 'einiges',\n",
       " 'uns',\n",
       " 'alle',\n",
       " 'habe',\n",
       " 'mein',\n",
       " 'dasselbe',\n",
       " 'mancher',\n",
       " 'von',\n",
       " 'euch',\n",
       " 'eure',\n",
       " 'welchen',\n",
       " 'dein',\n",
       " 'nach',\n",
       " 'dieser',\n",
       " 'keiner',\n",
       " 'mit',\n",
       " 'damit',\n",
       " 'musste',\n",
       " 'durch',\n",
       " 'werde',\n",
       " 'meines',\n",
       " 'nun',\n",
       " 'da',\n",
       " 'gewesen',\n",
       " 'ist',\n",
       " 'meine',\n",
       " 'andern',\n",
       " 'keinem',\n",
       " 'einig',\n",
       " 'unser',\n",
       " 'warst',\n",
       " 'bis',\n",
       " 'dem',\n",
       " 'allem',\n",
       " 'deinem',\n",
       " 'dies',\n",
       " 'hatten',\n",
       " 'jeder',\n",
       " 'einigen',\n",
       " 'seiner',\n",
       " 'dieses',\n",
       " 'eines',\n",
       " 'würden',\n",
       " 'anderr',\n",
       " 'wird',\n",
       " 'etwas',\n",
       " 'das',\n",
       " 'weg',\n",
       " 'er',\n",
       " 'anderer',\n",
       " 'kein',\n",
       " 'bin',\n",
       " 'manche',\n",
       " 'meinem',\n",
       " 'sehr',\n",
       " 'unseren',\n",
       " 'manches',\n",
       " 'hab',\n",
       " 'einer',\n",
       " 'manchen',\n",
       " 'also',\n",
       " 'können',\n",
       " 'waren',\n",
       " 'zum',\n",
       " 'andere',\n",
       " 'keines',\n",
       " 'war',\n",
       " 'welchem',\n",
       " 'deinen',\n",
       " 'sollte',\n",
       " 'welcher',\n",
       " 'anderm',\n",
       " 'vom',\n",
       " 'einigem',\n",
       " 'es',\n",
       " 'aller',\n",
       " 'ein',\n",
       " 'ihrem',\n",
       " 'im',\n",
       " 'jedem',\n",
       " 'jenen',\n",
       " 'man',\n",
       " 'allen',\n",
       " 'sonst',\n",
       " 'keine',\n",
       " 'wenn',\n",
       " 'soll',\n",
       " 'werden',\n",
       " 'für',\n",
       " 'die',\n",
       " 'jenes',\n",
       " 'auch',\n",
       " 'ob',\n",
       " 'seinem',\n",
       " 'ihm',\n",
       " 'vor',\n",
       " 'aber',\n",
       " 'derselben',\n",
       " 'selbst',\n",
       " 'ohne',\n",
       " 'unter',\n",
       " 'eurem',\n",
       " 'derselbe',\n",
       " 'nichts',\n",
       " 'daß',\n",
       " 'diesen',\n",
       " 'eures',\n",
       " 'hatte',\n",
       " 'nur',\n",
       " 'sind',\n",
       " 'jedes',\n",
       " 'einen',\n",
       " 'zu',\n",
       " 'mir',\n",
       " 'anderem',\n",
       " 'was',\n",
       " 'meiner',\n",
       " 'der',\n",
       " 'denn']"
      ]
     },
     "execution_count": 91,
     "metadata": {},
     "output_type": "execute_result"
    }
   ],
   "source": [
    "my_new_list = list(set(mylist)- set([\"ich\"]))\n",
    "my_new_list"
   ]
  },
  {
   "cell_type": "code",
   "execution_count": 93,
   "metadata": {},
   "outputs": [
    {
     "data": {
      "text/plain": [
       "['wald', 'spazieren']"
      ]
     },
     "execution_count": 93,
     "metadata": {},
     "output_type": "execute_result"
    }
   ],
   "source": [
    "words_german = [\"ich\", \"war\", \"im\", \"wald\", \"spazieren\"]\n",
    "filtered_words = [word for word in words_german if word not in stopwords.words('german')]\n",
    "filtered_words"
   ]
  },
  {
   "cell_type": "markdown",
   "metadata": {},
   "source": [
    "## Wordle 2.0"
   ]
  },
  {
   "cell_type": "markdown",
   "metadata": {},
   "source": [
    "- Tokenization\n",
    "- Lemmatization"
   ]
  },
  {
   "cell_type": "code",
   "execution_count": 94,
   "metadata": {},
   "outputs": [],
   "source": [
    "text = (\" \").join(udhr.words(\"German_Deutsch-Latin1\"))\n",
    "# tokenize and lemmatize\n",
    "words = word_tokenize(text)\n",
    "words_german =[word.lower() for word in words if word.isalpha()]\n",
    "lemma = nltk.WordNetLemmatizer()\n",
    "lemmas = [lemma.lemmatize(i) for i in words_german]\n",
    "clean_blob = lemmas"
   ]
  },
  {
   "cell_type": "markdown",
   "metadata": {},
   "source": [
    "- Numbers etc.. removal\n",
    "- Stop word removal"
   ]
  },
  {
   "cell_type": "code",
   "execution_count": 95,
   "metadata": {},
   "outputs": [
    {
     "data": {
      "text/plain": [
       "['allgemeine',\n",
       " 'erklärung',\n",
       " 'menschenrechte',\n",
       " 'resolution',\n",
       " 'a',\n",
       " 'iii',\n",
       " 'präambel',\n",
       " 'anerkennung',\n",
       " 'angeborenen',\n",
       " 'gleichen',\n",
       " 'unveräußerlichen',\n",
       " 'rechte',\n",
       " 'mitglieder',\n",
       " 'gemeinschaft',\n",
       " 'menschen',\n",
       " 'grundlage',\n",
       " 'freiheit',\n",
       " 'gerechtigkeit',\n",
       " 'frieden',\n",
       " 'welt']"
      ]
     },
     "execution_count": 95,
     "metadata": {},
     "output_type": "execute_result"
    }
   ],
   "source": [
    "from nltk.corpus import stopwords\n",
    "words_alpha =[word.lower() for word in clean_blob if word.isalpha()]\n",
    "stopwords = stopwords.words('german')\n",
    "stopwords.append(\"jede\")\n",
    "result = [word for word in words_alpha if word not in stopwords]\n",
    "result[0:20]"
   ]
  },
  {
   "cell_type": "code",
   "execution_count": 96,
   "metadata": {},
   "outputs": [
    {
     "data": {
      "text/plain": [
       "['allgemeine',\n",
       " 'erklärung',\n",
       " 'menschenrechte',\n",
       " 'resolution',\n",
       " 'a',\n",
       " 'iii',\n",
       " 'präambel',\n",
       " 'anerkennung',\n",
       " 'angeborenen',\n",
       " 'gleichen',\n",
       " 'unveräußerlichen',\n",
       " 'rechte',\n",
       " 'mitglieder',\n",
       " 'gemeinschaft',\n",
       " 'menschen',\n",
       " 'grundlage',\n",
       " 'freiheit',\n",
       " 'gerechtigkeit',\n",
       " 'frieden',\n",
       " 'welt']"
      ]
     },
     "execution_count": 96,
     "metadata": {},
     "output_type": "execute_result"
    }
   ],
   "source": [
    "result[0:20]"
   ]
  },
  {
   "cell_type": "code",
   "execution_count": 97,
   "metadata": {},
   "outputs": [],
   "source": [
    "text = (\" \").join(result)"
   ]
  },
  {
   "cell_type": "code",
   "execution_count": 98,
   "metadata": {},
   "outputs": [],
   "source": [
    " a = [123,\n",
    "     123]"
   ]
  },
  {
   "cell_type": "code",
   "execution_count": 100,
   "metadata": {},
   "outputs": [
    {
     "data": {
      "image/png": "[encoded data removed]",
      "text/plain": [
       "<Figure size 1080x576 with 1 Axes>"
      ]
     },
     "metadata": {
      "needs_background": "light"
     },
     "output_type": "display_data"
    }
   ],
   "source": [
    "from wordcloud import WordCloud\n",
    "import matplotlib.pyplot as plt\n",
    "import numpy as np\n",
    "from PIL import Image\n",
    "import os\n",
    "from os import path\n",
    "d = path.dirname(__file__) if \"__file__\" in locals() else os.getcwd()\n",
    "\n",
    "maske = np.array(Image.open(path.join(d, \"maske.png\")))\n",
    "\n",
    "wc = WordCloud(background_color=\"white\", max_words=2000, mask=maske, contour_width=3, contour_color='steelblue',collocations=False, normalize_plurals=False)\n",
    "wc.generate(text)\n",
    "plt.figure(figsize=(15,8))\n",
    "plt.imshow(wc, interpolation=\"bilinear\")\n",
    "plt.axis(\"off\")\n",
    "plt.show()"
   ]
  },
  {
   "cell_type": "code",
   "execution_count": 102,
   "metadata": {},
   "outputs": [],
   "source": [
    "text = textzsz\n",
    "# tokenize and lemmatize\n",
    "words = word_tokenize(textzsz)\n",
    "words_german =[word.lower() for word in words if word.isalpha()]\n",
    "lemma = nltk.WordNetLemmatizer()\n",
    "lemmas = [lemma.lemmatize(i) for i in words_german]\n",
    "clean_blob = lemmas"
   ]
  },
  {
   "cell_type": "code",
   "execution_count": 103,
   "metadata": {},
   "outputs": [
    {
     "data": {
      "text/plain": [
       "['ende',\n",
       " 'dezember',\n",
       " 'damals',\n",
       " 'elterlichen',\n",
       " 'villa',\n",
       " 'küsnacht',\n",
       " 'freund',\n",
       " 'kokain',\n",
       " 'ketamin',\n",
       " 'konsumiert',\n",
       " 'beiden',\n",
       " 'gerieten',\n",
       " 'streit',\n",
       " 'beschuldigte',\n",
       " 'schlug',\n",
       " 'freund',\n",
       " 'schädel',\n",
       " 'rammte',\n",
       " 'kerze',\n",
       " 'rachen']"
      ]
     },
     "execution_count": 103,
     "metadata": {},
     "output_type": "execute_result"
    }
   ],
   "source": [
    "from nltk.corpus import stopwords\n",
    "words_alpha =[word.lower() for word in clean_blob if word.isalpha()]\n",
    "stopwords = stopwords.words('german')\n",
    "stopwords.append(\"jede\")\n",
    "result = [word for word in words_alpha if word not in stopwords]\n",
    "result[0:20]"
   ]
  },
  {
   "cell_type": "code",
   "execution_count": 104,
   "metadata": {},
   "outputs": [
    {
     "data": {
      "text/plain": [
       "['ende',\n",
       " 'dezember',\n",
       " 'damals',\n",
       " 'elterlichen',\n",
       " 'villa',\n",
       " 'küsnacht',\n",
       " 'freund',\n",
       " 'kokain',\n",
       " 'ketamin',\n",
       " 'konsumiert',\n",
       " 'beiden',\n",
       " 'gerieten',\n",
       " 'streit',\n",
       " 'beschuldigte',\n",
       " 'schlug',\n",
       " 'freund',\n",
       " 'schädel',\n",
       " 'rammte',\n",
       " 'kerze',\n",
       " 'rachen']"
      ]
     },
     "execution_count": 104,
     "metadata": {},
     "output_type": "execute_result"
    }
   ],
   "source": [
    "result[0:20]"
   ]
  },
  {
   "cell_type": "code",
   "execution_count": 105,
   "metadata": {},
   "outputs": [],
   "source": [
    "text = (\" \").join(result)"
   ]
  },
  {
   "cell_type": "code",
   "execution_count": 106,
   "metadata": {},
   "outputs": [],
   "source": [
    " a = [123,\n",
    "     123]"
   ]
  },
  {
   "cell_type": "code",
   "execution_count": 107,
   "metadata": {},
   "outputs": [
    {
     "data": {
      "image/png": "[encoded data removed]",
      "text/plain": [
       "<Figure size 1080x576 with 1 Axes>"
      ]
     },
     "metadata": {
      "needs_background": "light"
     },
     "output_type": "display_data"
    }
   ],
   "source": [
    "from wordcloud import WordCloud\n",
    "import matplotlib.pyplot as plt\n",
    "import numpy as np\n",
    "from PIL import Image\n",
    "import os\n",
    "from os import path\n",
    "d = path.dirname(__file__) if \"__file__\" in locals() else os.getcwd()\n",
    "\n",
    "maske = np.array(Image.open(path.join(d, \"maske.png\")))\n",
    "\n",
    "wc = WordCloud(background_color=\"white\", max_words=2000, mask=maske, contour_width=3, contour_color='steelblue',collocations=False, normalize_plurals=False)\n",
    "wc.generate(text)\n",
    "plt.figure(figsize=(15,8))\n",
    "plt.imshow(wc, interpolation=\"bilinear\")\n",
    "plt.axis(\"off\")\n",
    "plt.show()"
   ]
  },
  {
   "cell_type": "code",
   "execution_count": null,
   "metadata": {},
   "outputs": [],
   "source": []
  }
 ],
 "metadata": {
  "kernelspec": {
   "display_name": "Python 3",
   "language": "python",
   "name": "python3"
  },
  "language_info": {
   "codemirror_mode": {
    "name": "ipython",
    "version": 3
   },
   "file_extension": ".py",
   "mimetype": "text/x-python",
   "name": "python",
   "nbconvert_exporter": "python",
   "pygments_lexer": "ipython3",
   "version": "3.7.4"
  }
 },
 "nbformat": 4,
 "nbformat_minor": 2
}
