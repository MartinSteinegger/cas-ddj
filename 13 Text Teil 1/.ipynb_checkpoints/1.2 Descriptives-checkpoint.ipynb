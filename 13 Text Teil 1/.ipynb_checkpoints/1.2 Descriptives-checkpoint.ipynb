{
 "cells": [
  {
   "cell_type": "markdown",
   "metadata": {},
   "source": [
    "# Agenda\n",
    "- Vokabular\n",
    "- Reichhaltigkeit\n",
    "- Filtern nach Länge\n",
    "- Frequency distribution\n",
    "- Bigrams \n",
    "- Concordance\n",
    "- Ähnlichkeit\n",
    "- Dispersionsplot\n",
    "- Wordcloud 2.0"
   ]
  },
  {
   "cell_type": "code",
   "execution_count": 1,
   "metadata": {},
   "outputs": [],
   "source": [
    "import nltk"
   ]
  },
  {
   "cell_type": "code",
   "execution_count": 2,
   "metadata": {},
   "outputs": [
    {
     "name": "stdout",
     "output_type": "stream",
     "text": [
      "*** Introductory Examples for the NLTK Book ***\n",
      "Loading text1, ..., text9 and sent1, ..., sent9\n",
      "Type the name of the text or sentence to view it.\n",
      "Type: 'texts()' or 'sents()' to list the materials.\n",
      "text1: Moby Dick by Herman Melville 1851\n",
      "text2: Sense and Sensibility by Jane Austen 1811\n",
      "text3: The Book of Genesis\n",
      "text4: Inaugural Address Corpus\n",
      "text5: Chat Corpus\n",
      "text6: Monty Python and the Holy Grail\n",
      "text7: Wall Street Journal\n",
      "text8: Personals Corpus\n",
      "text9: The Man Who Was Thursday by G . K . Chesterton 1908\n"
     ]
    }
   ],
   "source": [
    "from nltk.book import *"
   ]
  },
  {
   "cell_type": "markdown",
   "metadata": {},
   "source": [
    "# Vokabular\n",
    "- Wie groß ist das Vokabular von Moby Dick?"
   ]
  },
  {
   "cell_type": "code",
   "execution_count": 3,
   "metadata": {},
   "outputs": [
    {
     "data": {
      "text/plain": [
       "3"
      ]
     },
     "execution_count": 3,
     "metadata": {},
     "output_type": "execute_result"
    }
   ],
   "source": [
    "a = [1,3,3,5]\n",
    "len(set(a))"
   ]
  },
  {
   "cell_type": "code",
   "execution_count": 4,
   "metadata": {},
   "outputs": [
    {
     "data": {
      "text/plain": [
       "19317"
      ]
     },
     "execution_count": 4,
     "metadata": {},
     "output_type": "execute_result"
    }
   ],
   "source": [
    "len(set(text1))"
   ]
  },
  {
   "cell_type": "code",
   "execution_count": 5,
   "metadata": {},
   "outputs": [
    {
     "data": {
      "text/plain": [
       "0.07406285585022564"
      ]
     },
     "execution_count": 5,
     "metadata": {},
     "output_type": "execute_result"
    }
   ],
   "source": [
    "#quotient errechnen\n",
    "len(set(text1)) / float(len(text1))"
   ]
  },
  {
   "cell_type": "markdown",
   "metadata": {},
   "source": [
    "- Das von Sense and Sensibility von Jane Austen?"
   ]
  },
  {
   "cell_type": "code",
   "execution_count": 6,
   "metadata": {},
   "outputs": [
    {
     "data": {
      "text/plain": [
       "6833"
      ]
     },
     "execution_count": 6,
     "metadata": {},
     "output_type": "execute_result"
    }
   ],
   "source": [
    "len(set(text2))"
   ]
  },
  {
   "cell_type": "code",
   "execution_count": 7,
   "metadata": {},
   "outputs": [
    {
     "data": {
      "text/plain": [
       "0.04826383002768831"
      ]
     },
     "execution_count": 7,
     "metadata": {},
     "output_type": "execute_result"
    }
   ],
   "source": [
    "len(set(text2)) / float(len(text2))"
   ]
  },
  {
   "cell_type": "code",
   "execution_count": 8,
   "metadata": {},
   "outputs": [
    {
     "name": "stderr",
     "output_type": "stream",
     "text": [
      "[nltk_data] Downloading package punkt to\n",
      "[nltk_data]     /Users/martinsteinegger/nltk_data...\n",
      "[nltk_data]   Package punkt is already up-to-date!\n"
     ]
    },
    {
     "data": {
      "text/plain": [
       "578"
      ]
     },
     "execution_count": 8,
     "metadata": {},
     "output_type": "execute_result"
    }
   ],
   "source": [
    "from nltk.corpus import udhr\n",
    "nltk.download(\"punkt\")\n",
    "sample = (\" \").join(udhr.words(\"German_Deutsch-Latin1\"))\n",
    "tokens = nltk.word_tokenize(sample)\n",
    "menschenrechtserklaerungs_text = nltk.Text(tokens)\n",
    "len(set(menschenrechtserklaerungs_text))"
   ]
  },
  {
   "cell_type": "code",
   "execution_count": 9,
   "metadata": {},
   "outputs": [
    {
     "name": "stderr",
     "output_type": "stream",
     "text": [
      "[nltk_data] Downloading package inaugural to\n",
      "[nltk_data]     /Users/martinsteinegger/nltk_data...\n",
      "[nltk_data]   Package inaugural is already up-to-date!\n"
     ]
    }
   ],
   "source": [
    "nltk.download('inaugural')\n",
    "from nltk.corpus import inaugural"
   ]
  },
  {
   "cell_type": "code",
   "execution_count": 10,
   "metadata": {},
   "outputs": [
    {
     "data": {
      "text/plain": [
       "582"
      ]
     },
     "execution_count": 10,
     "metadata": {},
     "output_type": "execute_result"
    }
   ],
   "source": [
    "trump = inaugural.words(\"2017-Trump.txt\")\n",
    "len(set(trump))"
   ]
  },
  {
   "cell_type": "code",
   "execution_count": 11,
   "metadata": {},
   "outputs": [
    {
     "data": {
      "text/plain": [
       "0.34376845835794445"
      ]
     },
     "execution_count": 11,
     "metadata": {},
     "output_type": "execute_result"
    }
   ],
   "source": [
    "len(set(trump)) / float(len(trump))"
   ]
  },
  {
   "cell_type": "code",
   "execution_count": 12,
   "metadata": {},
   "outputs": [
    {
     "data": {
      "text/plain": [
       "570"
      ]
     },
     "execution_count": 12,
     "metadata": {},
     "output_type": "execute_result"
    }
   ],
   "source": [
    "kennedy = inaugural.words(\"1961-Kennedy.txt\")\n",
    "len(set(kennedy))"
   ]
  },
  {
   "cell_type": "code",
   "execution_count": 13,
   "metadata": {},
   "outputs": [
    {
     "data": {
      "text/plain": [
       "0.36869340232858994"
      ]
     },
     "execution_count": 13,
     "metadata": {},
     "output_type": "execute_result"
    }
   ],
   "source": [
    "len(set(kennedy)) / float(len(kennedy))"
   ]
  },
  {
   "cell_type": "code",
   "execution_count": 14,
   "metadata": {},
   "outputs": [
    {
     "data": {
      "text/plain": [
       "643"
      ]
     },
     "execution_count": 14,
     "metadata": {},
     "output_type": "execute_result"
    }
   ],
   "source": [
    "clinton = inaugural.words(\"1993-Clinton.txt\")\n",
    "len(set(clinton))"
   ]
  },
  {
   "cell_type": "code",
   "execution_count": 15,
   "metadata": {},
   "outputs": [
    {
     "data": {
      "text/plain": [
       "0.34663072776280324"
      ]
     },
     "execution_count": 15,
     "metadata": {},
     "output_type": "execute_result"
    }
   ],
   "source": [
    "len(set(clinton)) / float(len(clinton))"
   ]
  },
  {
   "cell_type": "code",
   "execution_count": 16,
   "metadata": {},
   "outputs": [
    {
     "data": {
      "text/plain": [
       "774"
      ]
     },
     "execution_count": 16,
     "metadata": {},
     "output_type": "execute_result"
    }
   ],
   "source": [
    "clinton2 = inaugural.words(\"1997-Clinton.txt\")\n",
    "len(set(clinton2))"
   ]
  },
  {
   "cell_type": "code",
   "execution_count": 17,
   "metadata": {},
   "outputs": [
    {
     "data": {
      "text/plain": [
       "0.314378554021121"
      ]
     },
     "execution_count": 17,
     "metadata": {},
     "output_type": "execute_result"
    }
   ],
   "source": [
    "len(set(clinton2)) / float(len(clinton2))"
   ]
  },
  {
   "cell_type": "markdown",
   "metadata": {},
   "source": [
    "# Reichhaltigkeit\n",
    "- Welcher text ist am reichhaltigesten d.h. das größte Vokabular pro Wort?\n",
    "- Maximaler Quotient ist 1: 100 verschiedene wörter / 100 wörter insgesammt = 1"
   ]
  },
  {
   "cell_type": "code",
   "execution_count": 18,
   "metadata": {},
   "outputs": [
    {
     "data": {
      "text/plain": [
       "0.07406285585022564"
      ]
     },
     "execution_count": 18,
     "metadata": {},
     "output_type": "execute_result"
    }
   ],
   "source": [
    "# Moby Dick\n",
    "len(set(text1)) / float(len(text1))"
   ]
  },
  {
   "cell_type": "code",
   "execution_count": 19,
   "metadata": {},
   "outputs": [
    {
     "data": {
      "text/plain": [
       "0.04826383002768831"
      ]
     },
     "execution_count": 19,
     "metadata": {},
     "output_type": "execute_result"
    }
   ],
   "source": [
    "# Jane Austen\n",
    "len(set(text2)) / float(len(text2))"
   ]
  },
  {
   "cell_type": "code",
   "execution_count": 20,
   "metadata": {},
   "outputs": [
    {
     "data": {
      "text/plain": [
       "0.3797634691195795"
      ]
     },
     "execution_count": 20,
     "metadata": {},
     "output_type": "execute_result"
    }
   ],
   "source": [
    "# Menschenrechtserklärung\n",
    "len(set(menschenrechtserklaerungs_text)) / float(len(menschenrechtserklaerungs_text))"
   ]
  },
  {
   "cell_type": "markdown",
   "metadata": {},
   "source": [
    "Anscheinend ist die Menschenrechtserklärung am reichhaltigsten oder am kompliziertesten? (Es ist kein fairer Vergleich :) "
   ]
  },
  {
   "cell_type": "markdown",
   "metadata": {},
   "source": [
    "# Filtern \n",
    "- nach Wörtern bestimmter länge"
   ]
  },
  {
   "cell_type": "code",
   "execution_count": 21,
   "metadata": {},
   "outputs": [
    {
     "data": {
      "text/plain": [
       "['uninterpenetratingly']"
      ]
     },
     "execution_count": 21,
     "metadata": {},
     "output_type": "execute_result"
    }
   ],
   "source": [
    "# Moby Dick\n",
    "V = set(text1)\n",
    "long_words = [w for w in V if len(w) > 18]\n",
    "sorted(long_words)"
   ]
  },
  {
   "cell_type": "code",
   "execution_count": 22,
   "metadata": {},
   "outputs": [
    {
     "data": {
      "text/plain": [
       "['Arbeitsbedingungen',\n",
       " 'Arbeitslosigkeit',\n",
       " 'Beeinträchtigungen',\n",
       " 'Berufsschulunterricht',\n",
       " 'Berücksichtigung',\n",
       " 'Generalversammlung',\n",
       " 'Glaubensfreiheit',\n",
       " 'Gleichberechtigung',\n",
       " 'Grundschulunterricht',\n",
       " 'Hochschulunterricht',\n",
       " 'Lebensbedingungen',\n",
       " 'Meinungsfreiheit',\n",
       " 'Meinungsäußerung',\n",
       " 'Nichtanerkennung',\n",
       " 'Religionsfreiheit',\n",
       " 'Staatsangehörigkeit',\n",
       " 'Staatsanghörigkeit',\n",
       " 'Unterhaltsmittel',\n",
       " 'freundschaftlicher',\n",
       " 'innerstaatlichem',\n",
       " 'innerstaatlichen',\n",
       " 'nichtpolitischer',\n",
       " 'strafrechtlichen',\n",
       " 'uneingeschränkter',\n",
       " 'unveräußerlichen',\n",
       " 'wirtschaftlichen',\n",
       " 'zusammenzuschließen']"
      ]
     },
     "execution_count": 22,
     "metadata": {},
     "output_type": "execute_result"
    }
   ],
   "source": [
    "# Menschenrechtserklärung\n",
    "V = set(menschenrechtserklaerungs_text)\n",
    "long_words = [w for w in V if len(w) > 15]\n",
    "sorted(long_words)"
   ]
  },
  {
   "cell_type": "markdown",
   "metadata": {},
   "source": [
    "- nach Länge und Frequenz"
   ]
  },
  {
   "cell_type": "code",
   "execution_count": 23,
   "metadata": {},
   "outputs": [
    {
     "data": {
      "text/plain": [
       "FreqDist({',': 18713, 'the': 13721, '.': 6862, 'of': 6536, 'and': 6024, 'a': 4569, 'to': 4542, ';': 4072, 'in': 3916, 'that': 2982, ...})"
      ]
     },
     "execution_count": 23,
     "metadata": {},
     "output_type": "execute_result"
    }
   ],
   "source": [
    "fdist1 = FreqDist(text1)\n",
    "fdist1"
   ]
  },
  {
   "cell_type": "code",
   "execution_count": 24,
   "metadata": {},
   "outputs": [
    {
     "data": {
      "text/plain": [
       "['Mediterranean',\n",
       " 'circumstances',\n",
       " 'consternation',\n",
       " 'indispensable',\n",
       " 'involuntarily',\n",
       " 'peculiarities',\n",
       " 'perpendicular',\n",
       " 'simultaneously',\n",
       " 'superstitious',\n",
       " 'unaccountable']"
      ]
     },
     "execution_count": 24,
     "metadata": {},
     "output_type": "execute_result"
    }
   ],
   "source": [
    "# Wörter die in Moby Dick mind. 12 buchstaben lang sind und mind. 8 mal vorkommen\n",
    "sorted(w for w in set(text1) if len(w) > 12 and fdist1[w] > 8)"
   ]
  },
  {
   "cell_type": "code",
   "execution_count": 25,
   "metadata": {},
   "outputs": [
    {
     "data": {
      "text/plain": [
       "FreqDist({',': 106, '.': 89, 'and': 70, 'the': 65, 'of': 48, 'our': 47, 'will': 43, 'to': 37, 'We': 26, 'we': 24, ...})"
      ]
     },
     "execution_count": 25,
     "metadata": {},
     "output_type": "execute_result"
    }
   ],
   "source": [
    "fdist2 = FreqDist(trump)\n",
    "fdist2"
   ]
  },
  {
   "cell_type": "code",
   "execution_count": 26,
   "metadata": {},
   "outputs": [
    {
     "data": {
      "text/plain": [
       "['America', 'American', 'Nation', 'country', 'people']"
      ]
     },
     "execution_count": 26,
     "metadata": {},
     "output_type": "execute_result"
    }
   ],
   "source": [
    "sorted(w for w in set(trump) if len(w) > 5 and fdist2[w] > 5)"
   ]
  },
  {
   "cell_type": "code",
   "execution_count": 27,
   "metadata": {},
   "outputs": [
    {
     "data": {
      "text/plain": [
       "FreqDist({',': 85, 'the': 83, 'of': 65, '.': 51, 'to': 38, 'and': 37, 'a': 29, 'we': 27, '--': 25, 'in': 24, ...})"
      ]
     },
     "execution_count": 27,
     "metadata": {},
     "output_type": "execute_result"
    }
   ],
   "source": [
    "fdist3 = FreqDist(kennedy)\n",
    "fdist3"
   ]
  },
  {
   "cell_type": "code",
   "execution_count": 28,
   "metadata": {},
   "outputs": [
    {
     "data": {
      "text/plain": [
       "['citizens', 'pledge', 'power', 'shall', 'sides', 'those', 'which', 'world']"
      ]
     },
     "execution_count": 28,
     "metadata": {},
     "output_type": "execute_result"
    }
   ],
   "source": [
    "sorted(w for w in set(kennedy) if len(w) > 4 and fdist3[w] > 4)"
   ]
  },
  {
   "cell_type": "markdown",
   "metadata": {},
   "source": [
    "# Verteilung\n",
    "- Welches Wort kommt in Moby Dick am häufigsten vor?\n",
    "- https://www.youtube.com/watch?v=rF-hq_CHNH0"
   ]
  },
  {
   "cell_type": "code",
   "execution_count": 29,
   "metadata": {},
   "outputs": [
    {
     "data": {
      "image/png": "[encoded data removed]",
      "text/plain": [
       "<IPython.core.display.Image object>"
      ]
     },
     "execution_count": 29,
     "metadata": {},
     "output_type": "execute_result"
    }
   ],
   "source": [
    "from IPython.display import Image\n",
    "Image(\"frequency.png\")"
   ]
  },
  {
   "cell_type": "code",
   "execution_count": 30,
   "metadata": {},
   "outputs": [
    {
     "data": {
      "text/plain": [
       "FreqDist({',': 18713, 'the': 13721, '.': 6862, 'of': 6536, 'and': 6024, 'a': 4569, 'to': 4542, ';': 4072, 'in': 3916, 'that': 2982, ...})"
      ]
     },
     "execution_count": 30,
     "metadata": {},
     "output_type": "execute_result"
    }
   ],
   "source": [
    "fdist = FreqDist(text1)\n",
    "fdist"
   ]
  },
  {
   "cell_type": "code",
   "execution_count": 31,
   "metadata": {},
   "outputs": [],
   "source": [
    "#fdist.plot(30, cumulative=True)"
   ]
  },
  {
   "cell_type": "markdown",
   "metadata": {},
   "source": [
    "- Jedes zusätzliche Wort kommt immer weniger oft vor (diminishing returns)"
   ]
  },
  {
   "cell_type": "markdown",
   "metadata": {},
   "source": [
    "- Welches Wort kommt in meinem Satz am häufigsten vor?"
   ]
  },
  {
   "cell_type": "code",
   "execution_count": 32,
   "metadata": {},
   "outputs": [],
   "source": [
    "sample = '''Ich war heute im wald spazieren und sah ein reh. Wobeich ich nicht sicher war ob es ein Reh war oder ein Geist.'''"
   ]
  },
  {
   "cell_type": "code",
   "execution_count": 33,
   "metadata": {},
   "outputs": [
    {
     "data": {
      "text/plain": [
       "FreqDist({'war': 3, 'ein': 3, '.': 2, 'Ich': 1, 'heute': 1, 'im': 1, 'wald': 1, 'spazieren': 1, 'und': 1, 'sah': 1, ...})"
      ]
     },
     "execution_count": 33,
     "metadata": {},
     "output_type": "execute_result"
    }
   ],
   "source": [
    "tokens = nltk.word_tokenize(sample)\n",
    "text = nltk.Text(tokens)\n",
    "fdist = FreqDist(text)\n",
    "fdist"
   ]
  },
  {
   "cell_type": "code",
   "execution_count": 34,
   "metadata": {},
   "outputs": [],
   "source": [
    "#beispiel zsz-tex\n",
    "sample2 = '''Letztlich war es eine klare Sache. So sehr die Gegner im Hinblick auf den 17. November auch Stimmung gemacht haben: Die Wädenswiler haben am Sonntag dem privaten Gestaltungsplan Au-Park zu gestimmt. Und zwar deutlich, mit 4210 Ja- gegen 2533 Nein-Stimmen. Dies bei einer Stimmbeteiligung von 43,5 Prozent.\n",
    "\n",
    "Damit haben die Wädenswiler grünes Licht gegeben für eine Entwicklung des ehemaligen Alcatel-Areals in der Au. Dort steht heute der Gebäudekomplex Au-Center, ein ehemaliger Industriebau, der heute nur noch teilweise genutzt wird. Grundeigentümerin des 43'000 Quadratmeter grossen Areals ist die Intershop AG, die zu einem Teil Martin Ebner gehört. Sie plant auf dem Areal 200 bis 300 Wohnungen, mindestens ein Verkaufsgeschäft, einen öffentlicher Park, sowie die Kantonsschule Zimmerberg. Das Richtprojekt, welches dem Gestaltungsplan zu Grund liegt, sieht sieben Gebäude – drei für die Kantonsschule – und im Zentrum einen Park vor.\n",
    "\n",
    "Umzonung ist nun Tatsache\n",
    "\n",
    "Nach dem Ja kann die Eigentümerin nun die konkrete Planung des Areals angehen. Denn das Ja zum Gestaltungsplan war Voraussetzung dafür, dass die Umzonung der heutigen Industriezone in eine Mischzone Wohnen und Gewerbe in Kraft tritt. Der Gemeinderat hatte diese bereits im Juli beschlossen. Auch hatte er damals dem Gestaltungsplan zugestimmt. Gegen letzteren Beschluss haben zwölf Gemeinderatsmitglieder das Referendum ergriffen. Darum ist das Geschäft an die Urne gekommen. Die Stimmberechtigten haben nun also den gleichen Beschluss gefasst wie ihr Parlament.\n",
    "\n",
    "Erfreut über das Abstimmungsresultat ist Wädenswils Stadtpräsident Philipp Kutter (CVP). «Ich bin sehr zufrieden, dass die Wädenswiler so deutlich Ja gesagt haben zum Gestaltungsplan Au-Park. Nun kann dort neues Leben einziehen.» Er sei «leicht überrascht», dass die Zustimmung in dieser Deutlichkeit ausgefallen sei.\n",
    "\n",
    "«Zügig vorantreiben»\n",
    "\n",
    "Warum dem so ist, dazu wagt Kutter kein abschliessendes Urteil. Zwei Argumente seien sicher gewichtig gewesen: die Kantonsschule und dass auf dem Areal 50 bis 60 bezahlbare Wohnungen entstehen, die vermutlich dereinst an eine Baugenossenschaft abgegeben werden. «Das ist ein Anliegen, das die Wädenswiler schon jahrelang und immer wieder zum Ausdruck gebracht haben», sagt Kutter, «der Au-Park erlaubt es uns nun, in dieser Frage endlich aktiv zu werden.»\n",
    "\n",
    "Andererseits wertet Kutter es als «überdeutliches Signal», dass immerhin 38 Prozent der Wädenswiler ein Nein in die Urne gelegt haben. «Jetzt muss die Stadt in Sachen Infrastruktur mitziehen», sagt der Stadtpräsident, «die Entwicklung des Areals und die Infrastruktur müssen parallel entwickelt werden.» Er denkt dabei in erster Linie an Schulraum, der bereits heute knapp ist und mit den 200 bis 300 geplanten Wohnungen noch knapper wird. In der Pipeline ist bereits die Erweiterung des Schulhauses Ort. «Das müssen wir nun zügig vorantreiben», sagt Kutter.\n",
    "\n",
    "«Das ist Demokratie»\n",
    "\n",
    "Naturgemäss anders klingt es auf der Seite der Gegner. «Leider ist es uns in der kurzen Zeit seit Einreichen des Referendums nicht gelungen, die Stimmbürger davon zu überzeugen, dass der private Gestaltungsplan zu viele Nachteile und zukünftige Kosten für Wädenswil enthält», schreibt das Referendums-Komitee in seiner Stellungnahme. Das Komitee geht davon aus, dass die Kantonsschule den Ausschlag dafür gegeben hat, dass die Nein-Argumente zu wenig verfangen haben.\n",
    "\n",
    "Edi Krüger vom Referendums-Komitee ist am Sonntag-Nachmittag dabei, die Abstimmungsplakate einzusammeln. Er nimmt die Niederlage sportlich. «Das ist Demokratie.» Das Komitee habe sich zu Beginn wenig Chancen ausgemalt angesichts der breiten politischen Unterstützung für den Au-Park. «Unsere Motivation, dennoch aktiv zu werden war, dass wir uns nicht im Nachhinein vorwerfen wollten, nichts gemacht zu haben.»\n",
    "\n",
    "Wie die Rolle des Komitees, das aus der IG Wädi Au hervorgegangen ist, künftig aussieht, kann Krüger noch nicht sagen. Sicher ist, dass er, der seit bald acht Jahren in der Au wohnt, sich weiter dafür einsetzen will, dass die Örtler eine bessere Infrastruktur erhalten – beispielsweise mehr Schulraum.'''"
   ]
  },
  {
   "cell_type": "code",
   "execution_count": 35,
   "metadata": {},
   "outputs": [
    {
     "data": {
      "text/plain": [
       "FreqDist({',': 39, '.': 34, 'die': 27, 'der': 17, 'ist': 14, '«': 13, '»': 13, 'in': 11, 'dass': 11, 'zu': 10, ...})"
      ]
     },
     "execution_count": 35,
     "metadata": {},
     "output_type": "execute_result"
    }
   ],
   "source": [
    "tokens = nltk.word_tokenize(sample2)\n",
    "text = nltk.Text(tokens)\n",
    "fdist = FreqDist(text)\n",
    "fdist"
   ]
  },
  {
   "cell_type": "code",
   "execution_count": 36,
   "metadata": {},
   "outputs": [
    {
     "data": {
      "text/plain": [
       "['Letztlich',\n",
       " 'war',\n",
       " 'es',\n",
       " 'eine',\n",
       " 'klare',\n",
       " 'Sache',\n",
       " '.',\n",
       " 'So',\n",
       " 'sehr',\n",
       " 'die',\n",
       " 'Gegner',\n",
       " 'im',\n",
       " 'Hinblick',\n",
       " 'auf',\n",
       " 'den',\n",
       " '17',\n",
       " '.',\n",
       " 'November',\n",
       " 'auch',\n",
       " 'Stimmung',\n",
       " 'gemacht',\n",
       " 'haben',\n",
       " ':',\n",
       " 'Die',\n",
       " 'Wädenswiler',\n",
       " 'haben',\n",
       " 'am',\n",
       " 'Sonntag',\n",
       " 'dem',\n",
       " 'privaten',\n",
       " 'Gestaltungsplan',\n",
       " 'Au-Park',\n",
       " 'zu',\n",
       " 'gestimmt',\n",
       " '.',\n",
       " 'Und',\n",
       " 'zwar',\n",
       " 'deutlich',\n",
       " ',',\n",
       " 'mit',\n",
       " '4210',\n",
       " 'Ja-',\n",
       " 'gegen',\n",
       " '2533',\n",
       " 'Nein-Stimmen',\n",
       " '.',\n",
       " 'Dies',\n",
       " 'bei',\n",
       " 'einer',\n",
       " 'Stimmbeteiligung',\n",
       " 'von',\n",
       " '43,5',\n",
       " 'Prozent',\n",
       " '.',\n",
       " 'Damit',\n",
       " 'haben',\n",
       " 'die',\n",
       " 'Wädenswiler',\n",
       " 'grünes',\n",
       " 'Licht',\n",
       " 'gegeben',\n",
       " 'für',\n",
       " 'eine',\n",
       " 'Entwicklung',\n",
       " 'des',\n",
       " 'ehemaligen',\n",
       " 'Alcatel-Areals',\n",
       " 'in',\n",
       " 'der',\n",
       " 'Au',\n",
       " '.',\n",
       " 'Dort',\n",
       " 'steht',\n",
       " 'heute',\n",
       " 'der',\n",
       " 'Gebäudekomplex',\n",
       " 'Au-Center',\n",
       " ',',\n",
       " 'ein',\n",
       " 'ehemaliger',\n",
       " 'Industriebau',\n",
       " ',',\n",
       " 'der',\n",
       " 'heute',\n",
       " 'nur',\n",
       " 'noch',\n",
       " 'teilweise',\n",
       " 'genutzt',\n",
       " 'wird',\n",
       " '.',\n",
       " 'Grundeigentümerin',\n",
       " 'des',\n",
       " \"43'000\",\n",
       " 'Quadratmeter',\n",
       " 'grossen',\n",
       " 'Areals',\n",
       " 'ist',\n",
       " 'die',\n",
       " 'Intershop',\n",
       " 'AG',\n",
       " ',',\n",
       " 'die',\n",
       " 'zu',\n",
       " 'einem',\n",
       " 'Teil',\n",
       " 'Martin',\n",
       " 'Ebner',\n",
       " 'gehört',\n",
       " '.',\n",
       " 'Sie',\n",
       " 'plant',\n",
       " 'auf',\n",
       " 'dem',\n",
       " 'Areal',\n",
       " '200',\n",
       " 'bis',\n",
       " '300',\n",
       " 'Wohnungen',\n",
       " ',',\n",
       " 'mindestens',\n",
       " 'ein',\n",
       " 'Verkaufsgeschäft',\n",
       " ',',\n",
       " 'einen',\n",
       " 'öffentlicher',\n",
       " 'Park',\n",
       " ',',\n",
       " 'sowie',\n",
       " 'die',\n",
       " 'Kantonsschule',\n",
       " 'Zimmerberg',\n",
       " '.',\n",
       " 'Das',\n",
       " 'Richtprojekt',\n",
       " ',',\n",
       " 'welches',\n",
       " 'dem',\n",
       " 'Gestaltungsplan',\n",
       " 'zu',\n",
       " 'Grund',\n",
       " 'liegt',\n",
       " ',',\n",
       " 'sieht',\n",
       " 'sieben',\n",
       " 'Gebäude',\n",
       " '–',\n",
       " 'drei',\n",
       " 'für',\n",
       " 'die',\n",
       " 'Kantonsschule',\n",
       " '–',\n",
       " 'und',\n",
       " 'im',\n",
       " 'Zentrum',\n",
       " 'einen',\n",
       " 'Park',\n",
       " 'vor',\n",
       " '.',\n",
       " 'Umzonung',\n",
       " 'ist',\n",
       " 'nun',\n",
       " 'Tatsache',\n",
       " 'Nach',\n",
       " 'dem',\n",
       " 'Ja',\n",
       " 'kann',\n",
       " 'die',\n",
       " 'Eigentümerin',\n",
       " 'nun',\n",
       " 'die',\n",
       " 'konkrete',\n",
       " 'Planung',\n",
       " 'des',\n",
       " 'Areals',\n",
       " 'angehen',\n",
       " '.',\n",
       " 'Denn',\n",
       " 'das',\n",
       " 'Ja',\n",
       " 'zum',\n",
       " 'Gestaltungsplan',\n",
       " 'war',\n",
       " 'Voraussetzung',\n",
       " 'dafür',\n",
       " ',',\n",
       " 'dass',\n",
       " 'die',\n",
       " 'Umzonung',\n",
       " 'der',\n",
       " 'heutigen',\n",
       " 'Industriezone',\n",
       " 'in',\n",
       " 'eine',\n",
       " 'Mischzone',\n",
       " 'Wohnen',\n",
       " 'und',\n",
       " 'Gewerbe',\n",
       " 'in',\n",
       " 'Kraft',\n",
       " 'tritt',\n",
       " '.',\n",
       " 'Der',\n",
       " 'Gemeinderat',\n",
       " 'hatte',\n",
       " 'diese',\n",
       " 'bereits',\n",
       " 'im',\n",
       " 'Juli',\n",
       " 'beschlossen',\n",
       " '.',\n",
       " 'Auch',\n",
       " 'hatte',\n",
       " 'er',\n",
       " 'damals',\n",
       " 'dem',\n",
       " 'Gestaltungsplan',\n",
       " 'zugestimmt',\n",
       " '.',\n",
       " 'Gegen',\n",
       " 'letzteren',\n",
       " 'Beschluss',\n",
       " 'haben',\n",
       " 'zwölf',\n",
       " 'Gemeinderatsmitglieder',\n",
       " 'das',\n",
       " 'Referendum',\n",
       " 'ergriffen',\n",
       " '.',\n",
       " 'Darum',\n",
       " 'ist',\n",
       " 'das',\n",
       " 'Geschäft',\n",
       " 'an',\n",
       " 'die',\n",
       " 'Urne',\n",
       " 'gekommen',\n",
       " '.',\n",
       " 'Die',\n",
       " 'Stimmberechtigten',\n",
       " 'haben',\n",
       " 'nun',\n",
       " 'also',\n",
       " 'den',\n",
       " 'gleichen',\n",
       " 'Beschluss',\n",
       " 'gefasst',\n",
       " 'wie',\n",
       " 'ihr',\n",
       " 'Parlament',\n",
       " '.',\n",
       " 'Erfreut',\n",
       " 'über',\n",
       " 'das',\n",
       " 'Abstimmungsresultat',\n",
       " 'ist',\n",
       " 'Wädenswils',\n",
       " 'Stadtpräsident',\n",
       " 'Philipp',\n",
       " 'Kutter',\n",
       " '(',\n",
       " 'CVP',\n",
       " ')',\n",
       " '.',\n",
       " '«',\n",
       " 'Ich',\n",
       " 'bin',\n",
       " 'sehr',\n",
       " 'zufrieden',\n",
       " ',',\n",
       " 'dass',\n",
       " 'die',\n",
       " 'Wädenswiler',\n",
       " 'so',\n",
       " 'deutlich',\n",
       " 'Ja',\n",
       " 'gesagt',\n",
       " 'haben',\n",
       " 'zum',\n",
       " 'Gestaltungsplan',\n",
       " 'Au-Park',\n",
       " '.',\n",
       " 'Nun',\n",
       " 'kann',\n",
       " 'dort',\n",
       " 'neues',\n",
       " 'Leben',\n",
       " 'einziehen.',\n",
       " '»',\n",
       " 'Er',\n",
       " 'sei',\n",
       " '«',\n",
       " 'leicht',\n",
       " 'überrascht',\n",
       " '»',\n",
       " ',',\n",
       " 'dass',\n",
       " 'die',\n",
       " 'Zustimmung',\n",
       " 'in',\n",
       " 'dieser',\n",
       " 'Deutlichkeit',\n",
       " 'ausgefallen',\n",
       " 'sei',\n",
       " '.',\n",
       " '«',\n",
       " 'Zügig',\n",
       " 'vorantreiben',\n",
       " '»',\n",
       " 'Warum',\n",
       " 'dem',\n",
       " 'so',\n",
       " 'ist',\n",
       " ',',\n",
       " 'dazu',\n",
       " 'wagt',\n",
       " 'Kutter',\n",
       " 'kein',\n",
       " 'abschliessendes',\n",
       " 'Urteil',\n",
       " '.',\n",
       " 'Zwei',\n",
       " 'Argumente',\n",
       " 'seien',\n",
       " 'sicher',\n",
       " 'gewichtig',\n",
       " 'gewesen',\n",
       " ':',\n",
       " 'die',\n",
       " 'Kantonsschule',\n",
       " 'und',\n",
       " 'dass',\n",
       " 'auf',\n",
       " 'dem',\n",
       " 'Areal',\n",
       " '50',\n",
       " 'bis',\n",
       " '60',\n",
       " 'bezahlbare',\n",
       " 'Wohnungen',\n",
       " 'entstehen',\n",
       " ',',\n",
       " 'die',\n",
       " 'vermutlich',\n",
       " 'dereinst',\n",
       " 'an',\n",
       " 'eine',\n",
       " 'Baugenossenschaft',\n",
       " 'abgegeben',\n",
       " 'werden',\n",
       " '.',\n",
       " '«',\n",
       " 'Das',\n",
       " 'ist',\n",
       " 'ein',\n",
       " 'Anliegen',\n",
       " ',',\n",
       " 'das',\n",
       " 'die',\n",
       " 'Wädenswiler',\n",
       " 'schon',\n",
       " 'jahrelang',\n",
       " 'und',\n",
       " 'immer',\n",
       " 'wieder',\n",
       " 'zum',\n",
       " 'Ausdruck',\n",
       " 'gebracht',\n",
       " 'haben',\n",
       " '»',\n",
       " ',',\n",
       " 'sagt',\n",
       " 'Kutter',\n",
       " ',',\n",
       " '«',\n",
       " 'der',\n",
       " 'Au-Park',\n",
       " 'erlaubt',\n",
       " 'es',\n",
       " 'uns',\n",
       " 'nun',\n",
       " ',',\n",
       " 'in',\n",
       " 'dieser',\n",
       " 'Frage',\n",
       " 'endlich',\n",
       " 'aktiv',\n",
       " 'zu',\n",
       " 'werden.',\n",
       " '»',\n",
       " 'Andererseits',\n",
       " 'wertet',\n",
       " 'Kutter',\n",
       " 'es',\n",
       " 'als',\n",
       " '«',\n",
       " 'überdeutliches',\n",
       " 'Signal',\n",
       " '»',\n",
       " ',',\n",
       " 'dass',\n",
       " 'immerhin',\n",
       " '38',\n",
       " 'Prozent',\n",
       " 'der',\n",
       " 'Wädenswiler',\n",
       " 'ein',\n",
       " 'Nein',\n",
       " 'in',\n",
       " 'die',\n",
       " 'Urne',\n",
       " 'gelegt',\n",
       " 'haben',\n",
       " '.',\n",
       " '«',\n",
       " 'Jetzt',\n",
       " 'muss',\n",
       " 'die',\n",
       " 'Stadt',\n",
       " 'in',\n",
       " 'Sachen',\n",
       " 'Infrastruktur',\n",
       " 'mitziehen',\n",
       " '»',\n",
       " ',',\n",
       " 'sagt',\n",
       " 'der',\n",
       " 'Stadtpräsident',\n",
       " ',',\n",
       " '«',\n",
       " 'die',\n",
       " 'Entwicklung',\n",
       " 'des',\n",
       " 'Areals',\n",
       " 'und',\n",
       " 'die',\n",
       " 'Infrastruktur',\n",
       " 'müssen',\n",
       " 'parallel',\n",
       " 'entwickelt',\n",
       " 'werden.',\n",
       " '»',\n",
       " 'Er',\n",
       " 'denkt',\n",
       " 'dabei',\n",
       " 'in',\n",
       " 'erster',\n",
       " 'Linie',\n",
       " 'an',\n",
       " 'Schulraum',\n",
       " ',',\n",
       " 'der',\n",
       " 'bereits',\n",
       " 'heute',\n",
       " 'knapp',\n",
       " 'ist',\n",
       " 'und',\n",
       " 'mit',\n",
       " 'den',\n",
       " '200',\n",
       " 'bis',\n",
       " '300',\n",
       " 'geplanten',\n",
       " 'Wohnungen',\n",
       " 'noch',\n",
       " 'knapper',\n",
       " 'wird',\n",
       " '.',\n",
       " 'In',\n",
       " 'der',\n",
       " 'Pipeline',\n",
       " 'ist',\n",
       " 'bereits',\n",
       " 'die',\n",
       " 'Erweiterung',\n",
       " 'des',\n",
       " 'Schulhauses',\n",
       " 'Ort',\n",
       " '.',\n",
       " '«',\n",
       " 'Das',\n",
       " 'müssen',\n",
       " 'wir',\n",
       " 'nun',\n",
       " 'zügig',\n",
       " 'vorantreiben',\n",
       " '»',\n",
       " ',',\n",
       " 'sagt',\n",
       " 'Kutter',\n",
       " '.',\n",
       " '«',\n",
       " 'Das',\n",
       " 'ist',\n",
       " 'Demokratie',\n",
       " '»',\n",
       " 'Naturgemäss',\n",
       " 'anders',\n",
       " 'klingt',\n",
       " 'es',\n",
       " 'auf',\n",
       " 'der',\n",
       " 'Seite',\n",
       " 'der',\n",
       " 'Gegner',\n",
       " '.',\n",
       " '«',\n",
       " 'Leider',\n",
       " 'ist',\n",
       " 'es',\n",
       " 'uns',\n",
       " 'in',\n",
       " 'der',\n",
       " 'kurzen',\n",
       " 'Zeit',\n",
       " 'seit',\n",
       " 'Einreichen',\n",
       " 'des',\n",
       " 'Referendums',\n",
       " 'nicht',\n",
       " 'gelungen',\n",
       " ',',\n",
       " 'die',\n",
       " 'Stimmbürger',\n",
       " 'davon',\n",
       " 'zu',\n",
       " 'überzeugen',\n",
       " ',',\n",
       " 'dass',\n",
       " 'der',\n",
       " 'private',\n",
       " 'Gestaltungsplan',\n",
       " 'zu',\n",
       " 'viele',\n",
       " 'Nachteile',\n",
       " 'und',\n",
       " 'zukünftige',\n",
       " 'Kosten',\n",
       " 'für',\n",
       " 'Wädenswil',\n",
       " 'enthält',\n",
       " '»',\n",
       " ',',\n",
       " 'schreibt',\n",
       " 'das',\n",
       " 'Referendums-Komitee',\n",
       " 'in',\n",
       " 'seiner',\n",
       " 'Stellungnahme',\n",
       " '.',\n",
       " 'Das',\n",
       " 'Komitee',\n",
       " 'geht',\n",
       " 'davon',\n",
       " 'aus',\n",
       " ',',\n",
       " 'dass',\n",
       " 'die',\n",
       " 'Kantonsschule',\n",
       " 'den',\n",
       " 'Ausschlag',\n",
       " 'dafür',\n",
       " 'gegeben',\n",
       " 'hat',\n",
       " ',',\n",
       " 'dass',\n",
       " 'die',\n",
       " 'Nein-Argumente',\n",
       " 'zu',\n",
       " 'wenig',\n",
       " 'verfangen',\n",
       " 'haben',\n",
       " '.',\n",
       " 'Edi',\n",
       " 'Krüger',\n",
       " 'vom',\n",
       " 'Referendums-Komitee',\n",
       " 'ist',\n",
       " 'am',\n",
       " 'Sonntag-Nachmittag',\n",
       " 'dabei',\n",
       " ',',\n",
       " 'die',\n",
       " 'Abstimmungsplakate',\n",
       " 'einzusammeln',\n",
       " '.',\n",
       " 'Er',\n",
       " 'nimmt',\n",
       " 'die',\n",
       " 'Niederlage',\n",
       " 'sportlich',\n",
       " '.',\n",
       " '«',\n",
       " 'Das',\n",
       " 'ist',\n",
       " 'Demokratie.',\n",
       " '»',\n",
       " 'Das',\n",
       " 'Komitee',\n",
       " 'habe',\n",
       " 'sich',\n",
       " 'zu',\n",
       " 'Beginn',\n",
       " 'wenig',\n",
       " 'Chancen',\n",
       " 'ausgemalt',\n",
       " 'angesichts',\n",
       " 'der',\n",
       " 'breiten',\n",
       " 'politischen',\n",
       " 'Unterstützung',\n",
       " 'für',\n",
       " 'den',\n",
       " 'Au-Park',\n",
       " '.',\n",
       " '«',\n",
       " 'Unsere',\n",
       " 'Motivation',\n",
       " ',',\n",
       " 'dennoch',\n",
       " 'aktiv',\n",
       " 'zu',\n",
       " 'werden',\n",
       " 'war',\n",
       " ',',\n",
       " 'dass',\n",
       " 'wir',\n",
       " 'uns',\n",
       " 'nicht',\n",
       " 'im',\n",
       " 'Nachhinein',\n",
       " 'vorwerfen',\n",
       " 'wollten',\n",
       " ',',\n",
       " 'nichts',\n",
       " 'gemacht',\n",
       " 'zu',\n",
       " 'haben.',\n",
       " '»',\n",
       " 'Wie',\n",
       " 'die',\n",
       " 'Rolle',\n",
       " 'des',\n",
       " 'Komitees',\n",
       " ',',\n",
       " 'das',\n",
       " 'aus',\n",
       " 'der',\n",
       " 'IG',\n",
       " 'Wädi',\n",
       " 'Au',\n",
       " 'hervorgegangen',\n",
       " 'ist',\n",
       " ',',\n",
       " 'künftig',\n",
       " 'aussieht',\n",
       " ',',\n",
       " 'kann',\n",
       " 'Krüger',\n",
       " 'noch',\n",
       " 'nicht',\n",
       " 'sagen',\n",
       " '.',\n",
       " 'Sicher',\n",
       " 'ist',\n",
       " ',',\n",
       " 'dass',\n",
       " 'er',\n",
       " ',',\n",
       " 'der',\n",
       " 'seit',\n",
       " 'bald',\n",
       " 'acht',\n",
       " 'Jahren',\n",
       " 'in',\n",
       " 'der',\n",
       " 'Au',\n",
       " 'wohnt',\n",
       " ',',\n",
       " 'sich',\n",
       " 'weiter',\n",
       " 'dafür',\n",
       " 'einsetzen',\n",
       " 'will',\n",
       " ',',\n",
       " 'dass',\n",
       " 'die',\n",
       " 'Örtler',\n",
       " 'eine',\n",
       " 'bessere',\n",
       " 'Infrastruktur',\n",
       " 'erhalten',\n",
       " '–',\n",
       " 'beispielsweise',\n",
       " 'mehr',\n",
       " 'Schulraum',\n",
       " '.']"
      ]
     },
     "execution_count": 36,
     "metadata": {},
     "output_type": "execute_result"
    }
   ],
   "source": [
    "tokens = nltk.word_tokenize(sample2)\n",
    "tokens"
   ]
  },
  {
   "cell_type": "markdown",
   "metadata": {},
   "source": [
    "### Aufgabe\n",
    "- Erzeugt eigenen Text oder kopiert ihn aus dem Internet und zählt welche Wörter am häufigsten vorkommen, sind die ersten 3 Positionen bei Euch ähnlich?"
   ]
  },
  {
   "cell_type": "markdown",
   "metadata": {},
   "source": [
    "# Bigrams\n",
    "- Welche Wörter kommen häufig zusammen vor?\n",
    "- https://www.youtube.com/watch?v=h8MVXC_hqNY"
   ]
  },
  {
   "cell_type": "code",
   "execution_count": 37,
   "metadata": {},
   "outputs": [
    {
     "ename": "LookupError",
     "evalue": "\n**********************************************************************\n  Resource \u001b[93mstopwords\u001b[0m not found.\n  Please use the NLTK Downloader to obtain the resource:\n\n  \u001b[31m>>> import nltk\n  >>> nltk.download('stopwords')\n  \u001b[0m\n  For more information see: https://www.nltk.org/data.html\n\n  Attempted to load \u001b[93mcorpora/stopwords\u001b[0m\n\n  Searched in:\n    - '/Users/martinsteinegger/nltk_data'\n    - '/Users/martinsteinegger/.virtualenvs/erstesVE/bin/../nltk_data'\n    - '/Users/martinsteinegger/.virtualenvs/erstesVE/bin/../share/nltk_data'\n    - '/Users/martinsteinegger/.virtualenvs/erstesVE/bin/../lib/nltk_data'\n    - '/usr/share/nltk_data'\n    - '/usr/local/share/nltk_data'\n    - '/usr/lib/nltk_data'\n    - '/usr/local/lib/nltk_data'\n**********************************************************************\n",
     "output_type": "error",
     "traceback": [
      "\u001b[0;31m---------------------------------------------------------------------------\u001b[0m",
      "\u001b[0;31mLookupError\u001b[0m                               Traceback (most recent call last)",
      "\u001b[0;32m~/.virtualenvs/erstesVE/lib/python3.7/site-packages/nltk/corpus/util.py\u001b[0m in \u001b[0;36m__load\u001b[0;34m(self)\u001b[0m\n\u001b[1;32m     85\u001b[0m                 \u001b[0;32mtry\u001b[0m\u001b[0;34m:\u001b[0m\u001b[0;34m\u001b[0m\u001b[0;34m\u001b[0m\u001b[0m\n\u001b[0;32m---> 86\u001b[0;31m                     \u001b[0mroot\u001b[0m \u001b[0;34m=\u001b[0m \u001b[0mnltk\u001b[0m\u001b[0;34m.\u001b[0m\u001b[0mdata\u001b[0m\u001b[0;34m.\u001b[0m\u001b[0mfind\u001b[0m\u001b[0;34m(\u001b[0m\u001b[0;34m'{}/{}'\u001b[0m\u001b[0;34m.\u001b[0m\u001b[0mformat\u001b[0m\u001b[0;34m(\u001b[0m\u001b[0mself\u001b[0m\u001b[0;34m.\u001b[0m\u001b[0msubdir\u001b[0m\u001b[0;34m,\u001b[0m \u001b[0mzip_name\u001b[0m\u001b[0;34m)\u001b[0m\u001b[0;34m)\u001b[0m\u001b[0;34m\u001b[0m\u001b[0;34m\u001b[0m\u001b[0m\n\u001b[0m\u001b[1;32m     87\u001b[0m                 \u001b[0;32mexcept\u001b[0m \u001b[0mLookupError\u001b[0m\u001b[0;34m:\u001b[0m\u001b[0;34m\u001b[0m\u001b[0;34m\u001b[0m\u001b[0m\n",
      "\u001b[0;32m~/.virtualenvs/erstesVE/lib/python3.7/site-packages/nltk/data.py\u001b[0m in \u001b[0;36mfind\u001b[0;34m(resource_name, paths)\u001b[0m\n\u001b[1;32m    700\u001b[0m     \u001b[0mresource_not_found\u001b[0m \u001b[0;34m=\u001b[0m \u001b[0;34m'\\n%s\\n%s\\n%s\\n'\u001b[0m \u001b[0;34m%\u001b[0m \u001b[0;34m(\u001b[0m\u001b[0msep\u001b[0m\u001b[0;34m,\u001b[0m \u001b[0mmsg\u001b[0m\u001b[0;34m,\u001b[0m \u001b[0msep\u001b[0m\u001b[0;34m)\u001b[0m\u001b[0;34m\u001b[0m\u001b[0;34m\u001b[0m\u001b[0m\n\u001b[0;32m--> 701\u001b[0;31m     \u001b[0;32mraise\u001b[0m \u001b[0mLookupError\u001b[0m\u001b[0;34m(\u001b[0m\u001b[0mresource_not_found\u001b[0m\u001b[0;34m)\u001b[0m\u001b[0;34m\u001b[0m\u001b[0;34m\u001b[0m\u001b[0m\n\u001b[0m\u001b[1;32m    702\u001b[0m \u001b[0;34m\u001b[0m\u001b[0m\n",
      "\u001b[0;31mLookupError\u001b[0m: \n**********************************************************************\n  Resource \u001b[93mstopwords\u001b[0m not found.\n  Please use the NLTK Downloader to obtain the resource:\n\n  \u001b[31m>>> import nltk\n  >>> nltk.download('stopwords')\n  \u001b[0m\n  For more information see: https://www.nltk.org/data.html\n\n  Attempted to load \u001b[93mcorpora/stopwords.zip/stopwords/\u001b[0m\n\n  Searched in:\n    - '/Users/martinsteinegger/nltk_data'\n    - '/Users/martinsteinegger/.virtualenvs/erstesVE/bin/../nltk_data'\n    - '/Users/martinsteinegger/.virtualenvs/erstesVE/bin/../share/nltk_data'\n    - '/Users/martinsteinegger/.virtualenvs/erstesVE/bin/../lib/nltk_data'\n    - '/usr/share/nltk_data'\n    - '/usr/local/share/nltk_data'\n    - '/usr/lib/nltk_data'\n    - '/usr/local/lib/nltk_data'\n**********************************************************************\n",
      "\nDuring handling of the above exception, another exception occurred:\n",
      "\u001b[0;31mLookupError\u001b[0m                               Traceback (most recent call last)",
      "\u001b[0;32m<ipython-input-37-070a617337e1>\u001b[0m in \u001b[0;36m<module>\u001b[0;34m\u001b[0m\n\u001b[0;32m----> 1\u001b[0;31m \u001b[0mtext1\u001b[0m\u001b[0;34m.\u001b[0m\u001b[0mcollocations\u001b[0m\u001b[0;34m(\u001b[0m\u001b[0;34m)\u001b[0m\u001b[0;34m\u001b[0m\u001b[0;34m\u001b[0m\u001b[0m\n\u001b[0m",
      "\u001b[0;32m~/.virtualenvs/erstesVE/lib/python3.7/site-packages/nltk/text.py\u001b[0m in \u001b[0;36mcollocations\u001b[0;34m(self, num, window_size)\u001b[0m\n\u001b[1;32m    442\u001b[0m \u001b[0;34m\u001b[0m\u001b[0m\n\u001b[1;32m    443\u001b[0m         collocation_strings = [\n\u001b[0;32m--> 444\u001b[0;31m             \u001b[0mw1\u001b[0m \u001b[0;34m+\u001b[0m \u001b[0;34m\" \"\u001b[0m \u001b[0;34m+\u001b[0m \u001b[0mw2\u001b[0m \u001b[0;32mfor\u001b[0m \u001b[0mw1\u001b[0m\u001b[0;34m,\u001b[0m \u001b[0mw2\u001b[0m \u001b[0;32min\u001b[0m \u001b[0mself\u001b[0m\u001b[0;34m.\u001b[0m\u001b[0mcollocation_list\u001b[0m\u001b[0;34m(\u001b[0m\u001b[0mnum\u001b[0m\u001b[0;34m,\u001b[0m \u001b[0mwindow_size\u001b[0m\u001b[0;34m)\u001b[0m\u001b[0;34m\u001b[0m\u001b[0;34m\u001b[0m\u001b[0m\n\u001b[0m\u001b[1;32m    445\u001b[0m         ]\n\u001b[1;32m    446\u001b[0m         \u001b[0mprint\u001b[0m\u001b[0;34m(\u001b[0m\u001b[0mtokenwrap\u001b[0m\u001b[0;34m(\u001b[0m\u001b[0mcollocation_strings\u001b[0m\u001b[0;34m,\u001b[0m \u001b[0mseparator\u001b[0m\u001b[0;34m=\u001b[0m\u001b[0;34m\"; \"\u001b[0m\u001b[0;34m)\u001b[0m\u001b[0;34m)\u001b[0m\u001b[0;34m\u001b[0m\u001b[0;34m\u001b[0m\u001b[0m\n",
      "\u001b[0;32m~/.virtualenvs/erstesVE/lib/python3.7/site-packages/nltk/text.py\u001b[0m in \u001b[0;36mcollocation_list\u001b[0;34m(self, num, window_size)\u001b[0m\n\u001b[1;32m    423\u001b[0m             \u001b[0;32mfrom\u001b[0m \u001b[0mnltk\u001b[0m\u001b[0;34m.\u001b[0m\u001b[0mcorpus\u001b[0m \u001b[0;32mimport\u001b[0m \u001b[0mstopwords\u001b[0m\u001b[0;34m\u001b[0m\u001b[0;34m\u001b[0m\u001b[0m\n\u001b[1;32m    424\u001b[0m \u001b[0;34m\u001b[0m\u001b[0m\n\u001b[0;32m--> 425\u001b[0;31m             \u001b[0mignored_words\u001b[0m \u001b[0;34m=\u001b[0m \u001b[0mstopwords\u001b[0m\u001b[0;34m.\u001b[0m\u001b[0mwords\u001b[0m\u001b[0;34m(\u001b[0m\u001b[0;34m\"english\"\u001b[0m\u001b[0;34m)\u001b[0m\u001b[0;34m\u001b[0m\u001b[0;34m\u001b[0m\u001b[0m\n\u001b[0m\u001b[1;32m    426\u001b[0m             \u001b[0mfinder\u001b[0m \u001b[0;34m=\u001b[0m \u001b[0mBigramCollocationFinder\u001b[0m\u001b[0;34m.\u001b[0m\u001b[0mfrom_words\u001b[0m\u001b[0;34m(\u001b[0m\u001b[0mself\u001b[0m\u001b[0;34m.\u001b[0m\u001b[0mtokens\u001b[0m\u001b[0;34m,\u001b[0m \u001b[0mwindow_size\u001b[0m\u001b[0;34m)\u001b[0m\u001b[0;34m\u001b[0m\u001b[0;34m\u001b[0m\u001b[0m\n\u001b[1;32m    427\u001b[0m             \u001b[0mfinder\u001b[0m\u001b[0;34m.\u001b[0m\u001b[0mapply_freq_filter\u001b[0m\u001b[0;34m(\u001b[0m\u001b[0;36m2\u001b[0m\u001b[0;34m)\u001b[0m\u001b[0;34m\u001b[0m\u001b[0;34m\u001b[0m\u001b[0m\n",
      "\u001b[0;32m~/.virtualenvs/erstesVE/lib/python3.7/site-packages/nltk/corpus/util.py\u001b[0m in \u001b[0;36m__getattr__\u001b[0;34m(self, attr)\u001b[0m\n\u001b[1;32m    121\u001b[0m             \u001b[0;32mraise\u001b[0m \u001b[0mAttributeError\u001b[0m\u001b[0;34m(\u001b[0m\u001b[0;34m\"LazyCorpusLoader object has no attribute '__bases__'\"\u001b[0m\u001b[0;34m)\u001b[0m\u001b[0;34m\u001b[0m\u001b[0;34m\u001b[0m\u001b[0m\n\u001b[1;32m    122\u001b[0m \u001b[0;34m\u001b[0m\u001b[0m\n\u001b[0;32m--> 123\u001b[0;31m         \u001b[0mself\u001b[0m\u001b[0;34m.\u001b[0m\u001b[0m__load\u001b[0m\u001b[0;34m(\u001b[0m\u001b[0;34m)\u001b[0m\u001b[0;34m\u001b[0m\u001b[0;34m\u001b[0m\u001b[0m\n\u001b[0m\u001b[1;32m    124\u001b[0m         \u001b[0;31m# This looks circular, but its not, since __load() changes our\u001b[0m\u001b[0;34m\u001b[0m\u001b[0;34m\u001b[0m\u001b[0;34m\u001b[0m\u001b[0m\n\u001b[1;32m    125\u001b[0m         \u001b[0;31m# __class__ to something new:\u001b[0m\u001b[0;34m\u001b[0m\u001b[0;34m\u001b[0m\u001b[0;34m\u001b[0m\u001b[0m\n",
      "\u001b[0;32m~/.virtualenvs/erstesVE/lib/python3.7/site-packages/nltk/corpus/util.py\u001b[0m in \u001b[0;36m__load\u001b[0;34m(self)\u001b[0m\n\u001b[1;32m     86\u001b[0m                     \u001b[0mroot\u001b[0m \u001b[0;34m=\u001b[0m \u001b[0mnltk\u001b[0m\u001b[0;34m.\u001b[0m\u001b[0mdata\u001b[0m\u001b[0;34m.\u001b[0m\u001b[0mfind\u001b[0m\u001b[0;34m(\u001b[0m\u001b[0;34m'{}/{}'\u001b[0m\u001b[0;34m.\u001b[0m\u001b[0mformat\u001b[0m\u001b[0;34m(\u001b[0m\u001b[0mself\u001b[0m\u001b[0;34m.\u001b[0m\u001b[0msubdir\u001b[0m\u001b[0;34m,\u001b[0m \u001b[0mzip_name\u001b[0m\u001b[0;34m)\u001b[0m\u001b[0;34m)\u001b[0m\u001b[0;34m\u001b[0m\u001b[0;34m\u001b[0m\u001b[0m\n\u001b[1;32m     87\u001b[0m                 \u001b[0;32mexcept\u001b[0m \u001b[0mLookupError\u001b[0m\u001b[0;34m:\u001b[0m\u001b[0;34m\u001b[0m\u001b[0;34m\u001b[0m\u001b[0m\n\u001b[0;32m---> 88\u001b[0;31m                     \u001b[0;32mraise\u001b[0m \u001b[0me\u001b[0m\u001b[0;34m\u001b[0m\u001b[0;34m\u001b[0m\u001b[0m\n\u001b[0m\u001b[1;32m     89\u001b[0m \u001b[0;34m\u001b[0m\u001b[0m\n\u001b[1;32m     90\u001b[0m         \u001b[0;31m# Load the corpus.\u001b[0m\u001b[0;34m\u001b[0m\u001b[0;34m\u001b[0m\u001b[0;34m\u001b[0m\u001b[0m\n",
      "\u001b[0;32m~/.virtualenvs/erstesVE/lib/python3.7/site-packages/nltk/corpus/util.py\u001b[0m in \u001b[0;36m__load\u001b[0;34m(self)\u001b[0m\n\u001b[1;32m     81\u001b[0m         \u001b[0;32melse\u001b[0m\u001b[0;34m:\u001b[0m\u001b[0;34m\u001b[0m\u001b[0;34m\u001b[0m\u001b[0m\n\u001b[1;32m     82\u001b[0m             \u001b[0;32mtry\u001b[0m\u001b[0;34m:\u001b[0m\u001b[0;34m\u001b[0m\u001b[0;34m\u001b[0m\u001b[0m\n\u001b[0;32m---> 83\u001b[0;31m                 \u001b[0mroot\u001b[0m \u001b[0;34m=\u001b[0m \u001b[0mnltk\u001b[0m\u001b[0;34m.\u001b[0m\u001b[0mdata\u001b[0m\u001b[0;34m.\u001b[0m\u001b[0mfind\u001b[0m\u001b[0;34m(\u001b[0m\u001b[0;34m'{}/{}'\u001b[0m\u001b[0;34m.\u001b[0m\u001b[0mformat\u001b[0m\u001b[0;34m(\u001b[0m\u001b[0mself\u001b[0m\u001b[0;34m.\u001b[0m\u001b[0msubdir\u001b[0m\u001b[0;34m,\u001b[0m \u001b[0mself\u001b[0m\u001b[0;34m.\u001b[0m\u001b[0m__name\u001b[0m\u001b[0;34m)\u001b[0m\u001b[0;34m)\u001b[0m\u001b[0;34m\u001b[0m\u001b[0;34m\u001b[0m\u001b[0m\n\u001b[0m\u001b[1;32m     84\u001b[0m             \u001b[0;32mexcept\u001b[0m \u001b[0mLookupError\u001b[0m \u001b[0;32mas\u001b[0m \u001b[0me\u001b[0m\u001b[0;34m:\u001b[0m\u001b[0;34m\u001b[0m\u001b[0;34m\u001b[0m\u001b[0m\n\u001b[1;32m     85\u001b[0m                 \u001b[0;32mtry\u001b[0m\u001b[0;34m:\u001b[0m\u001b[0;34m\u001b[0m\u001b[0;34m\u001b[0m\u001b[0m\n",
      "\u001b[0;32m~/.virtualenvs/erstesVE/lib/python3.7/site-packages/nltk/data.py\u001b[0m in \u001b[0;36mfind\u001b[0;34m(resource_name, paths)\u001b[0m\n\u001b[1;32m    699\u001b[0m     \u001b[0msep\u001b[0m \u001b[0;34m=\u001b[0m \u001b[0;34m'*'\u001b[0m \u001b[0;34m*\u001b[0m \u001b[0;36m70\u001b[0m\u001b[0;34m\u001b[0m\u001b[0;34m\u001b[0m\u001b[0m\n\u001b[1;32m    700\u001b[0m     \u001b[0mresource_not_found\u001b[0m \u001b[0;34m=\u001b[0m \u001b[0;34m'\\n%s\\n%s\\n%s\\n'\u001b[0m \u001b[0;34m%\u001b[0m \u001b[0;34m(\u001b[0m\u001b[0msep\u001b[0m\u001b[0;34m,\u001b[0m \u001b[0mmsg\u001b[0m\u001b[0;34m,\u001b[0m \u001b[0msep\u001b[0m\u001b[0;34m)\u001b[0m\u001b[0;34m\u001b[0m\u001b[0;34m\u001b[0m\u001b[0m\n\u001b[0;32m--> 701\u001b[0;31m     \u001b[0;32mraise\u001b[0m \u001b[0mLookupError\u001b[0m\u001b[0;34m(\u001b[0m\u001b[0mresource_not_found\u001b[0m\u001b[0;34m)\u001b[0m\u001b[0;34m\u001b[0m\u001b[0;34m\u001b[0m\u001b[0m\n\u001b[0m\u001b[1;32m    702\u001b[0m \u001b[0;34m\u001b[0m\u001b[0m\n\u001b[1;32m    703\u001b[0m \u001b[0;34m\u001b[0m\u001b[0m\n",
      "\u001b[0;31mLookupError\u001b[0m: \n**********************************************************************\n  Resource \u001b[93mstopwords\u001b[0m not found.\n  Please use the NLTK Downloader to obtain the resource:\n\n  \u001b[31m>>> import nltk\n  >>> nltk.download('stopwords')\n  \u001b[0m\n  For more information see: https://www.nltk.org/data.html\n\n  Attempted to load \u001b[93mcorpora/stopwords\u001b[0m\n\n  Searched in:\n    - '/Users/martinsteinegger/nltk_data'\n    - '/Users/martinsteinegger/.virtualenvs/erstesVE/bin/../nltk_data'\n    - '/Users/martinsteinegger/.virtualenvs/erstesVE/bin/../share/nltk_data'\n    - '/Users/martinsteinegger/.virtualenvs/erstesVE/bin/../lib/nltk_data'\n    - '/usr/share/nltk_data'\n    - '/usr/local/share/nltk_data'\n    - '/usr/lib/nltk_data'\n    - '/usr/local/lib/nltk_data'\n**********************************************************************\n"
     ]
    }
   ],
   "source": [
    "text1.collocations()"
   ]
  },
  {
   "cell_type": "code",
   "execution_count": null,
   "metadata": {},
   "outputs": [],
   "source": [
    "menschenrechtserklaerungs_text.collocations()"
   ]
  },
  {
   "cell_type": "markdown",
   "metadata": {},
   "source": [
    "### Advanced Trigrams"
   ]
  },
  {
   "cell_type": "markdown",
   "metadata": {},
   "source": [
    "- Bigramme mit Frequenz in der Menschenrechtserklärung"
   ]
  },
  {
   "cell_type": "code",
   "execution_count": 48,
   "metadata": {},
   "outputs": [
    {
     "data": {
      "text/plain": [
       "[('es', 'notwendig'),\n",
       " ('strafbaren', 'Handlung'),\n",
       " ('im', 'Falle'),\n",
       " ('Allgemeine', 'Erklärung'),\n",
       " ('Vereinten', 'Nationen'),\n",
       " (';', 'dieses'),\n",
       " ('dem', 'Gesetz'),\n",
       " ('da', 'es'),\n",
       " ('wegen', 'einer'),\n",
       " ('des', 'Landes')]"
      ]
     },
     "execution_count": 48,
     "metadata": {},
     "output_type": "execute_result"
    }
   ],
   "source": [
    "from nltk.collocations import *\n",
    "bigram_measures = nltk.collocations.BigramAssocMeasures()\n",
    "trigram_measures = nltk.collocations.TrigramAssocMeasures()\n",
    "finder = BigramCollocationFinder.from_words(menschenrechtserklaerungs_text)\n",
    "finder.apply_freq_filter(2) # reduce to bigrams that appeared at least 3 times\n",
    "finder.nbest(bigram_measures.pmi, 10)"
   ]
  },
  {
   "cell_type": "code",
   "execution_count": 49,
   "metadata": {},
   "outputs": [
    {
     "data": {
      "text/plain": [
       "[('United', 'States'),\n",
       " ('It', 'belongs'),\n",
       " ('day', 'forward'),\n",
       " ('transferring', 'power'),\n",
       " ('God', 'bless'),\n",
       " ('other', 'countries'),\n",
       " ('every', 'city'),\n",
       " ('no', 'longer'),\n",
       " ('stops', 'right'),\n",
       " ('bring', 'back'),\n",
       " ('s', 'Capital'),\n",
       " ('President', 'Obama'),\n",
       " ('too', 'many'),\n",
       " ('From', 'this'),\n",
       " ('here', 'today'),\n",
       " ('right', 'here'),\n",
       " (\"'\", 've'),\n",
       " ('American', 'workers'),\n",
       " (\"'\", 's'),\n",
       " ('Thank', 'you')]"
      ]
     },
     "execution_count": 49,
     "metadata": {},
     "output_type": "execute_result"
    }
   ],
   "source": [
    "from nltk.collocations import *\n",
    "bigram_measures = nltk.collocations.BigramAssocMeasures()\n",
    "trigram_measures = nltk.collocations.TrigramAssocMeasures()\n",
    "finder = BigramCollocationFinder.from_words(trump)\n",
    "finder.apply_freq_filter(2) # reduce to bigrams that appeared at least 3 times\n",
    "finder.nbest(bigram_measures.pmi, 20)"
   ]
  },
  {
   "cell_type": "code",
   "execution_count": 50,
   "metadata": {},
   "outputs": [
    {
     "data": {
      "text/plain": [
       "[('200', 'bis'),\n",
       " ('bis', '300'),\n",
       " ('Das', 'Komitee'),\n",
       " ('Entwicklung', 'des'),\n",
       " ('dem', 'Areal'),\n",
       " ('es', 'uns'),\n",
       " ('sagt', 'Kutter'),\n",
       " ('zum', 'Gestaltungsplan'),\n",
       " ('aktiv', 'zu'),\n",
       " ('des', 'Areals'),\n",
       " ('in', 'dieser'),\n",
       " ('Gestaltungsplan', 'Au-Park'),\n",
       " ('vorantreiben', '»'),\n",
       " ('werden.', '»'),\n",
       " ('auf', 'dem')]"
      ]
     },
     "execution_count": 50,
     "metadata": {},
     "output_type": "execute_result"
    }
   ],
   "source": [
    "#mit dem zsz-text versuchen (tokenizen, sonst gibt nur Buchstaben-Paare!)\n",
    "from nltk.collocations import *\n",
    "tokens = nltk.word_tokenize(sample2)\n",
    "bigram_measures = nltk.collocations.BigramAssocMeasures()\n",
    "trigram_measures = nltk.collocations.TrigramAssocMeasures()\n",
    "finder = BigramCollocationFinder.from_words(tokens)\n",
    "finder.apply_freq_filter(2) # reduce to bigrams that appeared at least 3 times\n",
    "finder.nbest(bigram_measures.pmi, 15)"
   ]
  },
  {
   "cell_type": "markdown",
   "metadata": {},
   "source": [
    "- Trigramme in der Menschenrechtserklärung\n",
    "- mehr Beispiele unter http://www.nltk.org/howto/collocations.html"
   ]
  },
  {
   "cell_type": "code",
   "execution_count": 51,
   "metadata": {},
   "outputs": [
    {
     "data": {
      "text/plain": [
       "[('hat', 'das', 'Recht'),\n",
       " ('Jeder', 'hat', 'das'),\n",
       " ('.', 'Niemand', 'darf'),\n",
       " ('das', 'Recht', 'auf'),\n",
       " ('hat', 'Anspruch', 'auf'),\n",
       " ('Jeder', 'hat', 'Anspruch'),\n",
       " ('werden', '.', 'Artikel'),\n",
       " ('.', 'Jeder', 'hat'),\n",
       " (',', 'da', 'die'),\n",
       " ('das', 'Recht', ',')]"
      ]
     },
     "execution_count": 51,
     "metadata": {},
     "output_type": "execute_result"
    }
   ],
   "source": [
    "finder = TrigramCollocationFinder.from_words(menschenrechtserklaerungs_text)\n",
    "finder.apply_freq_filter(3) # reduce to bigrams that appeared at least 3 times\n",
    "finder.nbest(trigram_measures.pmi, 10)"
   ]
  },
  {
   "cell_type": "markdown",
   "metadata": {},
   "source": [
    "# Übereinstimmungen oder Konkordanz"
   ]
  },
  {
   "cell_type": "markdown",
   "metadata": {},
   "source": [
    "- In welchem Kontext steht überall \"monstrous\" im Text bei Moby Dick?"
   ]
  },
  {
   "cell_type": "code",
   "execution_count": 47,
   "metadata": {},
   "outputs": [
    {
     "name": "stdout",
     "output_type": "stream",
     "text": [
      "Displaying 4 of 4 matches:\n",
      "onntag dem privaten Gestaltungsplan Au-Park zu gestimmt . Und zwar deutlich , m\n",
      "Ja gesagt haben zum Gestaltungsplan Au-Park . Nun kann dort neues Leben einzieh\n",
      "racht haben » , sagt Kutter , « der Au-Park erlaubt es uns nun , in dieser Frag\n",
      "n politischen Unterstützung für den Au-Park . « Unsere Motivation , dennoch akt\n"
     ]
    }
   ],
   "source": [
    "#eigenes beispiel\n",
    "tokens = nltk.word_tokenize(sample2)\n",
    "sample_text = nltk.Text(tokens)\n",
    "sample_text.concordance(\"Au-Park\")"
   ]
  },
  {
   "cell_type": "code",
   "execution_count": 42,
   "metadata": {},
   "outputs": [
    {
     "data": {
      "text/plain": [
       "<Text: Letztlich war es eine klare Sache . So...>"
      ]
     },
     "execution_count": 42,
     "metadata": {},
     "output_type": "execute_result"
    }
   ],
   "source": [
    "sample_text"
   ]
  },
  {
   "cell_type": "code",
   "execution_count": 52,
   "metadata": {},
   "outputs": [
    {
     "name": "stdout",
     "output_type": "stream",
     "text": [
      "Displaying 11 of 11 matches:\n",
      "ong the former , one was of a most monstrous size . ... This came towards us , \n",
      "ON OF THE PSALMS . \" Touching that monstrous bulk of the whale or ork we have r\n",
      "ll over with a heathenish array of monstrous clubs and spears . Some were thick\n",
      "d as you gazed , and wondered what monstrous cannibal and savage could ever hav\n",
      "that has survived the flood ; most monstrous and most mountainous ! That Himmal\n",
      "they might scout at Moby Dick as a monstrous fable , or still worse and more de\n",
      "th of Radney .'\" CHAPTER 55 Of the Monstrous Pictures of Whales . I shall ere l\n",
      "ing Scenes . In connexion with the monstrous pictures of whales , I am strongly\n",
      "ere to enter upon those still more monstrous stories of them which are to be fo\n",
      "ght have been rummaged out of this monstrous cabinet there is no telling . But \n",
      "of Whale - Bones ; for Whales of a monstrous size are oftentimes cast up dead u\n"
     ]
    }
   ],
   "source": [
    "text1.concordance(\"monstrous\")"
   ]
  },
  {
   "cell_type": "markdown",
   "metadata": {},
   "source": [
    "- In welchem Kontext kommen Menschenrechte in der Menschenrechtserklärung vor?"
   ]
  },
  {
   "cell_type": "code",
   "execution_count": 53,
   "metadata": {},
   "outputs": [
    {
     "name": "stdout",
     "output_type": "stream",
     "text": [
      "Displaying 25 of 28 matches:\n",
      "kt ist ist . Artikel 3 Jeder hat das Recht auf Leben , Freiheit und Sicherheit \n",
      "fen werden . Artikel 6 Jeder hat das Recht , überall als rechtsfähig anerkannt \n",
      " Handlung beschuldigt wird , hat das Recht , als unschuldig zu gelten , solange\n",
      "nnerstaatlichem oder internationalem Recht nicht strafbar war . Ebenso darf kei\n",
      "htigungen . Artikel 13 Jeder hat das Recht , sich innerhalb eines Staates frei \n",
      "tsort frei zu wählen . Jeder hat das Recht , jedes Land , einschließlich seines\n",
      "kzukehren . Artikel 14 Jeder hat das Recht , in anderen Ländern vor Verfolgung \n",
      "l zu suchen und zu genießen . Dieses Recht kann nicht in Anspruch genommen werd\n",
      "verstoßen . Artikel 15 Jeder hat das Recht auf eine Staatsangehörigkeit . Niema\n",
      "igkeit willkürlich entzogen noch das Recht versagt werden , seine Staatsanghöri\n",
      "sangehörigkeit oder der Religion das Recht zu heiraten und eine Familie zu grün\n",
      "und Staat . Artikel 17 Jeder hat das Recht , sowohl allein als auch in Gemeinsc\n",
      "bt werden . Artikel 18 Jeder hat das Recht auf Gedanken - , Gewissens - und Rel\n",
      "ens - und Religionsfreiheit ; dieses Recht schließt die Freiheit ein , seine Re\n",
      " bekennen . Artikel 19 Jeder hat das Recht auf Meinungsfreiheit und freie Meinu\n",
      " und freie Meinungsäußerung ; dieses Recht schließt die Freiheit ein , Meinunge\n",
      ". Artikel 20 Alle Menschen haben das Recht , sich friedlich zu versammeln und z\n",
      "zugehören . Artikel 21 Jeder hat das Recht , an der Gestaltung der öffentlichen\n",
      "ertreter mitzuwirken . Jeder hat das Recht auf gleichen Zugang zu öffentlichen \n",
      "at als Mitglied der Gesellschaft das Recht auf soziale Sicherheit und Anspruch \n",
      "lich sind . Artikel 23 Jeder hat das Recht auf Arbeit , auf freie Berufswahl , \n",
      ". Jeder , ohne Unterschied , hat das Recht auf gleichen Lohn für gleiche Arbeit\n",
      "eit . Jeder , der arbeitet , hat das Recht auf gerechte und befriedigende Entlo\n",
      "iale Schutzmaßnahmen . Jeder hat das Recht , zum Schutz seiner Interessen Gewer\n",
      "izutreten . Artikel 24 Jeder hat das Recht auf Erholung und Freizeit und insbes\n"
     ]
    }
   ],
   "source": [
    "menschenrechtserklaerungs_text.concordance(\"Recht\")"
   ]
  },
  {
   "cell_type": "markdown",
   "metadata": {},
   "source": [
    "## Ähnlichkeit: Welche Wörter benutzen den gleichen Kontext?\n",
    "- Bei Moby Dick?"
   ]
  },
  {
   "cell_type": "code",
   "execution_count": 54,
   "metadata": {},
   "outputs": [
    {
     "name": "stdout",
     "output_type": "stream",
     "text": [
      "true contemptible christian abundant few part mean careful puzzled\n",
      "mystifying passing curious loving wise doleful gamesome singular\n",
      "delightfully perilous fearless\n"
     ]
    }
   ],
   "source": [
    "text1.similar(\"monstrous\")"
   ]
  },
  {
   "cell_type": "code",
   "execution_count": 63,
   "metadata": {},
   "outputs": [
    {
     "name": "stdout",
     "output_type": "stream",
     "text": [
      "No matches\n"
     ]
    }
   ],
   "source": [
    "#bringt keine resultate wenn zu kurzer text....\n",
    "sample_text.similar(\"Abstimmung\")"
   ]
  },
  {
   "cell_type": "markdown",
   "metadata": {},
   "source": [
    "- Bei Jane Austen?"
   ]
  },
  {
   "cell_type": "code",
   "execution_count": 55,
   "metadata": {},
   "outputs": [
    {
     "name": "stdout",
     "output_type": "stream",
     "text": [
      "very so exceedingly heartily a as good great extremely remarkably\n",
      "sweet vast amazingly\n"
     ]
    }
   ],
   "source": [
    "text2.similar(\"monstrous\")"
   ]
  },
  {
   "cell_type": "markdown",
   "metadata": {},
   "source": [
    "- In der Menschenrechtserkläreung?"
   ]
  },
  {
   "cell_type": "code",
   "execution_count": 64,
   "metadata": {},
   "outputs": [
    {
     "name": "stdout",
     "output_type": "stream",
     "text": [
      "gleichen gesellschaft seine ehe organisation arbeitszeit\n",
      "grundschulunterricht\n"
     ]
    }
   ],
   "source": [
    "menschenrechtserklaerungs_text.similar(\"Menschenrechte\")"
   ]
  },
  {
   "cell_type": "markdown",
   "metadata": {},
   "source": [
    "## Dispersionsplot\n",
    "- Welche Wörter kommen wann gemeinsam vor?"
   ]
  },
  {
   "cell_type": "code",
   "execution_count": 65,
   "metadata": {},
   "outputs": [
    {
     "data": {
      "image/png": "[encoded data removed]",
      "text/plain": [
       "<Figure size 1080x576 with 1 Axes>"
      ]
     },
     "metadata": {
      "needs_background": "light"
     },
     "output_type": "display_data"
    }
   ],
   "source": [
    "%matplotlib inline\n",
    "import matplotlib.pyplot as plt\n",
    "plt.figure(figsize=(15,8))\n",
    "text1.dispersion_plot([\"monstrous\", \"whale\", \"ship\", \"wind\", \"water\"])"
   ]
  },
  {
   "cell_type": "code",
   "execution_count": 66,
   "metadata": {},
   "outputs": [
    {
     "data": {
      "image/png": "[encoded data removed]",
      "text/plain": [
       "<Figure size 1080x576 with 1 Axes>"
      ]
     },
     "metadata": {
      "needs_background": "light"
     },
     "output_type": "display_data"
    }
   ],
   "source": [
    "plt.figure(figsize=(15,8))\n",
    "menschenrechtserklaerungs_text.dispersion_plot([\"Menschenrechte\", \"Arbeit\", \"Freiheit\", \"Mensch\"])"
   ]
  },
  {
   "cell_type": "markdown",
   "metadata": {},
   "source": [
    "## Aufgabe:\n",
    "- Probiert es mal mit einem Dispersionsplot für einen Text eurer Wahl. "
   ]
  },
  {
   "cell_type": "code",
   "execution_count": 70,
   "metadata": {},
   "outputs": [
    {
     "data": {
      "image/png": "[encoded data removed]",
      "text/plain": [
       "<Figure size 1080x576 with 1 Axes>"
      ]
     },
     "metadata": {
      "needs_background": "light"
     },
     "output_type": "display_data"
    }
   ],
   "source": [
    "%matplotlib inline\n",
    "import matplotlib.pyplot as plt\n",
    "plt.figure(figsize=(15,8))\n",
    "sample_text.dispersion_plot([\"Wädenswil\",\"Wädenswiler\", \"Au-Park\",\"Gestaltungsplan\",\"Kutter\",\"Kantonsschule\"])"
   ]
  },
  {
   "cell_type": "code",
   "execution_count": null,
   "metadata": {},
   "outputs": [],
   "source": []
  }
 ],
 "metadata": {
  "kernelspec": {
   "display_name": "Python 3",
   "language": "python",
   "name": "python3"
  },
  "language_info": {
   "codemirror_mode": {
    "name": "ipython",
    "version": 3
   },
   "file_extension": ".py",
   "mimetype": "text/x-python",
   "name": "python",
   "nbconvert_exporter": "python",
   "pygments_lexer": "ipython3",
   "version": "3.7.4"
  }
 },
 "nbformat": 4,
 "nbformat_minor": 2
}
