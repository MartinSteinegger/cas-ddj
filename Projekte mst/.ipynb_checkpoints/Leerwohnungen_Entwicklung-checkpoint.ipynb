{
 "cells": [
  {
   "cell_type": "code",
   "execution_count": 51,
   "metadata": {},
   "outputs": [],
   "source": [
    "import pandas as pd\n",
    "import numpy as np\n",
    "import re\n",
    "import glob\n",
    "%matplotlib inline"
   ]
  },
  {
   "cell_type": "code",
   "execution_count": 52,
   "metadata": {},
   "outputs": [],
   "source": [
    "path = 'leerwohnungen/liste/gpzuerich.xlsx'"
   ]
  },
  {
   "cell_type": "code",
   "execution_count": 53,
   "metadata": {},
   "outputs": [],
   "source": [
    "df = pd.read_excel(path)"
   ]
  },
  {
   "cell_type": "code",
   "execution_count": 54,
   "metadata": {},
   "outputs": [
    {
     "data": {
      "text/html": [
       "<div>\n",
       "<style scoped>\n",
       "    .dataframe tbody tr th:only-of-type {\n",
       "        vertical-align: middle;\n",
       "    }\n",
       "\n",
       "    .dataframe tbody tr th {\n",
       "        vertical-align: top;\n",
       "    }\n",
       "\n",
       "    .dataframe thead th {\n",
       "        text-align: right;\n",
       "    }\n",
       "</style>\n",
       "<table border=\"1\" class=\"dataframe\">\n",
       "  <thead>\n",
       "    <tr style=\"text-align: right;\">\n",
       "      <th></th>\n",
       "      <th>BFS_NR</th>\n",
       "      <th>GEBIET_NAME</th>\n",
       "      <th>2019</th>\n",
       "      <th>2018</th>\n",
       "      <th>2017</th>\n",
       "      <th>2016</th>\n",
       "      <th>2015</th>\n",
       "      <th>2014</th>\n",
       "      <th>2013</th>\n",
       "      <th>2012</th>\n",
       "      <th>...</th>\n",
       "      <th>1993</th>\n",
       "      <th>1992</th>\n",
       "      <th>1991</th>\n",
       "      <th>1990</th>\n",
       "      <th>1989</th>\n",
       "      <th>1988</th>\n",
       "      <th>1987</th>\n",
       "      <th>1986</th>\n",
       "      <th>1985</th>\n",
       "      <th>1984</th>\n",
       "    </tr>\n",
       "  </thead>\n",
       "  <tbody>\n",
       "    <tr>\n",
       "      <td>0</td>\n",
       "      <td>21</td>\n",
       "      <td>Adlikon</td>\n",
       "      <td>0.68</td>\n",
       "      <td>0.34</td>\n",
       "      <td>1.79</td>\n",
       "      <td>0.72</td>\n",
       "      <td>2.30</td>\n",
       "      <td>0.82</td>\n",
       "      <td>1.69</td>\n",
       "      <td>0.85</td>\n",
       "      <td>...</td>\n",
       "      <td>0.54</td>\n",
       "      <td>2.79</td>\n",
       "      <td>2.30</td>\n",
       "      <td>0.00</td>\n",
       "      <td>0.61</td>\n",
       "      <td>1.27</td>\n",
       "      <td>2.60</td>\n",
       "      <td>2.67</td>\n",
       "      <td>3.62</td>\n",
       "      <td>1.49</td>\n",
       "    </tr>\n",
       "    <tr>\n",
       "      <td>1</td>\n",
       "      <td>131</td>\n",
       "      <td>Adliswil</td>\n",
       "      <td>0.75</td>\n",
       "      <td>0.90</td>\n",
       "      <td>0.86</td>\n",
       "      <td>0.65</td>\n",
       "      <td>0.77</td>\n",
       "      <td>0.44</td>\n",
       "      <td>0.89</td>\n",
       "      <td>0.99</td>\n",
       "      <td>...</td>\n",
       "      <td>0.91</td>\n",
       "      <td>0.49</td>\n",
       "      <td>0.03</td>\n",
       "      <td>0.00</td>\n",
       "      <td>0.00</td>\n",
       "      <td>0.08</td>\n",
       "      <td>0.29</td>\n",
       "      <td>0.00</td>\n",
       "      <td>0.28</td>\n",
       "      <td>0.10</td>\n",
       "    </tr>\n",
       "    <tr>\n",
       "      <td>2</td>\n",
       "      <td>241</td>\n",
       "      <td>Aesch ZH</td>\n",
       "      <td>2.44</td>\n",
       "      <td>4.38</td>\n",
       "      <td>0.83</td>\n",
       "      <td>6.12</td>\n",
       "      <td>1.08</td>\n",
       "      <td>1.09</td>\n",
       "      <td>1.17</td>\n",
       "      <td>0.41</td>\n",
       "      <td>...</td>\n",
       "      <td>0.77</td>\n",
       "      <td>0.00</td>\n",
       "      <td>0.00</td>\n",
       "      <td>0.00</td>\n",
       "      <td>0.00</td>\n",
       "      <td>0.00</td>\n",
       "      <td>0.00</td>\n",
       "      <td>3.70</td>\n",
       "      <td>0.00</td>\n",
       "      <td>0.63</td>\n",
       "    </tr>\n",
       "    <tr>\n",
       "      <td>3</td>\n",
       "      <td>1</td>\n",
       "      <td>Aeugst a.A.</td>\n",
       "      <td>5.65</td>\n",
       "      <td>1.55</td>\n",
       "      <td>2.60</td>\n",
       "      <td>2.15</td>\n",
       "      <td>2.05</td>\n",
       "      <td>1.60</td>\n",
       "      <td>0.47</td>\n",
       "      <td>0.12</td>\n",
       "      <td>...</td>\n",
       "      <td>0.00</td>\n",
       "      <td>1.06</td>\n",
       "      <td>0.64</td>\n",
       "      <td>0.00</td>\n",
       "      <td>0.00</td>\n",
       "      <td>0.30</td>\n",
       "      <td>0.00</td>\n",
       "      <td>0.31</td>\n",
       "      <td>0.32</td>\n",
       "      <td>0.64</td>\n",
       "    </tr>\n",
       "    <tr>\n",
       "      <td>4</td>\n",
       "      <td>2</td>\n",
       "      <td>Affoltern a.A.</td>\n",
       "      <td>1.07</td>\n",
       "      <td>1.46</td>\n",
       "      <td>1.21</td>\n",
       "      <td>0.77</td>\n",
       "      <td>0.82</td>\n",
       "      <td>0.59</td>\n",
       "      <td>0.42</td>\n",
       "      <td>0.62</td>\n",
       "      <td>...</td>\n",
       "      <td>0.00</td>\n",
       "      <td>0.16</td>\n",
       "      <td>0.08</td>\n",
       "      <td>0.08</td>\n",
       "      <td>0.13</td>\n",
       "      <td>0.27</td>\n",
       "      <td>0.11</td>\n",
       "      <td>0.37</td>\n",
       "      <td>0.64</td>\n",
       "      <td>0.67</td>\n",
       "    </tr>\n",
       "  </tbody>\n",
       "</table>\n",
       "<p>5 rows × 38 columns</p>\n",
       "</div>"
      ],
      "text/plain": [
       "   BFS_NR     GEBIET_NAME  2019  2018  2017  2016  2015  2014  2013  2012  \\\n",
       "0      21         Adlikon  0.68  0.34  1.79  0.72  2.30  0.82  1.69  0.85   \n",
       "1     131        Adliswil  0.75  0.90  0.86  0.65  0.77  0.44  0.89  0.99   \n",
       "2     241        Aesch ZH  2.44  4.38  0.83  6.12  1.08  1.09  1.17  0.41   \n",
       "3       1     Aeugst a.A.  5.65  1.55  2.60  2.15  2.05  1.60  0.47  0.12   \n",
       "4       2  Affoltern a.A.  1.07  1.46  1.21  0.77  0.82  0.59  0.42  0.62   \n",
       "\n",
       "   ...  1993  1992  1991  1990  1989  1988  1987  1986  1985  1984  \n",
       "0  ...  0.54  2.79  2.30  0.00  0.61  1.27  2.60  2.67  3.62  1.49  \n",
       "1  ...  0.91  0.49  0.03  0.00  0.00  0.08  0.29  0.00  0.28  0.10  \n",
       "2  ...  0.77  0.00  0.00  0.00  0.00  0.00  0.00  3.70  0.00  0.63  \n",
       "3  ...  0.00  1.06  0.64  0.00  0.00  0.30  0.00  0.31  0.32  0.64  \n",
       "4  ...  0.00  0.16  0.08  0.08  0.13  0.27  0.11  0.37  0.64  0.67  \n",
       "\n",
       "[5 rows x 38 columns]"
      ]
     },
     "execution_count": 54,
     "metadata": {},
     "output_type": "execute_result"
    }
   ],
   "source": [
    "df.head(5)"
   ]
  },
  {
   "cell_type": "code",
   "execution_count": 55,
   "metadata": {},
   "outputs": [
    {
     "data": {
      "text/plain": [
       "(176, 38)"
      ]
     },
     "execution_count": 55,
     "metadata": {},
     "output_type": "execute_result"
    }
   ],
   "source": [
    "df.shape"
   ]
  },
  {
   "cell_type": "code",
   "execution_count": 56,
   "metadata": {},
   "outputs": [
    {
     "data": {
      "text/plain": [
       "BFS_NR           int64\n",
       "GEBIET_NAME     object\n",
       "2019           float64\n",
       "2018           float64\n",
       "2017           float64\n",
       "2016           float64\n",
       "2015           float64\n",
       "2014           float64\n",
       "2013           float64\n",
       "2012           float64\n",
       "2011           float64\n",
       "2010           float64\n",
       "2009           float64\n",
       "2008           float64\n",
       "2007           float64\n",
       "2006           float64\n",
       "2005           float64\n",
       "2004           float64\n",
       "2003           float64\n",
       "2002           float64\n",
       "2001           float64\n",
       "2000           float64\n",
       "1999           float64\n",
       "1998           float64\n",
       "1997           float64\n",
       "1996           float64\n",
       "1995           float64\n",
       "1994           float64\n",
       "1993           float64\n",
       "1992           float64\n",
       "1991           float64\n",
       "1990           float64\n",
       "1989           float64\n",
       "1988           float64\n",
       "1987           float64\n",
       "1986           float64\n",
       "1985           float64\n",
       "1984           float64\n",
       "dtype: object"
      ]
     },
     "execution_count": 56,
     "metadata": {},
     "output_type": "execute_result"
    }
   ],
   "source": [
    "df.dtypes"
   ]
  },
  {
   "cell_type": "code",
   "execution_count": 57,
   "metadata": {},
   "outputs": [
    {
     "data": {
      "text/plain": [
       "array(['Adlikon', 'Adliswil', 'Aesch ZH', 'Aeugst a.A.', 'Affoltern a.A.',\n",
       "       'Altikon', 'Andelfingen', 'Bachenbülach', 'Bachs', 'Bäretswil',\n",
       "       'Bassersdorf', 'Bauma', 'Bauma (bis 2014)', 'Benken', 'Berg a.I.',\n",
       "       'Birmensdorf', 'Bonstetten', 'Boppelsen', 'Brütten', 'Bubikon',\n",
       "       'Buch a.I.', 'Buchs', 'Bülach', 'Dachsen', 'Dägerlen', 'Dällikon',\n",
       "       'Dänikon', 'Dättlikon', 'Dielsdorf', 'Dietikon', 'Dietlikon',\n",
       "       'Dinhard', 'Dorf', 'Dübendorf', 'Dürnten', 'Egg', 'Eglisau',\n",
       "       'Elgg', 'Elgg (bis 2017)', 'Ellikon a.d.Th.', 'Elsau', 'Embrach',\n",
       "       'Erlenbach', 'Fällanden', 'Fehraltorf', 'Feuerthalen',\n",
       "       'Fischenthal', 'Flaach', 'Flurlingen', 'Freienstein-Teufen',\n",
       "       'Geroldswil', 'Glattfelden', 'Gossau', 'Greifensee', 'Grüningen',\n",
       "       'Hagenbuch', 'Hausen a.A.', 'Hedingen', 'Henggart', 'Herrliberg',\n",
       "       'Hettlingen', 'Hinwil', 'Hirzel (bis 2017)', 'Hittnau',\n",
       "       'Hochfelden', 'Hofstetten (bis 2017)', 'Hombrechtikon', 'Horgen',\n",
       "       'Horgen (bis 2017)', 'Höri', 'Humlikon', 'Hüntwangen',\n",
       "       'Hütten (bis 2018)', 'Hüttikon', 'Illnau-Effretikon',\n",
       "       'Illnau-Effretikon (bis 2015)', 'Kappel a.A.', 'Kilchberg',\n",
       "       'Kleinandelfingen', 'Kloten', 'Knonau', 'Küsnacht',\n",
       "       'Kyburg (bis 2015)', 'Langnau a.A.', 'Laufen-Uhwiesen', 'Lindau',\n",
       "       'Lufingen', 'Männedorf', 'Marthalen', 'Maschwanden', 'Maur',\n",
       "       'Meilen', 'Mettmenstetten', 'Mönchaltorf', 'Neerach', 'Neftenbach',\n",
       "       'Niederglatt', 'Niederhasli', 'Niederweningen', 'Nürensdorf',\n",
       "       'Oberembrach', 'Oberengstringen', 'Oberglatt', 'Oberrieden',\n",
       "       'Oberstammheim (bis 2018)', 'Oberweningen', 'Obfelden',\n",
       "       'Oetwil a.d.L.', 'Oetwil a.S.', 'Opfikon', 'Ossingen',\n",
       "       'Otelfingen', 'Ottenbach', 'Pfäffikon', 'Pfungen', 'Rafz',\n",
       "       'Regensberg', 'Regensdorf', 'Rheinau', 'Richterswil', 'Rickenbach',\n",
       "       'Rifferswil', 'Rorbas', 'Rümlang', 'Rüschlikon', 'Russikon',\n",
       "       'Rüti', 'Schlatt', 'Schleinikon', 'Schlieren', 'Schöfflisdorf',\n",
       "       'Schönenberg (bis 2018)', 'Schwerzenbach', 'Seegräben', 'Seuzach',\n",
       "       'Stadel', 'Stäfa', 'Stallikon', 'Stammheim', 'Steinmaur',\n",
       "       'Sternenberg (bis 2014)', 'Thalheim a.d.Th.', 'Thalwil',\n",
       "       'Trüllikon', 'Truttikon', 'Turbenthal', 'Uetikon a.S.', 'Uitikon',\n",
       "       'Unterengstringen', 'Unterstammheim (bis 2018)', 'Urdorf', 'Uster',\n",
       "       'Volken', 'Volketswil', 'Wädenswil', 'Wädenswil (bis 2018)',\n",
       "       'Wald', 'Wallisellen', 'Waltalingen (bis 2018)',\n",
       "       'Wangen-Brüttisellen', 'Wasterkingen', 'Weiach', 'Weiningen',\n",
       "       'Weisslingen', 'Wettswil a.A.', 'Wetzikon', 'Wiesendangen', 'Wil',\n",
       "       'Wila', 'Wildberg', 'Winkel', 'Winterthur', 'Zell', 'Zollikon',\n",
       "       'Zumikon', 'Zürich'], dtype=object)"
      ]
     },
     "execution_count": 57,
     "metadata": {},
     "output_type": "execute_result"
    }
   ],
   "source": [
    "df[\"GEBIET_NAME\"].unique()"
   ]
  },
  {
   "cell_type": "code",
   "execution_count": 58,
   "metadata": {},
   "outputs": [],
   "source": [
    "df.set_index('GEBIET_NAME', inplace=True)"
   ]
  },
  {
   "cell_type": "code",
   "execution_count": 59,
   "metadata": {},
   "outputs": [
    {
     "data": {
      "text/html": [
       "<div>\n",
       "<style scoped>\n",
       "    .dataframe tbody tr th:only-of-type {\n",
       "        vertical-align: middle;\n",
       "    }\n",
       "\n",
       "    .dataframe tbody tr th {\n",
       "        vertical-align: top;\n",
       "    }\n",
       "\n",
       "    .dataframe thead th {\n",
       "        text-align: right;\n",
       "    }\n",
       "</style>\n",
       "<table border=\"1\" class=\"dataframe\">\n",
       "  <thead>\n",
       "    <tr style=\"text-align: right;\">\n",
       "      <th></th>\n",
       "      <th>BFS_NR</th>\n",
       "      <th>2019</th>\n",
       "      <th>2018</th>\n",
       "      <th>2017</th>\n",
       "      <th>2016</th>\n",
       "      <th>2015</th>\n",
       "      <th>2014</th>\n",
       "      <th>2013</th>\n",
       "      <th>2012</th>\n",
       "      <th>2011</th>\n",
       "      <th>...</th>\n",
       "      <th>1993</th>\n",
       "      <th>1992</th>\n",
       "      <th>1991</th>\n",
       "      <th>1990</th>\n",
       "      <th>1989</th>\n",
       "      <th>1988</th>\n",
       "      <th>1987</th>\n",
       "      <th>1986</th>\n",
       "      <th>1985</th>\n",
       "      <th>1984</th>\n",
       "    </tr>\n",
       "    <tr>\n",
       "      <th>GEBIET_NAME</th>\n",
       "      <th></th>\n",
       "      <th></th>\n",
       "      <th></th>\n",
       "      <th></th>\n",
       "      <th></th>\n",
       "      <th></th>\n",
       "      <th></th>\n",
       "      <th></th>\n",
       "      <th></th>\n",
       "      <th></th>\n",
       "      <th></th>\n",
       "      <th></th>\n",
       "      <th></th>\n",
       "      <th></th>\n",
       "      <th></th>\n",
       "      <th></th>\n",
       "      <th></th>\n",
       "      <th></th>\n",
       "      <th></th>\n",
       "      <th></th>\n",
       "      <th></th>\n",
       "    </tr>\n",
       "  </thead>\n",
       "  <tbody>\n",
       "    <tr>\n",
       "      <td>Adlikon</td>\n",
       "      <td>21</td>\n",
       "      <td>0.68</td>\n",
       "      <td>0.34</td>\n",
       "      <td>1.79</td>\n",
       "      <td>0.72</td>\n",
       "      <td>2.30</td>\n",
       "      <td>0.82</td>\n",
       "      <td>1.69</td>\n",
       "      <td>0.85</td>\n",
       "      <td>0.43</td>\n",
       "      <td>...</td>\n",
       "      <td>0.54</td>\n",
       "      <td>2.79</td>\n",
       "      <td>2.30</td>\n",
       "      <td>0.00</td>\n",
       "      <td>0.61</td>\n",
       "      <td>1.27</td>\n",
       "      <td>2.60</td>\n",
       "      <td>2.67</td>\n",
       "      <td>3.62</td>\n",
       "      <td>1.49</td>\n",
       "    </tr>\n",
       "    <tr>\n",
       "      <td>Adliswil</td>\n",
       "      <td>131</td>\n",
       "      <td>0.75</td>\n",
       "      <td>0.90</td>\n",
       "      <td>0.86</td>\n",
       "      <td>0.65</td>\n",
       "      <td>0.77</td>\n",
       "      <td>0.44</td>\n",
       "      <td>0.89</td>\n",
       "      <td>0.99</td>\n",
       "      <td>1.25</td>\n",
       "      <td>...</td>\n",
       "      <td>0.91</td>\n",
       "      <td>0.49</td>\n",
       "      <td>0.03</td>\n",
       "      <td>0.00</td>\n",
       "      <td>0.00</td>\n",
       "      <td>0.08</td>\n",
       "      <td>0.29</td>\n",
       "      <td>0.00</td>\n",
       "      <td>0.28</td>\n",
       "      <td>0.10</td>\n",
       "    </tr>\n",
       "    <tr>\n",
       "      <td>Aesch ZH</td>\n",
       "      <td>241</td>\n",
       "      <td>2.44</td>\n",
       "      <td>4.38</td>\n",
       "      <td>0.83</td>\n",
       "      <td>6.12</td>\n",
       "      <td>1.08</td>\n",
       "      <td>1.09</td>\n",
       "      <td>1.17</td>\n",
       "      <td>0.41</td>\n",
       "      <td>1.49</td>\n",
       "      <td>...</td>\n",
       "      <td>0.77</td>\n",
       "      <td>0.00</td>\n",
       "      <td>0.00</td>\n",
       "      <td>0.00</td>\n",
       "      <td>0.00</td>\n",
       "      <td>0.00</td>\n",
       "      <td>0.00</td>\n",
       "      <td>3.70</td>\n",
       "      <td>0.00</td>\n",
       "      <td>0.63</td>\n",
       "    </tr>\n",
       "    <tr>\n",
       "      <td>Aeugst a.A.</td>\n",
       "      <td>1</td>\n",
       "      <td>5.65</td>\n",
       "      <td>1.55</td>\n",
       "      <td>2.60</td>\n",
       "      <td>2.15</td>\n",
       "      <td>2.05</td>\n",
       "      <td>1.60</td>\n",
       "      <td>0.47</td>\n",
       "      <td>0.12</td>\n",
       "      <td>1.30</td>\n",
       "      <td>...</td>\n",
       "      <td>0.00</td>\n",
       "      <td>1.06</td>\n",
       "      <td>0.64</td>\n",
       "      <td>0.00</td>\n",
       "      <td>0.00</td>\n",
       "      <td>0.30</td>\n",
       "      <td>0.00</td>\n",
       "      <td>0.31</td>\n",
       "      <td>0.32</td>\n",
       "      <td>0.64</td>\n",
       "    </tr>\n",
       "    <tr>\n",
       "      <td>Affoltern a.A.</td>\n",
       "      <td>2</td>\n",
       "      <td>1.07</td>\n",
       "      <td>1.46</td>\n",
       "      <td>1.21</td>\n",
       "      <td>0.77</td>\n",
       "      <td>0.82</td>\n",
       "      <td>0.59</td>\n",
       "      <td>0.42</td>\n",
       "      <td>0.62</td>\n",
       "      <td>0.45</td>\n",
       "      <td>...</td>\n",
       "      <td>0.00</td>\n",
       "      <td>0.16</td>\n",
       "      <td>0.08</td>\n",
       "      <td>0.08</td>\n",
       "      <td>0.13</td>\n",
       "      <td>0.27</td>\n",
       "      <td>0.11</td>\n",
       "      <td>0.37</td>\n",
       "      <td>0.64</td>\n",
       "      <td>0.67</td>\n",
       "    </tr>\n",
       "  </tbody>\n",
       "</table>\n",
       "<p>5 rows × 37 columns</p>\n",
       "</div>"
      ],
      "text/plain": [
       "                BFS_NR  2019  2018  2017  2016  2015  2014  2013  2012  2011  \\\n",
       "GEBIET_NAME                                                                    \n",
       "Adlikon             21  0.68  0.34  1.79  0.72  2.30  0.82  1.69  0.85  0.43   \n",
       "Adliswil           131  0.75  0.90  0.86  0.65  0.77  0.44  0.89  0.99  1.25   \n",
       "Aesch ZH           241  2.44  4.38  0.83  6.12  1.08  1.09  1.17  0.41  1.49   \n",
       "Aeugst a.A.          1  5.65  1.55  2.60  2.15  2.05  1.60  0.47  0.12  1.30   \n",
       "Affoltern a.A.       2  1.07  1.46  1.21  0.77  0.82  0.59  0.42  0.62  0.45   \n",
       "\n",
       "                ...  1993  1992  1991  1990  1989  1988  1987  1986  1985  \\\n",
       "GEBIET_NAME     ...                                                         \n",
       "Adlikon         ...  0.54  2.79  2.30  0.00  0.61  1.27  2.60  2.67  3.62   \n",
       "Adliswil        ...  0.91  0.49  0.03  0.00  0.00  0.08  0.29  0.00  0.28   \n",
       "Aesch ZH        ...  0.77  0.00  0.00  0.00  0.00  0.00  0.00  3.70  0.00   \n",
       "Aeugst a.A.     ...  0.00  1.06  0.64  0.00  0.00  0.30  0.00  0.31  0.32   \n",
       "Affoltern a.A.  ...  0.00  0.16  0.08  0.08  0.13  0.27  0.11  0.37  0.64   \n",
       "\n",
       "                1984  \n",
       "GEBIET_NAME           \n",
       "Adlikon         1.49  \n",
       "Adliswil        0.10  \n",
       "Aesch ZH        0.63  \n",
       "Aeugst a.A.     0.64  \n",
       "Affoltern a.A.  0.67  \n",
       "\n",
       "[5 rows x 37 columns]"
      ]
     },
     "execution_count": 59,
     "metadata": {},
     "output_type": "execute_result"
    }
   ],
   "source": [
    "df.head(5)"
   ]
  },
  {
   "cell_type": "code",
   "execution_count": 60,
   "metadata": {},
   "outputs": [
    {
     "data": {
      "text/plain": [
       "GEBIET_NAME\n",
       "Adlikon            21\n",
       "Adliswil          131\n",
       "Aesch ZH          241\n",
       "Aeugst a.A.         1\n",
       "Affoltern a.A.      2\n",
       "                 ... \n",
       "Winterthur        230\n",
       "Zell              231\n",
       "Zollikon          161\n",
       "Zumikon           160\n",
       "Zürich            261\n",
       "Name: BFS_NR, Length: 176, dtype: int64"
      ]
     },
     "execution_count": 60,
     "metadata": {},
     "output_type": "execute_result"
    }
   ],
   "source": [
    "df.pop('BFS_NR')"
   ]
  },
  {
   "cell_type": "code",
   "execution_count": 100,
   "metadata": {},
   "outputs": [],
   "source": [
    "df_adliswil = df.loc['Adliswil']\n",
    "df_langnau = df.loc[\"Langnau a.A.\"]\n",
    "df_rüschlikon = df.loc[\"Rüschlikon\"]\n",
    "df_kilchberg = df.loc[\"Kilchberg\"]\n",
    "df_thalwil = df.loc[\"Thalwil\"]\n",
    "df_richterswil = df.loc[\"Richterswil\"]\n",
    "df_oberrieden= df.loc[\"Oberrieden\"]\n",
    "df_hirzel2017 = df.loc[\"Hirzel (bis 2017)\"]\n",
    "df_schönenberg2018 = df.loc[\"Schönenberg (bis 2018)\"]\n",
    "df_hütten2018 = df.loc[\"Hütten (bis 2018)\"]\n",
    "df_wädenswil = df.loc[\"Wädenswil\"]\n",
    "df_wädenswil2018 = df.loc[\"Wädenswil (bis 2018)\"]\n",
    "df_horgen = df.loc[\"Horgen\"]\n",
    "df_horgen2017 = df.loc[\"Horgen (bis 2017)\"]"
   ]
  },
  {
   "cell_type": "code",
   "execution_count": 109,
   "metadata": {},
   "outputs": [],
   "source": [
    "df_sihltal = pd.DataFrame({'Adliswil': df_adliswil, \"Langnau am Albis\": df_langnau})"
   ]
  },
  {
   "cell_type": "code",
   "execution_count": 113,
   "metadata": {},
   "outputs": [
    {
     "data": {
      "text/plain": [
       "<matplotlib.axes._subplots.AxesSubplot at 0x10abe9350>"
      ]
     },
     "execution_count": 113,
     "metadata": {},
     "output_type": "execute_result"
    },
    {
     "data": {
      "image/png": "[encoded data removed]",
      "text/plain": [
       "<Figure size 720x432 with 1 Axes>"
      ]
     },
     "metadata": {
      "needs_background": "light"
     },
     "output_type": "display_data"
    }
   ],
   "source": [
    "df_sihltal.plot(figsize=(10,6), title=\"Leerstandsquote Sihltal\")"
   ]
  },
  {
   "cell_type": "code",
   "execution_count": 117,
   "metadata": {},
   "outputs": [],
   "source": [
    "df_unterseelinks = pd.DataFrame({'Rüschlikon': df_rüschlikon, \"Kilchberg\": df_kilchberg, \"Thalwil\": df_thalwil})"
   ]
  },
  {
   "cell_type": "code",
   "execution_count": 119,
   "metadata": {},
   "outputs": [
    {
     "data": {
      "text/plain": [
       "<matplotlib.axes._subplots.AxesSubplot at 0x1196b5710>"
      ]
     },
     "execution_count": 119,
     "metadata": {},
     "output_type": "execute_result"
    },
    {
     "data": {
      "image/png": "[encoded data removed]",
      "text/plain": [
       "<Figure size 720x432 with 1 Axes>"
      ]
     },
     "metadata": {
      "needs_background": "light"
     },
     "output_type": "display_data"
    }
   ],
   "source": [
    "df_unterseelinks.plot(figsize=(10,6), title=\"Leerstandsquote Unterer Seeteil Bezirk Horgen\")"
   ]
  },
  {
   "cell_type": "code",
   "execution_count": null,
   "metadata": {},
   "outputs": [],
   "source": []
  }
 ],
 "metadata": {
  "kernelspec": {
   "display_name": "Python 3",
   "language": "python",
   "name": "python3"
  },
  "language_info": {
   "codemirror_mode": {
    "name": "ipython",
    "version": 3
   },
   "file_extension": ".py",
   "mimetype": "text/x-python",
   "name": "python",
   "nbconvert_exporter": "python",
   "pygments_lexer": "ipython3",
   "version": "3.7.4"
  }
 },
 "nbformat": 4,
 "nbformat_minor": 2
}
