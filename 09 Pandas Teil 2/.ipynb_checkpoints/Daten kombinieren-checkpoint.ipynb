{
 "cells": [
  {
   "cell_type": "markdown",
   "metadata": {},
   "source": [
    "# Daten kombinieren"
   ]
  },
  {
   "cell_type": "markdown",
   "metadata": {},
   "source": [
    "**Inhalt:** Verschiedene Quellen kombinieren, optisch und tabellarisch auswerten\n",
    "\n",
    "**Nötige Skills:** Daten explorieren, filtern, klassifizieren\n",
    "\n",
    "**Lernziele:**\n",
    "- Besser verstehen, wie Merge funktioniert\n",
    "- Daten kombinieren, Hypothesen testen\n",
    "- Einführung in Geopandas"
   ]
  },
  {
   "cell_type": "markdown",
   "metadata": {},
   "source": [
    "# Das Beispiel\n",
    "\n",
    "Der Immobilienboom hat die Schweiz über die letzten Jahre stark geprägt.\n",
    "\n",
    "Dazu haben wir Daten aus verschiedenen Quellen, die wir kombinieren möchten:\n",
    "- Bevölkerungsdaten aus Schweizer Gemeinden (BFS)\n",
    "- Wohnungsbau in Schweizer Gemeinden (BFS)\n",
    "- Leerwohnungsziffer in Schweizer Gemeinden (BFS)\n",
    "\n",
    "Anhand dieser Daten wollen wir herausfinden:\n",
    "- Welche Gemeinden sind am meisten gewachsen? Wo wurde am stärksten am Markt vorbeigebaut?\n",
    "\n",
    "Und natürlich wollen wir unsere Resultate schön darstellen."
   ]
  },
  {
   "cell_type": "markdown",
   "metadata": {},
   "source": [
    "## Vorbereitung"
   ]
  },
  {
   "cell_type": "markdown",
   "metadata": {},
   "source": [
    "Wir importieren ausnahmsweise etwas mehr Bibliotheken als sonst..."
   ]
  },
  {
   "cell_type": "code",
   "execution_count": 7,
   "metadata": {},
   "outputs": [],
   "source": [
    "import pandas as pd"
   ]
  },
  {
   "cell_type": "code",
   "execution_count": 8,
   "metadata": {},
   "outputs": [
    {
     "ename": "ModuleNotFoundError",
     "evalue": "No module named 'geopandas'",
     "output_type": "error",
     "traceback": [
      "\u001b[0;31m---------------------------------------------------------------------------\u001b[0m",
      "\u001b[0;31mModuleNotFoundError\u001b[0m                       Traceback (most recent call last)",
      "\u001b[0;32m<ipython-input-8-a62d01c1d62e>\u001b[0m in \u001b[0;36m<module>\u001b[0;34m\u001b[0m\n\u001b[0;32m----> 1\u001b[0;31m \u001b[0;32mimport\u001b[0m \u001b[0mgeopandas\u001b[0m \u001b[0;32mas\u001b[0m \u001b[0mgpd\u001b[0m\u001b[0;34m\u001b[0m\u001b[0;34m\u001b[0m\u001b[0m\n\u001b[0m",
      "\u001b[0;31mModuleNotFoundError\u001b[0m: No module named 'geopandas'"
     ]
    }
   ],
   "source": [
    "import geopandas as gpd"
   ]
  },
  {
   "cell_type": "code",
   "execution_count": 3,
   "metadata": {},
   "outputs": [
    {
     "ename": "ModuleNotFoundError",
     "evalue": "No module named 'shapely'",
     "output_type": "error",
     "traceback": [
      "\u001b[0;31m---------------------------------------------------------------------------\u001b[0m",
      "\u001b[0;31mModuleNotFoundError\u001b[0m                       Traceback (most recent call last)",
      "\u001b[0;32m<ipython-input-3-df8e65c5217a>\u001b[0m in \u001b[0;36m<module>\u001b[0;34m\u001b[0m\n\u001b[0;32m----> 1\u001b[0;31m \u001b[0;32mfrom\u001b[0m \u001b[0mshapely\u001b[0m\u001b[0;34m.\u001b[0m\u001b[0mgeometry\u001b[0m \u001b[0;32mimport\u001b[0m \u001b[0mPoint\u001b[0m\u001b[0;34m\u001b[0m\u001b[0;34m\u001b[0m\u001b[0m\n\u001b[0m",
      "\u001b[0;31mModuleNotFoundError\u001b[0m: No module named 'shapely'"
     ]
    }
   ],
   "source": [
    "from shapely.geometry import Point"
   ]
  },
  {
   "cell_type": "code",
   "execution_count": 12,
   "metadata": {},
   "outputs": [],
   "source": [
    "import matplotlib"
   ]
  },
  {
   "cell_type": "code",
   "execution_count": 13,
   "metadata": {},
   "outputs": [],
   "source": [
    "import matplotlib.pyplot as plt"
   ]
  },
  {
   "cell_type": "code",
   "execution_count": 14,
   "metadata": {},
   "outputs": [],
   "source": [
    "%matplotlib inline"
   ]
  },
  {
   "cell_type": "markdown",
   "metadata": {},
   "source": [
    "## Daten laden"
   ]
  },
  {
   "cell_type": "markdown",
   "metadata": {},
   "source": [
    "### Einwohnerzahlen"
   ]
  },
  {
   "cell_type": "markdown",
   "metadata": {},
   "source": [
    "Wir starten mit einem File, das die Einwohnerzahl der Schweizer Gemeinden beinhaltet, für alle Jahre von 1981 bis 2016."
   ]
  },
  {
   "cell_type": "code",
   "execution_count": 16,
   "metadata": {},
   "outputs": [],
   "source": [
    "df_bev = pd.read_excel('dataprojects/immobilienboom/data/BFS Gemeinden Einwohnerzahlen.xlsx')"
   ]
  },
  {
   "cell_type": "markdown",
   "metadata": {},
   "source": [
    "Check: Wie viele Gemeinden sind enthalten?"
   ]
  },
  {
   "cell_type": "code",
   "execution_count": 17,
   "metadata": {},
   "outputs": [
    {
     "data": {
      "text/plain": [
       "(2282, 38)"
      ]
     },
     "execution_count": 17,
     "metadata": {},
     "output_type": "execute_result"
    }
   ],
   "source": [
    "df_bev.shape"
   ]
  },
  {
   "cell_type": "code",
   "execution_count": 18,
   "metadata": {},
   "outputs": [
    {
     "data": {
      "text/html": [
       "<div>\n",
       "<style scoped>\n",
       "    .dataframe tbody tr th:only-of-type {\n",
       "        vertical-align: middle;\n",
       "    }\n",
       "\n",
       "    .dataframe tbody tr th {\n",
       "        vertical-align: top;\n",
       "    }\n",
       "\n",
       "    .dataframe thead th {\n",
       "        text-align: right;\n",
       "    }\n",
       "</style>\n",
       "<table border=\"1\" class=\"dataframe\">\n",
       "  <thead>\n",
       "    <tr style=\"text-align: right;\">\n",
       "      <th></th>\n",
       "      <th>Gemeindenummer</th>\n",
       "      <th>Gemeindename</th>\n",
       "      <th>1981</th>\n",
       "      <th>1982</th>\n",
       "      <th>1983</th>\n",
       "      <th>1984</th>\n",
       "      <th>1985</th>\n",
       "      <th>1986</th>\n",
       "      <th>1987</th>\n",
       "      <th>1988</th>\n",
       "      <th>...</th>\n",
       "      <th>2007</th>\n",
       "      <th>2008</th>\n",
       "      <th>2009</th>\n",
       "      <th>2010</th>\n",
       "      <th>2011</th>\n",
       "      <th>2012</th>\n",
       "      <th>2013</th>\n",
       "      <th>2014</th>\n",
       "      <th>2015</th>\n",
       "      <th>2016</th>\n",
       "    </tr>\n",
       "  </thead>\n",
       "  <tbody>\n",
       "    <tr>\n",
       "      <td>0</td>\n",
       "      <td>261</td>\n",
       "      <td>Zürich</td>\n",
       "      <td>370103</td>\n",
       "      <td>366040</td>\n",
       "      <td>363449</td>\n",
       "      <td>356665</td>\n",
       "      <td>354525</td>\n",
       "      <td>351545</td>\n",
       "      <td>349549</td>\n",
       "      <td>346879</td>\n",
       "      <td>...</td>\n",
       "      <td>350125</td>\n",
       "      <td>358540</td>\n",
       "      <td>365132</td>\n",
       "      <td>368677</td>\n",
       "      <td>372857</td>\n",
       "      <td>376990</td>\n",
       "      <td>380777</td>\n",
       "      <td>384786</td>\n",
       "      <td>391359</td>\n",
       "      <td>396955</td>\n",
       "    </tr>\n",
       "    <tr>\n",
       "      <td>1</td>\n",
       "      <td>6621</td>\n",
       "      <td>Genève</td>\n",
       "      <td>156617</td>\n",
       "      <td>157322</td>\n",
       "      <td>158426</td>\n",
       "      <td>158806</td>\n",
       "      <td>159527</td>\n",
       "      <td>159895</td>\n",
       "      <td>160645</td>\n",
       "      <td>161473</td>\n",
       "      <td>...</td>\n",
       "      <td>178603</td>\n",
       "      <td>179971</td>\n",
       "      <td>183287</td>\n",
       "      <td>185958</td>\n",
       "      <td>187470</td>\n",
       "      <td>188234</td>\n",
       "      <td>189033</td>\n",
       "      <td>191557</td>\n",
       "      <td>194565</td>\n",
       "      <td>198072</td>\n",
       "    </tr>\n",
       "  </tbody>\n",
       "</table>\n",
       "<p>2 rows × 38 columns</p>\n",
       "</div>"
      ],
      "text/plain": [
       "   Gemeindenummer Gemeindename    1981    1982    1983    1984    1985  \\\n",
       "0             261       Zürich  370103  366040  363449  356665  354525   \n",
       "1            6621       Genève  156617  157322  158426  158806  159527   \n",
       "\n",
       "     1986    1987    1988  ...    2007    2008    2009    2010    2011  \\\n",
       "0  351545  349549  346879  ...  350125  358540  365132  368677  372857   \n",
       "1  159895  160645  161473  ...  178603  179971  183287  185958  187470   \n",
       "\n",
       "     2012    2013    2014    2015    2016  \n",
       "0  376990  380777  384786  391359  396955  \n",
       "1  188234  189033  191557  194565  198072  \n",
       "\n",
       "[2 rows x 38 columns]"
      ]
     },
     "execution_count": 18,
     "metadata": {},
     "output_type": "execute_result"
    }
   ],
   "source": [
    "df_bev.head(2)"
   ]
  },
  {
   "cell_type": "markdown",
   "metadata": {},
   "source": [
    "**Tipp:** Um sämtliche Spalten anzuzeigen, können wir bei Pandas die Display-Option anders einstellen:"
   ]
  },
  {
   "cell_type": "code",
   "execution_count": 19,
   "metadata": {},
   "outputs": [],
   "source": [
    "pd.set_option(\"display.max_columns\", 50)"
   ]
  },
  {
   "cell_type": "code",
   "execution_count": 20,
   "metadata": {},
   "outputs": [
    {
     "data": {
      "text/html": [
       "<div>\n",
       "<style scoped>\n",
       "    .dataframe tbody tr th:only-of-type {\n",
       "        vertical-align: middle;\n",
       "    }\n",
       "\n",
       "    .dataframe tbody tr th {\n",
       "        vertical-align: top;\n",
       "    }\n",
       "\n",
       "    .dataframe thead th {\n",
       "        text-align: right;\n",
       "    }\n",
       "</style>\n",
       "<table border=\"1\" class=\"dataframe\">\n",
       "  <thead>\n",
       "    <tr style=\"text-align: right;\">\n",
       "      <th></th>\n",
       "      <th>Gemeindenummer</th>\n",
       "      <th>Gemeindename</th>\n",
       "      <th>1981</th>\n",
       "      <th>1982</th>\n",
       "      <th>1983</th>\n",
       "      <th>1984</th>\n",
       "      <th>1985</th>\n",
       "      <th>1986</th>\n",
       "      <th>1987</th>\n",
       "      <th>1988</th>\n",
       "      <th>1989</th>\n",
       "      <th>1990</th>\n",
       "      <th>1991</th>\n",
       "      <th>1992</th>\n",
       "      <th>1993</th>\n",
       "      <th>1994</th>\n",
       "      <th>1995</th>\n",
       "      <th>1996</th>\n",
       "      <th>1997</th>\n",
       "      <th>1998</th>\n",
       "      <th>1999</th>\n",
       "      <th>2000</th>\n",
       "      <th>2001</th>\n",
       "      <th>2002</th>\n",
       "      <th>2003</th>\n",
       "      <th>2004</th>\n",
       "      <th>2005</th>\n",
       "      <th>2006</th>\n",
       "      <th>2007</th>\n",
       "      <th>2008</th>\n",
       "      <th>2009</th>\n",
       "      <th>2010</th>\n",
       "      <th>2011</th>\n",
       "      <th>2012</th>\n",
       "      <th>2013</th>\n",
       "      <th>2014</th>\n",
       "      <th>2015</th>\n",
       "      <th>2016</th>\n",
       "    </tr>\n",
       "  </thead>\n",
       "  <tbody>\n",
       "    <tr>\n",
       "      <td>0</td>\n",
       "      <td>261</td>\n",
       "      <td>Zürich</td>\n",
       "      <td>370103</td>\n",
       "      <td>366040</td>\n",
       "      <td>363449</td>\n",
       "      <td>356665</td>\n",
       "      <td>354525</td>\n",
       "      <td>351545</td>\n",
       "      <td>349549</td>\n",
       "      <td>346879</td>\n",
       "      <td>345159</td>\n",
       "      <td>342861</td>\n",
       "      <td>341934</td>\n",
       "      <td>343267</td>\n",
       "      <td>345235</td>\n",
       "      <td>343045</td>\n",
       "      <td>342872</td>\n",
       "      <td>343869</td>\n",
       "      <td>341250</td>\n",
       "      <td>338594</td>\n",
       "      <td>336821</td>\n",
       "      <td>336822</td>\n",
       "      <td>337035</td>\n",
       "      <td>340197</td>\n",
       "      <td>342116</td>\n",
       "      <td>342853</td>\n",
       "      <td>345236</td>\n",
       "      <td>347517</td>\n",
       "      <td>350125</td>\n",
       "      <td>358540</td>\n",
       "      <td>365132</td>\n",
       "      <td>368677</td>\n",
       "      <td>372857</td>\n",
       "      <td>376990</td>\n",
       "      <td>380777</td>\n",
       "      <td>384786</td>\n",
       "      <td>391359</td>\n",
       "      <td>396955</td>\n",
       "    </tr>\n",
       "    <tr>\n",
       "      <td>1</td>\n",
       "      <td>6621</td>\n",
       "      <td>Genève</td>\n",
       "      <td>156617</td>\n",
       "      <td>157322</td>\n",
       "      <td>158426</td>\n",
       "      <td>158806</td>\n",
       "      <td>159527</td>\n",
       "      <td>159895</td>\n",
       "      <td>160645</td>\n",
       "      <td>161473</td>\n",
       "      <td>163998</td>\n",
       "      <td>165404</td>\n",
       "      <td>168530</td>\n",
       "      <td>169025</td>\n",
       "      <td>170189</td>\n",
       "      <td>171744</td>\n",
       "      <td>172737</td>\n",
       "      <td>173549</td>\n",
       "      <td>172425</td>\n",
       "      <td>172586</td>\n",
       "      <td>172809</td>\n",
       "      <td>173519</td>\n",
       "      <td>174691</td>\n",
       "      <td>175697</td>\n",
       "      <td>177306</td>\n",
       "      <td>178500</td>\n",
       "      <td>178487</td>\n",
       "      <td>178722</td>\n",
       "      <td>178603</td>\n",
       "      <td>179971</td>\n",
       "      <td>183287</td>\n",
       "      <td>185958</td>\n",
       "      <td>187470</td>\n",
       "      <td>188234</td>\n",
       "      <td>189033</td>\n",
       "      <td>191557</td>\n",
       "      <td>194565</td>\n",
       "      <td>198072</td>\n",
       "    </tr>\n",
       "  </tbody>\n",
       "</table>\n",
       "</div>"
      ],
      "text/plain": [
       "   Gemeindenummer Gemeindename    1981    1982    1983    1984    1985  \\\n",
       "0             261       Zürich  370103  366040  363449  356665  354525   \n",
       "1            6621       Genève  156617  157322  158426  158806  159527   \n",
       "\n",
       "     1986    1987    1988    1989    1990    1991    1992    1993    1994  \\\n",
       "0  351545  349549  346879  345159  342861  341934  343267  345235  343045   \n",
       "1  159895  160645  161473  163998  165404  168530  169025  170189  171744   \n",
       "\n",
       "     1995    1996    1997    1998    1999    2000    2001    2002    2003  \\\n",
       "0  342872  343869  341250  338594  336821  336822  337035  340197  342116   \n",
       "1  172737  173549  172425  172586  172809  173519  174691  175697  177306   \n",
       "\n",
       "     2004    2005    2006    2007    2008    2009    2010    2011    2012  \\\n",
       "0  342853  345236  347517  350125  358540  365132  368677  372857  376990   \n",
       "1  178500  178487  178722  178603  179971  183287  185958  187470  188234   \n",
       "\n",
       "     2013    2014    2015    2016  \n",
       "0  380777  384786  391359  396955  \n",
       "1  189033  191557  194565  198072  "
      ]
     },
     "execution_count": 20,
     "metadata": {},
     "output_type": "execute_result"
    }
   ],
   "source": [
    "df_bev.head(2)"
   ]
  },
  {
   "cell_type": "markdown",
   "metadata": {},
   "source": [
    "### Wohnungszahlen"
   ]
  },
  {
   "cell_type": "markdown",
   "metadata": {},
   "source": [
    "Wir haben drei Files für die Anzahl der Wohnungen:\n",
    "\n",
    "- **eines für die totale Anzahl Wohnungen pro Gemeinde, von 2009 bis 2016**"
   ]
  },
  {
   "cell_type": "code",
   "execution_count": 21,
   "metadata": {},
   "outputs": [],
   "source": [
    "df_wohn_tot = pd.read_excel('dataprojects/immobilienboom/data//BFS Anzahl Wohnungen Total.xlsx')"
   ]
  },
  {
   "cell_type": "markdown",
   "metadata": {},
   "source": [
    "**Check:** Wie viele Gemeinden sind im File?"
   ]
  },
  {
   "cell_type": "code",
   "execution_count": 22,
   "metadata": {},
   "outputs": [
    {
     "data": {
      "text/plain": [
       "(2287, 10)"
      ]
     },
     "execution_count": 22,
     "metadata": {},
     "output_type": "execute_result"
    }
   ],
   "source": [
    "df_wohn_tot.shape"
   ]
  },
  {
   "cell_type": "code",
   "execution_count": 23,
   "metadata": {},
   "outputs": [
    {
     "data": {
      "text/html": [
       "<div>\n",
       "<style scoped>\n",
       "    .dataframe tbody tr th:only-of-type {\n",
       "        vertical-align: middle;\n",
       "    }\n",
       "\n",
       "    .dataframe tbody tr th {\n",
       "        vertical-align: top;\n",
       "    }\n",
       "\n",
       "    .dataframe thead th {\n",
       "        text-align: right;\n",
       "    }\n",
       "</style>\n",
       "<table border=\"1\" class=\"dataframe\">\n",
       "  <thead>\n",
       "    <tr style=\"text-align: right;\">\n",
       "      <th></th>\n",
       "      <th>Gemeindenummer</th>\n",
       "      <th>Gemeindename</th>\n",
       "      <th>2009</th>\n",
       "      <th>2010</th>\n",
       "      <th>2011</th>\n",
       "      <th>2012</th>\n",
       "      <th>2013</th>\n",
       "      <th>2014</th>\n",
       "      <th>2015</th>\n",
       "      <th>2016</th>\n",
       "    </tr>\n",
       "  </thead>\n",
       "  <tbody>\n",
       "    <tr>\n",
       "      <td>0</td>\n",
       "      <td>1</td>\n",
       "      <td>Aeugst am Albis</td>\n",
       "      <td>689</td>\n",
       "      <td>856</td>\n",
       "      <td>856</td>\n",
       "      <td>870</td>\n",
       "      <td>875</td>\n",
       "      <td>876</td>\n",
       "      <td>887</td>\n",
       "      <td>891</td>\n",
       "    </tr>\n",
       "    <tr>\n",
       "      <td>1</td>\n",
       "      <td>2</td>\n",
       "      <td>Affoltern am Albis</td>\n",
       "      <td>4904</td>\n",
       "      <td>5170</td>\n",
       "      <td>5201</td>\n",
       "      <td>5286</td>\n",
       "      <td>5427</td>\n",
       "      <td>5477</td>\n",
       "      <td>5527</td>\n",
       "      <td>5614</td>\n",
       "    </tr>\n",
       "    <tr>\n",
       "      <td>2</td>\n",
       "      <td>3</td>\n",
       "      <td>Bonstetten</td>\n",
       "      <td>2242</td>\n",
       "      <td>2289</td>\n",
       "      <td>2303</td>\n",
       "      <td>2302</td>\n",
       "      <td>2320</td>\n",
       "      <td>2354</td>\n",
       "      <td>2383</td>\n",
       "      <td>2428</td>\n",
       "    </tr>\n",
       "  </tbody>\n",
       "</table>\n",
       "</div>"
      ],
      "text/plain": [
       "   Gemeindenummer        Gemeindename  2009  2010  2011  2012  2013  2014  \\\n",
       "0               1     Aeugst am Albis   689   856   856   870   875   876   \n",
       "1               2  Affoltern am Albis  4904  5170  5201  5286  5427  5477   \n",
       "2               3          Bonstetten  2242  2289  2303  2302  2320  2354   \n",
       "\n",
       "   2015  2016  \n",
       "0   887   891  \n",
       "1  5527  5614  \n",
       "2  2383  2428  "
      ]
     },
     "execution_count": 23,
     "metadata": {},
     "output_type": "execute_result"
    }
   ],
   "source": [
    "df_wohn_tot.head(3)"
   ]
  },
  {
   "cell_type": "markdown",
   "metadata": {},
   "source": [
    "- **eines für die Wohnungen in Einfamilienhäusern**"
   ]
  },
  {
   "cell_type": "code",
   "execution_count": 24,
   "metadata": {},
   "outputs": [],
   "source": [
    "df_wohn_efh = pd.read_excel('dataprojects/immobilienboom/data/BFS Anzahl Wohnungen EFH.xlsx')"
   ]
  },
  {
   "cell_type": "code",
   "execution_count": 25,
   "metadata": {},
   "outputs": [
    {
     "data": {
      "text/html": [
       "<div>\n",
       "<style scoped>\n",
       "    .dataframe tbody tr th:only-of-type {\n",
       "        vertical-align: middle;\n",
       "    }\n",
       "\n",
       "    .dataframe tbody tr th {\n",
       "        vertical-align: top;\n",
       "    }\n",
       "\n",
       "    .dataframe thead th {\n",
       "        text-align: right;\n",
       "    }\n",
       "</style>\n",
       "<table border=\"1\" class=\"dataframe\">\n",
       "  <thead>\n",
       "    <tr style=\"text-align: right;\">\n",
       "      <th></th>\n",
       "      <th>Gemeindenummer</th>\n",
       "      <th>Gemeindename</th>\n",
       "      <th>2009</th>\n",
       "      <th>2010</th>\n",
       "      <th>2011</th>\n",
       "      <th>2012</th>\n",
       "      <th>2013</th>\n",
       "      <th>2014</th>\n",
       "      <th>2015</th>\n",
       "      <th>2016</th>\n",
       "    </tr>\n",
       "  </thead>\n",
       "  <tbody>\n",
       "    <tr>\n",
       "      <td>0</td>\n",
       "      <td>1</td>\n",
       "      <td>Aeugst am Albis</td>\n",
       "      <td>314</td>\n",
       "      <td>384</td>\n",
       "      <td>384</td>\n",
       "      <td>388</td>\n",
       "      <td>381</td>\n",
       "      <td>380</td>\n",
       "      <td>381</td>\n",
       "      <td>380</td>\n",
       "    </tr>\n",
       "    <tr>\n",
       "      <td>1</td>\n",
       "      <td>2</td>\n",
       "      <td>Affoltern am Albis</td>\n",
       "      <td>1077</td>\n",
       "      <td>1085</td>\n",
       "      <td>1087</td>\n",
       "      <td>1090</td>\n",
       "      <td>1086</td>\n",
       "      <td>1087</td>\n",
       "      <td>1082</td>\n",
       "      <td>1081</td>\n",
       "    </tr>\n",
       "  </tbody>\n",
       "</table>\n",
       "</div>"
      ],
      "text/plain": [
       "   Gemeindenummer        Gemeindename  2009  2010  2011  2012  2013  2014  \\\n",
       "0               1     Aeugst am Albis   314   384   384   388   381   380   \n",
       "1               2  Affoltern am Albis  1077  1085  1087  1090  1086  1087   \n",
       "\n",
       "   2015  2016  \n",
       "0   381   380  \n",
       "1  1082  1081  "
      ]
     },
     "execution_count": 25,
     "metadata": {},
     "output_type": "execute_result"
    }
   ],
   "source": [
    "df_wohn_efh.head(2)"
   ]
  },
  {
   "cell_type": "markdown",
   "metadata": {},
   "source": [
    "- **eines für die Anzahl der Wohnungen in Mehrfamilienhäuser**"
   ]
  },
  {
   "cell_type": "code",
   "execution_count": 26,
   "metadata": {},
   "outputs": [],
   "source": [
    "df_wohn_mfh = pd.read_excel('dataprojects/immobilienboom/data/BFS Anzahl Wohnungen MFH.xlsx')"
   ]
  },
  {
   "cell_type": "code",
   "execution_count": 27,
   "metadata": {
    "scrolled": true
   },
   "outputs": [
    {
     "data": {
      "text/html": [
       "<div>\n",
       "<style scoped>\n",
       "    .dataframe tbody tr th:only-of-type {\n",
       "        vertical-align: middle;\n",
       "    }\n",
       "\n",
       "    .dataframe tbody tr th {\n",
       "        vertical-align: top;\n",
       "    }\n",
       "\n",
       "    .dataframe thead th {\n",
       "        text-align: right;\n",
       "    }\n",
       "</style>\n",
       "<table border=\"1\" class=\"dataframe\">\n",
       "  <thead>\n",
       "    <tr style=\"text-align: right;\">\n",
       "      <th></th>\n",
       "      <th>Gemeindenummer</th>\n",
       "      <th>Gemeindename</th>\n",
       "      <th>2009</th>\n",
       "      <th>2010</th>\n",
       "      <th>2011</th>\n",
       "      <th>2012</th>\n",
       "      <th>2013</th>\n",
       "      <th>2014</th>\n",
       "      <th>2015</th>\n",
       "      <th>2016</th>\n",
       "    </tr>\n",
       "  </thead>\n",
       "  <tbody>\n",
       "    <tr>\n",
       "      <td>0</td>\n",
       "      <td>1</td>\n",
       "      <td>Aeugst am Albis</td>\n",
       "      <td>280</td>\n",
       "      <td>372</td>\n",
       "      <td>374</td>\n",
       "      <td>381</td>\n",
       "      <td>387</td>\n",
       "      <td>391</td>\n",
       "      <td>401</td>\n",
       "      <td>402</td>\n",
       "    </tr>\n",
       "    <tr>\n",
       "      <td>1</td>\n",
       "      <td>2</td>\n",
       "      <td>Affoltern am Albis</td>\n",
       "      <td>2959</td>\n",
       "      <td>3051</td>\n",
       "      <td>3068</td>\n",
       "      <td>3173</td>\n",
       "      <td>3327</td>\n",
       "      <td>3365</td>\n",
       "      <td>3428</td>\n",
       "      <td>3453</td>\n",
       "    </tr>\n",
       "  </tbody>\n",
       "</table>\n",
       "</div>"
      ],
      "text/plain": [
       "   Gemeindenummer        Gemeindename  2009  2010  2011  2012  2013  2014  \\\n",
       "0               1     Aeugst am Albis   280   372   374   381   387   391   \n",
       "1               2  Affoltern am Albis  2959  3051  3068  3173  3327  3365   \n",
       "\n",
       "   2015  2016  \n",
       "0   401   402  \n",
       "1  3428  3453  "
      ]
     },
     "execution_count": 27,
     "metadata": {},
     "output_type": "execute_result"
    }
   ],
   "source": [
    "df_wohn_mfh.head(2)"
   ]
  },
  {
   "cell_type": "markdown",
   "metadata": {},
   "source": [
    "### Leerwohnungsziffern"
   ]
  },
  {
   "cell_type": "markdown",
   "metadata": {},
   "source": [
    "Schliesslich haben wir eine Datei, welche die aktuelle Leerwohnungsziffer für jede Gemeinde beinhaltet."
   ]
  },
  {
   "cell_type": "code",
   "execution_count": 28,
   "metadata": {},
   "outputs": [],
   "source": [
    "df_lwz = pd.read_excel('dataprojects/immobilienboom/data/BFS Leerwohnungsziffer 2017.xlsx')"
   ]
  },
  {
   "cell_type": "markdown",
   "metadata": {},
   "source": [
    "**Check:** Wie viele Gemeinden sind drin? (Hint: nicht genau gleich viele wie im anderen File...)"
   ]
  },
  {
   "cell_type": "code",
   "execution_count": 29,
   "metadata": {},
   "outputs": [
    {
     "data": {
      "text/plain": [
       "(2240, 3)"
      ]
     },
     "execution_count": 29,
     "metadata": {},
     "output_type": "execute_result"
    }
   ],
   "source": [
    "df_lwz.shape"
   ]
  },
  {
   "cell_type": "code",
   "execution_count": 30,
   "metadata": {},
   "outputs": [
    {
     "data": {
      "text/html": [
       "<div>\n",
       "<style scoped>\n",
       "    .dataframe tbody tr th:only-of-type {\n",
       "        vertical-align: middle;\n",
       "    }\n",
       "\n",
       "    .dataframe tbody tr th {\n",
       "        vertical-align: top;\n",
       "    }\n",
       "\n",
       "    .dataframe thead th {\n",
       "        text-align: right;\n",
       "    }\n",
       "</style>\n",
       "<table border=\"1\" class=\"dataframe\">\n",
       "  <thead>\n",
       "    <tr style=\"text-align: right;\">\n",
       "      <th></th>\n",
       "      <th>Gemeindenummer</th>\n",
       "      <th>Gemeinde</th>\n",
       "      <th>Leerwohnungsziffer</th>\n",
       "    </tr>\n",
       "  </thead>\n",
       "  <tbody>\n",
       "    <tr>\n",
       "      <td>0</td>\n",
       "      <td>1</td>\n",
       "      <td>Aeugst am Albis</td>\n",
       "      <td>2.581369</td>\n",
       "    </tr>\n",
       "    <tr>\n",
       "      <td>1</td>\n",
       "      <td>2</td>\n",
       "      <td>Affoltern am Albis</td>\n",
       "      <td>1.229070</td>\n",
       "    </tr>\n",
       "  </tbody>\n",
       "</table>\n",
       "</div>"
      ],
      "text/plain": [
       "   Gemeindenummer            Gemeinde  Leerwohnungsziffer\n",
       "0               1     Aeugst am Albis            2.581369\n",
       "1               2  Affoltern am Albis            1.229070"
      ]
     },
     "execution_count": 30,
     "metadata": {},
     "output_type": "execute_result"
    }
   ],
   "source": [
    "df_lwz.head(2)"
   ]
  },
  {
   "cell_type": "markdown",
   "metadata": {},
   "source": [
    "## Analyse"
   ]
  },
  {
   "cell_type": "markdown",
   "metadata": {},
   "source": [
    "Wir möchten nun die drei (fünf) Tabellen gemeinsam auswerten, und zwar im Hinblick auf Fragen wie:\n",
    "- Was sind Gemeinden, die einen starken Bauboom hatten und nun eine hohe Leerwohnungsziffer aufweisen?\n",
    "- Haben die Leerstände etwas mit der Gemeindegrösse zu tun, gibt es in Städten höhere/tiefere Ziffern als in Dörfern?\n",
    "\n",
    "Um Fragen dieser Art zu beantworten, müssen wir uns zwei Dinge überlegen:\n",
    "1. Was sind geeignete Indikatoren, die wir konkret bilden wollen, um unsere Fragen zu beantworten?\n",
    "2. Wie bringen wir die verschiedenen Indikatoren zusammen, um sie gemeinsam auszuwerten?\n",
    "\n",
    "Wir starten mal mit der ersten Überlegung..."
   ]
  },
  {
   "cell_type": "markdown",
   "metadata": {},
   "source": [
    "### Indikatoren bilden"
   ]
  },
  {
   "cell_type": "markdown",
   "metadata": {},
   "source": [
    "Wir wählen zu Analysezwecken drei Indikatoren aus:\n",
    "- das Bevölkerungswachstum zwischen 2009 und 2016, in Prozent\n",
    "- das Wohnungswachstum (total) zwischen 2009 und 2016, in Prozent\n",
    "- die Leerwohungsziffer 2017, in Prozent\n",
    "\n",
    "Zwei der drei Indikatoren müssen wir erst noch bilden."
   ]
  },
  {
   "cell_type": "code",
   "execution_count": 31,
   "metadata": {},
   "outputs": [],
   "source": [
    "# dreisatz umgewandelt in formel mit -1\n",
    "df_bev['Bevölkerungswachstum'] = (df_bev['2016'] / df_bev['2009'] - 1) * 100"
   ]
  },
  {
   "cell_type": "code",
   "execution_count": 32,
   "metadata": {},
   "outputs": [
    {
     "data": {
      "text/html": [
       "<div>\n",
       "<style scoped>\n",
       "    .dataframe tbody tr th:only-of-type {\n",
       "        vertical-align: middle;\n",
       "    }\n",
       "\n",
       "    .dataframe tbody tr th {\n",
       "        vertical-align: top;\n",
       "    }\n",
       "\n",
       "    .dataframe thead th {\n",
       "        text-align: right;\n",
       "    }\n",
       "</style>\n",
       "<table border=\"1\" class=\"dataframe\">\n",
       "  <thead>\n",
       "    <tr style=\"text-align: right;\">\n",
       "      <th></th>\n",
       "      <th>Gemeindenummer</th>\n",
       "      <th>Gemeindename</th>\n",
       "      <th>1981</th>\n",
       "      <th>1982</th>\n",
       "      <th>1983</th>\n",
       "      <th>1984</th>\n",
       "      <th>1985</th>\n",
       "      <th>1986</th>\n",
       "      <th>1987</th>\n",
       "      <th>1988</th>\n",
       "      <th>1989</th>\n",
       "      <th>1990</th>\n",
       "      <th>1991</th>\n",
       "      <th>1992</th>\n",
       "      <th>1993</th>\n",
       "      <th>1994</th>\n",
       "      <th>1995</th>\n",
       "      <th>1996</th>\n",
       "      <th>1997</th>\n",
       "      <th>1998</th>\n",
       "      <th>1999</th>\n",
       "      <th>2000</th>\n",
       "      <th>2001</th>\n",
       "      <th>2002</th>\n",
       "      <th>2003</th>\n",
       "      <th>2004</th>\n",
       "      <th>2005</th>\n",
       "      <th>2006</th>\n",
       "      <th>2007</th>\n",
       "      <th>2008</th>\n",
       "      <th>2009</th>\n",
       "      <th>2010</th>\n",
       "      <th>2011</th>\n",
       "      <th>2012</th>\n",
       "      <th>2013</th>\n",
       "      <th>2014</th>\n",
       "      <th>2015</th>\n",
       "      <th>2016</th>\n",
       "      <th>Bevölkerungswachstum</th>\n",
       "    </tr>\n",
       "  </thead>\n",
       "  <tbody>\n",
       "    <tr>\n",
       "      <td>0</td>\n",
       "      <td>261</td>\n",
       "      <td>Zürich</td>\n",
       "      <td>370103</td>\n",
       "      <td>366040</td>\n",
       "      <td>363449</td>\n",
       "      <td>356665</td>\n",
       "      <td>354525</td>\n",
       "      <td>351545</td>\n",
       "      <td>349549</td>\n",
       "      <td>346879</td>\n",
       "      <td>345159</td>\n",
       "      <td>342861</td>\n",
       "      <td>341934</td>\n",
       "      <td>343267</td>\n",
       "      <td>345235</td>\n",
       "      <td>343045</td>\n",
       "      <td>342872</td>\n",
       "      <td>343869</td>\n",
       "      <td>341250</td>\n",
       "      <td>338594</td>\n",
       "      <td>336821</td>\n",
       "      <td>336822</td>\n",
       "      <td>337035</td>\n",
       "      <td>340197</td>\n",
       "      <td>342116</td>\n",
       "      <td>342853</td>\n",
       "      <td>345236</td>\n",
       "      <td>347517</td>\n",
       "      <td>350125</td>\n",
       "      <td>358540</td>\n",
       "      <td>365132</td>\n",
       "      <td>368677</td>\n",
       "      <td>372857</td>\n",
       "      <td>376990</td>\n",
       "      <td>380777</td>\n",
       "      <td>384786</td>\n",
       "      <td>391359</td>\n",
       "      <td>396955</td>\n",
       "      <td>8.715478</td>\n",
       "    </tr>\n",
       "    <tr>\n",
       "      <td>1</td>\n",
       "      <td>6621</td>\n",
       "      <td>Genève</td>\n",
       "      <td>156617</td>\n",
       "      <td>157322</td>\n",
       "      <td>158426</td>\n",
       "      <td>158806</td>\n",
       "      <td>159527</td>\n",
       "      <td>159895</td>\n",
       "      <td>160645</td>\n",
       "      <td>161473</td>\n",
       "      <td>163998</td>\n",
       "      <td>165404</td>\n",
       "      <td>168530</td>\n",
       "      <td>169025</td>\n",
       "      <td>170189</td>\n",
       "      <td>171744</td>\n",
       "      <td>172737</td>\n",
       "      <td>173549</td>\n",
       "      <td>172425</td>\n",
       "      <td>172586</td>\n",
       "      <td>172809</td>\n",
       "      <td>173519</td>\n",
       "      <td>174691</td>\n",
       "      <td>175697</td>\n",
       "      <td>177306</td>\n",
       "      <td>178500</td>\n",
       "      <td>178487</td>\n",
       "      <td>178722</td>\n",
       "      <td>178603</td>\n",
       "      <td>179971</td>\n",
       "      <td>183287</td>\n",
       "      <td>185958</td>\n",
       "      <td>187470</td>\n",
       "      <td>188234</td>\n",
       "      <td>189033</td>\n",
       "      <td>191557</td>\n",
       "      <td>194565</td>\n",
       "      <td>198072</td>\n",
       "      <td>8.066584</td>\n",
       "    </tr>\n",
       "  </tbody>\n",
       "</table>\n",
       "</div>"
      ],
      "text/plain": [
       "   Gemeindenummer Gemeindename    1981    1982    1983    1984    1985  \\\n",
       "0             261       Zürich  370103  366040  363449  356665  354525   \n",
       "1            6621       Genève  156617  157322  158426  158806  159527   \n",
       "\n",
       "     1986    1987    1988    1989    1990    1991    1992    1993    1994  \\\n",
       "0  351545  349549  346879  345159  342861  341934  343267  345235  343045   \n",
       "1  159895  160645  161473  163998  165404  168530  169025  170189  171744   \n",
       "\n",
       "     1995    1996    1997    1998    1999    2000    2001    2002    2003  \\\n",
       "0  342872  343869  341250  338594  336821  336822  337035  340197  342116   \n",
       "1  172737  173549  172425  172586  172809  173519  174691  175697  177306   \n",
       "\n",
       "     2004    2005    2006    2007    2008    2009    2010    2011    2012  \\\n",
       "0  342853  345236  347517  350125  358540  365132  368677  372857  376990   \n",
       "1  178500  178487  178722  178603  179971  183287  185958  187470  188234   \n",
       "\n",
       "     2013    2014    2015    2016  Bevölkerungswachstum  \n",
       "0  380777  384786  391359  396955              8.715478  \n",
       "1  189033  191557  194565  198072              8.066584  "
      ]
     },
     "execution_count": 32,
     "metadata": {},
     "output_type": "execute_result"
    }
   ],
   "source": [
    "df_bev.head(2)"
   ]
  },
  {
   "cell_type": "code",
   "execution_count": 35,
   "metadata": {},
   "outputs": [],
   "source": [
    "df_wohn_tot['Wohnungswachstum Total'] = (df_wohn_tot['2016'] / df_wohn_tot['2009'] - 1) * 100"
   ]
  },
  {
   "cell_type": "code",
   "execution_count": 36,
   "metadata": {},
   "outputs": [
    {
     "data": {
      "text/html": [
       "<div>\n",
       "<style scoped>\n",
       "    .dataframe tbody tr th:only-of-type {\n",
       "        vertical-align: middle;\n",
       "    }\n",
       "\n",
       "    .dataframe tbody tr th {\n",
       "        vertical-align: top;\n",
       "    }\n",
       "\n",
       "    .dataframe thead th {\n",
       "        text-align: right;\n",
       "    }\n",
       "</style>\n",
       "<table border=\"1\" class=\"dataframe\">\n",
       "  <thead>\n",
       "    <tr style=\"text-align: right;\">\n",
       "      <th></th>\n",
       "      <th>Gemeindenummer</th>\n",
       "      <th>Gemeindename</th>\n",
       "      <th>2009</th>\n",
       "      <th>2010</th>\n",
       "      <th>2011</th>\n",
       "      <th>2012</th>\n",
       "      <th>2013</th>\n",
       "      <th>2014</th>\n",
       "      <th>2015</th>\n",
       "      <th>2016</th>\n",
       "      <th>Wohnungswachstum Total</th>\n",
       "    </tr>\n",
       "  </thead>\n",
       "  <tbody>\n",
       "    <tr>\n",
       "      <td>0</td>\n",
       "      <td>1</td>\n",
       "      <td>Aeugst am Albis</td>\n",
       "      <td>689</td>\n",
       "      <td>856</td>\n",
       "      <td>856</td>\n",
       "      <td>870</td>\n",
       "      <td>875</td>\n",
       "      <td>876</td>\n",
       "      <td>887</td>\n",
       "      <td>891</td>\n",
       "      <td>29.317852</td>\n",
       "    </tr>\n",
       "    <tr>\n",
       "      <td>1</td>\n",
       "      <td>2</td>\n",
       "      <td>Affoltern am Albis</td>\n",
       "      <td>4904</td>\n",
       "      <td>5170</td>\n",
       "      <td>5201</td>\n",
       "      <td>5286</td>\n",
       "      <td>5427</td>\n",
       "      <td>5477</td>\n",
       "      <td>5527</td>\n",
       "      <td>5614</td>\n",
       "      <td>14.477977</td>\n",
       "    </tr>\n",
       "  </tbody>\n",
       "</table>\n",
       "</div>"
      ],
      "text/plain": [
       "   Gemeindenummer        Gemeindename  2009  2010  2011  2012  2013  2014  \\\n",
       "0               1     Aeugst am Albis   689   856   856   870   875   876   \n",
       "1               2  Affoltern am Albis  4904  5170  5201  5286  5427  5477   \n",
       "\n",
       "   2015  2016  Wohnungswachstum Total  \n",
       "0   887   891               29.317852  \n",
       "1  5527  5614               14.477977  "
      ]
     },
     "execution_count": 36,
     "metadata": {},
     "output_type": "execute_result"
    }
   ],
   "source": [
    "df_wohn_tot.head(2)"
   ]
  },
  {
   "cell_type": "markdown",
   "metadata": {},
   "source": [
    "### Tabellen zusammenführen"
   ]
  },
  {
   "cell_type": "markdown",
   "metadata": {},
   "source": [
    "Nun müssen wir die drei Indikatoren in einer Tablle zusammenbringen. Wir benutzen dazu die Funktion `merge()`:\n",
    "\n",
    "**1. zunächst schliessen wir die Wohnungszahlen mit den Bevölkerungszahlen zusammen:**"
   ]
  },
  {
   "cell_type": "code",
   "execution_count": 37,
   "metadata": {},
   "outputs": [
    {
     "data": {
      "text/html": [
       "<div>\n",
       "<style scoped>\n",
       "    .dataframe tbody tr th:only-of-type {\n",
       "        vertical-align: middle;\n",
       "    }\n",
       "\n",
       "    .dataframe tbody tr th {\n",
       "        vertical-align: top;\n",
       "    }\n",
       "\n",
       "    .dataframe thead th {\n",
       "        text-align: right;\n",
       "    }\n",
       "</style>\n",
       "<table border=\"1\" class=\"dataframe\">\n",
       "  <thead>\n",
       "    <tr style=\"text-align: right;\">\n",
       "      <th></th>\n",
       "      <th>Gemeindenummer</th>\n",
       "      <th>Gemeindename_x</th>\n",
       "      <th>1981</th>\n",
       "      <th>1982</th>\n",
       "      <th>1983</th>\n",
       "      <th>1984</th>\n",
       "      <th>1985</th>\n",
       "      <th>1986</th>\n",
       "      <th>1987</th>\n",
       "      <th>1988</th>\n",
       "      <th>1989</th>\n",
       "      <th>1990</th>\n",
       "      <th>1991</th>\n",
       "      <th>1992</th>\n",
       "      <th>1993</th>\n",
       "      <th>1994</th>\n",
       "      <th>1995</th>\n",
       "      <th>1996</th>\n",
       "      <th>1997</th>\n",
       "      <th>1998</th>\n",
       "      <th>1999</th>\n",
       "      <th>2000</th>\n",
       "      <th>2001</th>\n",
       "      <th>2002</th>\n",
       "      <th>2003</th>\n",
       "      <th>2004</th>\n",
       "      <th>2005</th>\n",
       "      <th>2006</th>\n",
       "      <th>2007</th>\n",
       "      <th>2008</th>\n",
       "      <th>2009_x</th>\n",
       "      <th>2010_x</th>\n",
       "      <th>2011_x</th>\n",
       "      <th>2012_x</th>\n",
       "      <th>2013_x</th>\n",
       "      <th>2014_x</th>\n",
       "      <th>2015_x</th>\n",
       "      <th>2016_x</th>\n",
       "      <th>Bevölkerungswachstum</th>\n",
       "      <th>Gemeindename_y</th>\n",
       "      <th>2009_y</th>\n",
       "      <th>2010_y</th>\n",
       "      <th>2011_y</th>\n",
       "      <th>2012_y</th>\n",
       "      <th>2013_y</th>\n",
       "      <th>2014_y</th>\n",
       "      <th>2015_y</th>\n",
       "      <th>2016_y</th>\n",
       "      <th>Wohnungswachstum Total</th>\n",
       "    </tr>\n",
       "  </thead>\n",
       "  <tbody>\n",
       "    <tr>\n",
       "      <td>0</td>\n",
       "      <td>261</td>\n",
       "      <td>Zürich</td>\n",
       "      <td>370103</td>\n",
       "      <td>366040</td>\n",
       "      <td>363449</td>\n",
       "      <td>356665</td>\n",
       "      <td>354525</td>\n",
       "      <td>351545</td>\n",
       "      <td>349549</td>\n",
       "      <td>346879</td>\n",
       "      <td>345159</td>\n",
       "      <td>342861</td>\n",
       "      <td>341934</td>\n",
       "      <td>343267</td>\n",
       "      <td>345235</td>\n",
       "      <td>343045</td>\n",
       "      <td>342872</td>\n",
       "      <td>343869</td>\n",
       "      <td>341250</td>\n",
       "      <td>338594</td>\n",
       "      <td>336821</td>\n",
       "      <td>336822</td>\n",
       "      <td>337035</td>\n",
       "      <td>340197</td>\n",
       "      <td>342116</td>\n",
       "      <td>342853</td>\n",
       "      <td>345236</td>\n",
       "      <td>347517</td>\n",
       "      <td>350125</td>\n",
       "      <td>358540</td>\n",
       "      <td>365132</td>\n",
       "      <td>368677</td>\n",
       "      <td>372857</td>\n",
       "      <td>376990</td>\n",
       "      <td>380777</td>\n",
       "      <td>384786</td>\n",
       "      <td>391359</td>\n",
       "      <td>396955</td>\n",
       "      <td>8.715478</td>\n",
       "      <td>Zürich</td>\n",
       "      <td>207183</td>\n",
       "      <td>208090</td>\n",
       "      <td>209701</td>\n",
       "      <td>211942</td>\n",
       "      <td>214470</td>\n",
       "      <td>215608</td>\n",
       "      <td>218586</td>\n",
       "      <td>220940</td>\n",
       "      <td>6.640024</td>\n",
       "    </tr>\n",
       "    <tr>\n",
       "      <td>1</td>\n",
       "      <td>6621</td>\n",
       "      <td>Genève</td>\n",
       "      <td>156617</td>\n",
       "      <td>157322</td>\n",
       "      <td>158426</td>\n",
       "      <td>158806</td>\n",
       "      <td>159527</td>\n",
       "      <td>159895</td>\n",
       "      <td>160645</td>\n",
       "      <td>161473</td>\n",
       "      <td>163998</td>\n",
       "      <td>165404</td>\n",
       "      <td>168530</td>\n",
       "      <td>169025</td>\n",
       "      <td>170189</td>\n",
       "      <td>171744</td>\n",
       "      <td>172737</td>\n",
       "      <td>173549</td>\n",
       "      <td>172425</td>\n",
       "      <td>172586</td>\n",
       "      <td>172809</td>\n",
       "      <td>173519</td>\n",
       "      <td>174691</td>\n",
       "      <td>175697</td>\n",
       "      <td>177306</td>\n",
       "      <td>178500</td>\n",
       "      <td>178487</td>\n",
       "      <td>178722</td>\n",
       "      <td>178603</td>\n",
       "      <td>179971</td>\n",
       "      <td>183287</td>\n",
       "      <td>185958</td>\n",
       "      <td>187470</td>\n",
       "      <td>188234</td>\n",
       "      <td>189033</td>\n",
       "      <td>191557</td>\n",
       "      <td>194565</td>\n",
       "      <td>198072</td>\n",
       "      <td>8.066584</td>\n",
       "      <td>Genève</td>\n",
       "      <td>101701</td>\n",
       "      <td>104440</td>\n",
       "      <td>104760</td>\n",
       "      <td>105217</td>\n",
       "      <td>106075</td>\n",
       "      <td>106313</td>\n",
       "      <td>107056</td>\n",
       "      <td>107474</td>\n",
       "      <td>5.676444</td>\n",
       "    </tr>\n",
       "  </tbody>\n",
       "</table>\n",
       "</div>"
      ],
      "text/plain": [
       "   Gemeindenummer Gemeindename_x    1981    1982    1983    1984    1985  \\\n",
       "0             261         Zürich  370103  366040  363449  356665  354525   \n",
       "1            6621         Genève  156617  157322  158426  158806  159527   \n",
       "\n",
       "     1986    1987    1988    1989    1990    1991    1992    1993    1994  \\\n",
       "0  351545  349549  346879  345159  342861  341934  343267  345235  343045   \n",
       "1  159895  160645  161473  163998  165404  168530  169025  170189  171744   \n",
       "\n",
       "     1995    1996    1997    1998    1999    2000    2001    2002    2003  \\\n",
       "0  342872  343869  341250  338594  336821  336822  337035  340197  342116   \n",
       "1  172737  173549  172425  172586  172809  173519  174691  175697  177306   \n",
       "\n",
       "     2004    2005    2006    2007    2008  2009_x  2010_x  2011_x  2012_x  \\\n",
       "0  342853  345236  347517  350125  358540  365132  368677  372857  376990   \n",
       "1  178500  178487  178722  178603  179971  183287  185958  187470  188234   \n",
       "\n",
       "   2013_x  2014_x  2015_x  2016_x  Bevölkerungswachstum Gemeindename_y  \\\n",
       "0  380777  384786  391359  396955              8.715478         Zürich   \n",
       "1  189033  191557  194565  198072              8.066584         Genève   \n",
       "\n",
       "   2009_y  2010_y  2011_y  2012_y  2013_y  2014_y  2015_y  2016_y  \\\n",
       "0  207183  208090  209701  211942  214470  215608  218586  220940   \n",
       "1  101701  104440  104760  105217  106075  106313  107056  107474   \n",
       "\n",
       "   Wohnungswachstum Total  \n",
       "0                6.640024  \n",
       "1                5.676444  "
      ]
     },
     "execution_count": 37,
     "metadata": {},
     "output_type": "execute_result"
    }
   ],
   "source": [
    "# ausgangstabelle, dann zu mergende tabelle, mit how= werden nur die werte genommen, die in beiden tabellen vorkommen (schnittmenge), dann unter on= die gemeindenummer (wenn es gleich heisst bei beiden tabellen, sonst left on / right on)\n",
    "df_1 = df_bev.merge(df_wohn_tot, how='inner', on='Gemeindenummer')\n",
    "df_1.head(2)"
   ]
  },
  {
   "cell_type": "markdown",
   "metadata": {},
   "source": [
    "Pandas hat nun anhand der Gemeindenummer (einem unique identifier) die beiden Dataframes fusioniert. Dieser Merge ist aber nur für die Werte Bevölkerungswachstum und Wohnungswachstum brauchbar!"
   ]
  },
  {
   "cell_type": "markdown",
   "metadata": {},
   "source": [
    "**Frage:** Wie viele Gemeinden sind im neuen Dataframe enthalten? Woher kommt diese Zahl? \n",
    "\n",
    "Und: Wie viele Gemeinden wären enthalten, wenn wir `how='outer'` gewählt hätten? Warum? = Weil mit Inner die Schnittmenge genommen wurde und diese somit kürzer ist"
   ]
  },
  {
   "cell_type": "code",
   "execution_count": 38,
   "metadata": {},
   "outputs": [
    {
     "data": {
      "text/plain": [
       "(2282, 49)"
      ]
     },
     "execution_count": 38,
     "metadata": {},
     "output_type": "execute_result"
    }
   ],
   "source": [
    "#Antwort\n",
    "df_1.shape"
   ]
  },
  {
   "cell_type": "code",
   "execution_count": 40,
   "metadata": {},
   "outputs": [
    {
     "data": {
      "text/plain": [
       "(2287, 49)"
      ]
     },
     "execution_count": 40,
     "metadata": {},
     "output_type": "execute_result"
    }
   ],
   "source": [
    "df_bev.merge(df_wohn_tot, how='outer', on='Gemeindenummer').shape"
   ]
  },
  {
   "cell_type": "markdown",
   "metadata": {},
   "source": [
    "**Quiz:** Finden Sie die fünf Gemeinden, die in der Bevölkerungszahlen-Tabelle nicht enthalten sind."
   ]
  },
  {
   "cell_type": "code",
   "execution_count": 42,
   "metadata": {},
   "outputs": [
    {
     "data": {
      "text/html": [
       "<div>\n",
       "<style scoped>\n",
       "    .dataframe tbody tr th:only-of-type {\n",
       "        vertical-align: middle;\n",
       "    }\n",
       "\n",
       "    .dataframe tbody tr th {\n",
       "        vertical-align: top;\n",
       "    }\n",
       "\n",
       "    .dataframe thead th {\n",
       "        text-align: right;\n",
       "    }\n",
       "</style>\n",
       "<table border=\"1\" class=\"dataframe\">\n",
       "  <thead>\n",
       "    <tr style=\"text-align: right;\">\n",
       "      <th></th>\n",
       "      <th>Gemeindenummer</th>\n",
       "      <th>Gemeindename_x</th>\n",
       "      <th>1981</th>\n",
       "      <th>1982</th>\n",
       "      <th>1983</th>\n",
       "      <th>1984</th>\n",
       "      <th>1985</th>\n",
       "      <th>1986</th>\n",
       "      <th>1987</th>\n",
       "      <th>1988</th>\n",
       "      <th>1989</th>\n",
       "      <th>1990</th>\n",
       "      <th>1991</th>\n",
       "      <th>1992</th>\n",
       "      <th>1993</th>\n",
       "      <th>1994</th>\n",
       "      <th>1995</th>\n",
       "      <th>1996</th>\n",
       "      <th>1997</th>\n",
       "      <th>1998</th>\n",
       "      <th>1999</th>\n",
       "      <th>2000</th>\n",
       "      <th>2001</th>\n",
       "      <th>2002</th>\n",
       "      <th>2003</th>\n",
       "      <th>2004</th>\n",
       "      <th>2005</th>\n",
       "      <th>2006</th>\n",
       "      <th>2007</th>\n",
       "      <th>2008</th>\n",
       "      <th>2009_x</th>\n",
       "      <th>2010_x</th>\n",
       "      <th>2011_x</th>\n",
       "      <th>2012_x</th>\n",
       "      <th>2013_x</th>\n",
       "      <th>2014_x</th>\n",
       "      <th>2015_x</th>\n",
       "      <th>2016_x</th>\n",
       "      <th>Bevölkerungswachstum</th>\n",
       "      <th>Gemeindename_y</th>\n",
       "      <th>2009_y</th>\n",
       "      <th>2010_y</th>\n",
       "      <th>2011_y</th>\n",
       "      <th>2012_y</th>\n",
       "      <th>2013_y</th>\n",
       "      <th>2014_y</th>\n",
       "      <th>2015_y</th>\n",
       "      <th>2016_y</th>\n",
       "      <th>Wohnungswachstum Total</th>\n",
       "    </tr>\n",
       "  </thead>\n",
       "  <tbody>\n",
       "    <tr>\n",
       "      <td>1210</td>\n",
       "      <td>3986</td>\n",
       "      <td>Tujetsch</td>\n",
       "      <td>1319.0</td>\n",
       "      <td>1358.0</td>\n",
       "      <td>1328.0</td>\n",
       "      <td>1339.0</td>\n",
       "      <td>1344.0</td>\n",
       "      <td>1316.0</td>\n",
       "      <td>1303.0</td>\n",
       "      <td>1305.0</td>\n",
       "      <td>1300.0</td>\n",
       "      <td>1332.0</td>\n",
       "      <td>1509.0</td>\n",
       "      <td>1532.0</td>\n",
       "      <td>1522.0</td>\n",
       "      <td>1515.0</td>\n",
       "      <td>1506.0</td>\n",
       "      <td>1490.0</td>\n",
       "      <td>1497.0</td>\n",
       "      <td>1480.0</td>\n",
       "      <td>1580.0</td>\n",
       "      <td>1597.0</td>\n",
       "      <td>1549.0</td>\n",
       "      <td>1567.0</td>\n",
       "      <td>1581.0</td>\n",
       "      <td>1707.0</td>\n",
       "      <td>1811.0</td>\n",
       "      <td>1845.0</td>\n",
       "      <td>1881.0</td>\n",
       "      <td>1852.0</td>\n",
       "      <td>1838.0</td>\n",
       "      <td>1791.0</td>\n",
       "      <td>1732.0</td>\n",
       "      <td>1693.0</td>\n",
       "      <td>1542.0</td>\n",
       "      <td>1405.0</td>\n",
       "      <td>1359.0</td>\n",
       "      <td>1324.0</td>\n",
       "      <td>-27.965180</td>\n",
       "      <td>Tujetsch</td>\n",
       "      <td>1668</td>\n",
       "      <td>1693</td>\n",
       "      <td>1692</td>\n",
       "      <td>1732</td>\n",
       "      <td>1748</td>\n",
       "      <td>1773</td>\n",
       "      <td>1777</td>\n",
       "      <td>1779</td>\n",
       "      <td>6.654676</td>\n",
       "    </tr>\n",
       "    <tr>\n",
       "      <td>2281</td>\n",
       "      <td>5102</td>\n",
       "      <td>Corippo</td>\n",
       "      <td>45.0</td>\n",
       "      <td>41.0</td>\n",
       "      <td>38.0</td>\n",
       "      <td>44.0</td>\n",
       "      <td>45.0</td>\n",
       "      <td>41.0</td>\n",
       "      <td>39.0</td>\n",
       "      <td>39.0</td>\n",
       "      <td>39.0</td>\n",
       "      <td>38.0</td>\n",
       "      <td>40.0</td>\n",
       "      <td>38.0</td>\n",
       "      <td>38.0</td>\n",
       "      <td>35.0</td>\n",
       "      <td>34.0</td>\n",
       "      <td>33.0</td>\n",
       "      <td>31.0</td>\n",
       "      <td>29.0</td>\n",
       "      <td>28.0</td>\n",
       "      <td>33.0</td>\n",
       "      <td>24.0</td>\n",
       "      <td>24.0</td>\n",
       "      <td>24.0</td>\n",
       "      <td>20.0</td>\n",
       "      <td>17.0</td>\n",
       "      <td>17.0</td>\n",
       "      <td>18.0</td>\n",
       "      <td>19.0</td>\n",
       "      <td>18.0</td>\n",
       "      <td>15.0</td>\n",
       "      <td>12.0</td>\n",
       "      <td>12.0</td>\n",
       "      <td>12.0</td>\n",
       "      <td>12.0</td>\n",
       "      <td>13.0</td>\n",
       "      <td>13.0</td>\n",
       "      <td>-27.777778</td>\n",
       "      <td>Corippo</td>\n",
       "      <td>71</td>\n",
       "      <td>71</td>\n",
       "      <td>71</td>\n",
       "      <td>71</td>\n",
       "      <td>71</td>\n",
       "      <td>71</td>\n",
       "      <td>71</td>\n",
       "      <td>72</td>\n",
       "      <td>1.408451</td>\n",
       "    </tr>\n",
       "    <tr>\n",
       "      <td>2254</td>\n",
       "      <td>6011</td>\n",
       "      <td>Zwischbergen</td>\n",
       "      <td>176.0</td>\n",
       "      <td>177.0</td>\n",
       "      <td>181.0</td>\n",
       "      <td>182.0</td>\n",
       "      <td>176.0</td>\n",
       "      <td>179.0</td>\n",
       "      <td>181.0</td>\n",
       "      <td>184.0</td>\n",
       "      <td>187.0</td>\n",
       "      <td>191.0</td>\n",
       "      <td>184.0</td>\n",
       "      <td>190.0</td>\n",
       "      <td>179.0</td>\n",
       "      <td>173.0</td>\n",
       "      <td>177.0</td>\n",
       "      <td>159.0</td>\n",
       "      <td>161.0</td>\n",
       "      <td>162.0</td>\n",
       "      <td>160.0</td>\n",
       "      <td>158.0</td>\n",
       "      <td>152.0</td>\n",
       "      <td>127.0</td>\n",
       "      <td>127.0</td>\n",
       "      <td>126.0</td>\n",
       "      <td>129.0</td>\n",
       "      <td>126.0</td>\n",
       "      <td>114.0</td>\n",
       "      <td>105.0</td>\n",
       "      <td>111.0</td>\n",
       "      <td>102.0</td>\n",
       "      <td>80.0</td>\n",
       "      <td>76.0</td>\n",
       "      <td>87.0</td>\n",
       "      <td>86.0</td>\n",
       "      <td>89.0</td>\n",
       "      <td>84.0</td>\n",
       "      <td>-24.324324</td>\n",
       "      <td>Zwischbergen</td>\n",
       "      <td>84</td>\n",
       "      <td>84</td>\n",
       "      <td>84</td>\n",
       "      <td>85</td>\n",
       "      <td>81</td>\n",
       "      <td>83</td>\n",
       "      <td>84</td>\n",
       "      <td>85</td>\n",
       "      <td>1.190476</td>\n",
       "    </tr>\n",
       "    <tr>\n",
       "      <td>2222</td>\n",
       "      <td>3669</td>\n",
       "      <td>Tschappina</td>\n",
       "      <td>153.0</td>\n",
       "      <td>163.0</td>\n",
       "      <td>159.0</td>\n",
       "      <td>158.0</td>\n",
       "      <td>161.0</td>\n",
       "      <td>160.0</td>\n",
       "      <td>162.0</td>\n",
       "      <td>164.0</td>\n",
       "      <td>162.0</td>\n",
       "      <td>163.0</td>\n",
       "      <td>151.0</td>\n",
       "      <td>162.0</td>\n",
       "      <td>161.0</td>\n",
       "      <td>172.0</td>\n",
       "      <td>167.0</td>\n",
       "      <td>171.0</td>\n",
       "      <td>166.0</td>\n",
       "      <td>165.0</td>\n",
       "      <td>173.0</td>\n",
       "      <td>172.0</td>\n",
       "      <td>166.0</td>\n",
       "      <td>159.0</td>\n",
       "      <td>160.0</td>\n",
       "      <td>158.0</td>\n",
       "      <td>162.0</td>\n",
       "      <td>160.0</td>\n",
       "      <td>162.0</td>\n",
       "      <td>162.0</td>\n",
       "      <td>161.0</td>\n",
       "      <td>142.0</td>\n",
       "      <td>141.0</td>\n",
       "      <td>139.0</td>\n",
       "      <td>137.0</td>\n",
       "      <td>138.0</td>\n",
       "      <td>128.0</td>\n",
       "      <td>126.0</td>\n",
       "      <td>-21.739130</td>\n",
       "      <td>Tschappina</td>\n",
       "      <td>177</td>\n",
       "      <td>180</td>\n",
       "      <td>180</td>\n",
       "      <td>184</td>\n",
       "      <td>184</td>\n",
       "      <td>184</td>\n",
       "      <td>183</td>\n",
       "      <td>239</td>\n",
       "      <td>35.028249</td>\n",
       "    </tr>\n",
       "    <tr>\n",
       "      <td>2221</td>\n",
       "      <td>6773</td>\n",
       "      <td>Beurnevésin</td>\n",
       "      <td>175.0</td>\n",
       "      <td>176.0</td>\n",
       "      <td>180.0</td>\n",
       "      <td>179.0</td>\n",
       "      <td>178.0</td>\n",
       "      <td>178.0</td>\n",
       "      <td>179.0</td>\n",
       "      <td>174.0</td>\n",
       "      <td>160.0</td>\n",
       "      <td>159.0</td>\n",
       "      <td>164.0</td>\n",
       "      <td>163.0</td>\n",
       "      <td>157.0</td>\n",
       "      <td>152.0</td>\n",
       "      <td>147.0</td>\n",
       "      <td>161.0</td>\n",
       "      <td>170.0</td>\n",
       "      <td>160.0</td>\n",
       "      <td>167.0</td>\n",
       "      <td>170.0</td>\n",
       "      <td>166.0</td>\n",
       "      <td>162.0</td>\n",
       "      <td>166.0</td>\n",
       "      <td>154.0</td>\n",
       "      <td>156.0</td>\n",
       "      <td>150.0</td>\n",
       "      <td>155.0</td>\n",
       "      <td>152.0</td>\n",
       "      <td>155.0</td>\n",
       "      <td>150.0</td>\n",
       "      <td>139.0</td>\n",
       "      <td>134.0</td>\n",
       "      <td>134.0</td>\n",
       "      <td>131.0</td>\n",
       "      <td>124.0</td>\n",
       "      <td>126.0</td>\n",
       "      <td>-18.709677</td>\n",
       "      <td>Beurnevésin</td>\n",
       "      <td>81</td>\n",
       "      <td>81</td>\n",
       "      <td>81</td>\n",
       "      <td>81</td>\n",
       "      <td>83</td>\n",
       "      <td>79</td>\n",
       "      <td>79</td>\n",
       "      <td>78</td>\n",
       "      <td>-3.703704</td>\n",
       "    </tr>\n",
       "    <tr>\n",
       "      <td>...</td>\n",
       "      <td>...</td>\n",
       "      <td>...</td>\n",
       "      <td>...</td>\n",
       "      <td>...</td>\n",
       "      <td>...</td>\n",
       "      <td>...</td>\n",
       "      <td>...</td>\n",
       "      <td>...</td>\n",
       "      <td>...</td>\n",
       "      <td>...</td>\n",
       "      <td>...</td>\n",
       "      <td>...</td>\n",
       "      <td>...</td>\n",
       "      <td>...</td>\n",
       "      <td>...</td>\n",
       "      <td>...</td>\n",
       "      <td>...</td>\n",
       "      <td>...</td>\n",
       "      <td>...</td>\n",
       "      <td>...</td>\n",
       "      <td>...</td>\n",
       "      <td>...</td>\n",
       "      <td>...</td>\n",
       "      <td>...</td>\n",
       "      <td>...</td>\n",
       "      <td>...</td>\n",
       "      <td>...</td>\n",
       "      <td>...</td>\n",
       "      <td>...</td>\n",
       "      <td>...</td>\n",
       "      <td>...</td>\n",
       "      <td>...</td>\n",
       "      <td>...</td>\n",
       "      <td>...</td>\n",
       "      <td>...</td>\n",
       "      <td>...</td>\n",
       "      <td>...</td>\n",
       "      <td>...</td>\n",
       "      <td>...</td>\n",
       "      <td>...</td>\n",
       "      <td>...</td>\n",
       "      <td>...</td>\n",
       "      <td>...</td>\n",
       "      <td>...</td>\n",
       "      <td>...</td>\n",
       "      <td>...</td>\n",
       "      <td>...</td>\n",
       "      <td>...</td>\n",
       "      <td>...</td>\n",
       "    </tr>\n",
       "    <tr>\n",
       "      <td>2282</td>\n",
       "      <td>4546</td>\n",
       "      <td>NaN</td>\n",
       "      <td>NaN</td>\n",
       "      <td>NaN</td>\n",
       "      <td>NaN</td>\n",
       "      <td>NaN</td>\n",
       "      <td>NaN</td>\n",
       "      <td>NaN</td>\n",
       "      <td>NaN</td>\n",
       "      <td>NaN</td>\n",
       "      <td>NaN</td>\n",
       "      <td>NaN</td>\n",
       "      <td>NaN</td>\n",
       "      <td>NaN</td>\n",
       "      <td>NaN</td>\n",
       "      <td>NaN</td>\n",
       "      <td>NaN</td>\n",
       "      <td>NaN</td>\n",
       "      <td>NaN</td>\n",
       "      <td>NaN</td>\n",
       "      <td>NaN</td>\n",
       "      <td>NaN</td>\n",
       "      <td>NaN</td>\n",
       "      <td>NaN</td>\n",
       "      <td>NaN</td>\n",
       "      <td>NaN</td>\n",
       "      <td>NaN</td>\n",
       "      <td>NaN</td>\n",
       "      <td>NaN</td>\n",
       "      <td>NaN</td>\n",
       "      <td>NaN</td>\n",
       "      <td>NaN</td>\n",
       "      <td>NaN</td>\n",
       "      <td>NaN</td>\n",
       "      <td>NaN</td>\n",
       "      <td>NaN</td>\n",
       "      <td>NaN</td>\n",
       "      <td>NaN</td>\n",
       "      <td>NaN</td>\n",
       "      <td>Schlatt (TG)</td>\n",
       "      <td>686</td>\n",
       "      <td>696</td>\n",
       "      <td>703</td>\n",
       "      <td>712</td>\n",
       "      <td>727</td>\n",
       "      <td>738</td>\n",
       "      <td>767</td>\n",
       "      <td>781</td>\n",
       "      <td>13.848397</td>\n",
       "    </tr>\n",
       "    <tr>\n",
       "      <td>2283</td>\n",
       "      <td>4683</td>\n",
       "      <td>NaN</td>\n",
       "      <td>NaN</td>\n",
       "      <td>NaN</td>\n",
       "      <td>NaN</td>\n",
       "      <td>NaN</td>\n",
       "      <td>NaN</td>\n",
       "      <td>NaN</td>\n",
       "      <td>NaN</td>\n",
       "      <td>NaN</td>\n",
       "      <td>NaN</td>\n",
       "      <td>NaN</td>\n",
       "      <td>NaN</td>\n",
       "      <td>NaN</td>\n",
       "      <td>NaN</td>\n",
       "      <td>NaN</td>\n",
       "      <td>NaN</td>\n",
       "      <td>NaN</td>\n",
       "      <td>NaN</td>\n",
       "      <td>NaN</td>\n",
       "      <td>NaN</td>\n",
       "      <td>NaN</td>\n",
       "      <td>NaN</td>\n",
       "      <td>NaN</td>\n",
       "      <td>NaN</td>\n",
       "      <td>NaN</td>\n",
       "      <td>NaN</td>\n",
       "      <td>NaN</td>\n",
       "      <td>NaN</td>\n",
       "      <td>NaN</td>\n",
       "      <td>NaN</td>\n",
       "      <td>NaN</td>\n",
       "      <td>NaN</td>\n",
       "      <td>NaN</td>\n",
       "      <td>NaN</td>\n",
       "      <td>NaN</td>\n",
       "      <td>NaN</td>\n",
       "      <td>NaN</td>\n",
       "      <td>NaN</td>\n",
       "      <td>Lengwil</td>\n",
       "      <td>582</td>\n",
       "      <td>593</td>\n",
       "      <td>596</td>\n",
       "      <td>601</td>\n",
       "      <td>635</td>\n",
       "      <td>670</td>\n",
       "      <td>704</td>\n",
       "      <td>717</td>\n",
       "      <td>23.195876</td>\n",
       "    </tr>\n",
       "    <tr>\n",
       "      <td>2284</td>\n",
       "      <td>4723</td>\n",
       "      <td>NaN</td>\n",
       "      <td>NaN</td>\n",
       "      <td>NaN</td>\n",
       "      <td>NaN</td>\n",
       "      <td>NaN</td>\n",
       "      <td>NaN</td>\n",
       "      <td>NaN</td>\n",
       "      <td>NaN</td>\n",
       "      <td>NaN</td>\n",
       "      <td>NaN</td>\n",
       "      <td>NaN</td>\n",
       "      <td>NaN</td>\n",
       "      <td>NaN</td>\n",
       "      <td>NaN</td>\n",
       "      <td>NaN</td>\n",
       "      <td>NaN</td>\n",
       "      <td>NaN</td>\n",
       "      <td>NaN</td>\n",
       "      <td>NaN</td>\n",
       "      <td>NaN</td>\n",
       "      <td>NaN</td>\n",
       "      <td>NaN</td>\n",
       "      <td>NaN</td>\n",
       "      <td>NaN</td>\n",
       "      <td>NaN</td>\n",
       "      <td>NaN</td>\n",
       "      <td>NaN</td>\n",
       "      <td>NaN</td>\n",
       "      <td>NaN</td>\n",
       "      <td>NaN</td>\n",
       "      <td>NaN</td>\n",
       "      <td>NaN</td>\n",
       "      <td>NaN</td>\n",
       "      <td>NaN</td>\n",
       "      <td>NaN</td>\n",
       "      <td>NaN</td>\n",
       "      <td>NaN</td>\n",
       "      <td>NaN</td>\n",
       "      <td>Braunau</td>\n",
       "      <td>277</td>\n",
       "      <td>284</td>\n",
       "      <td>292</td>\n",
       "      <td>294</td>\n",
       "      <td>303</td>\n",
       "      <td>314</td>\n",
       "      <td>319</td>\n",
       "      <td>321</td>\n",
       "      <td>15.884477</td>\n",
       "    </tr>\n",
       "    <tr>\n",
       "      <td>2285</td>\n",
       "      <td>4724</td>\n",
       "      <td>NaN</td>\n",
       "      <td>NaN</td>\n",
       "      <td>NaN</td>\n",
       "      <td>NaN</td>\n",
       "      <td>NaN</td>\n",
       "      <td>NaN</td>\n",
       "      <td>NaN</td>\n",
       "      <td>NaN</td>\n",
       "      <td>NaN</td>\n",
       "      <td>NaN</td>\n",
       "      <td>NaN</td>\n",
       "      <td>NaN</td>\n",
       "      <td>NaN</td>\n",
       "      <td>NaN</td>\n",
       "      <td>NaN</td>\n",
       "      <td>NaN</td>\n",
       "      <td>NaN</td>\n",
       "      <td>NaN</td>\n",
       "      <td>NaN</td>\n",
       "      <td>NaN</td>\n",
       "      <td>NaN</td>\n",
       "      <td>NaN</td>\n",
       "      <td>NaN</td>\n",
       "      <td>NaN</td>\n",
       "      <td>NaN</td>\n",
       "      <td>NaN</td>\n",
       "      <td>NaN</td>\n",
       "      <td>NaN</td>\n",
       "      <td>NaN</td>\n",
       "      <td>NaN</td>\n",
       "      <td>NaN</td>\n",
       "      <td>NaN</td>\n",
       "      <td>NaN</td>\n",
       "      <td>NaN</td>\n",
       "      <td>NaN</td>\n",
       "      <td>NaN</td>\n",
       "      <td>NaN</td>\n",
       "      <td>NaN</td>\n",
       "      <td>Eschlikon</td>\n",
       "      <td>1688</td>\n",
       "      <td>1703</td>\n",
       "      <td>1742</td>\n",
       "      <td>1837</td>\n",
       "      <td>1894</td>\n",
       "      <td>1898</td>\n",
       "      <td>1927</td>\n",
       "      <td>1938</td>\n",
       "      <td>14.810427</td>\n",
       "    </tr>\n",
       "    <tr>\n",
       "      <td>2286</td>\n",
       "      <td>4786</td>\n",
       "      <td>NaN</td>\n",
       "      <td>NaN</td>\n",
       "      <td>NaN</td>\n",
       "      <td>NaN</td>\n",
       "      <td>NaN</td>\n",
       "      <td>NaN</td>\n",
       "      <td>NaN</td>\n",
       "      <td>NaN</td>\n",
       "      <td>NaN</td>\n",
       "      <td>NaN</td>\n",
       "      <td>NaN</td>\n",
       "      <td>NaN</td>\n",
       "      <td>NaN</td>\n",
       "      <td>NaN</td>\n",
       "      <td>NaN</td>\n",
       "      <td>NaN</td>\n",
       "      <td>NaN</td>\n",
       "      <td>NaN</td>\n",
       "      <td>NaN</td>\n",
       "      <td>NaN</td>\n",
       "      <td>NaN</td>\n",
       "      <td>NaN</td>\n",
       "      <td>NaN</td>\n",
       "      <td>NaN</td>\n",
       "      <td>NaN</td>\n",
       "      <td>NaN</td>\n",
       "      <td>NaN</td>\n",
       "      <td>NaN</td>\n",
       "      <td>NaN</td>\n",
       "      <td>NaN</td>\n",
       "      <td>NaN</td>\n",
       "      <td>NaN</td>\n",
       "      <td>NaN</td>\n",
       "      <td>NaN</td>\n",
       "      <td>NaN</td>\n",
       "      <td>NaN</td>\n",
       "      <td>NaN</td>\n",
       "      <td>NaN</td>\n",
       "      <td>Wilen (TG)</td>\n",
       "      <td>830</td>\n",
       "      <td>826</td>\n",
       "      <td>831</td>\n",
       "      <td>848</td>\n",
       "      <td>895</td>\n",
       "      <td>943</td>\n",
       "      <td>972</td>\n",
       "      <td>1003</td>\n",
       "      <td>20.843373</td>\n",
       "    </tr>\n",
       "  </tbody>\n",
       "</table>\n",
       "<p>2287 rows × 49 columns</p>\n",
       "</div>"
      ],
      "text/plain": [
       "      Gemeindenummer Gemeindename_x    1981    1982    1983    1984    1985  \\\n",
       "1210            3986       Tujetsch  1319.0  1358.0  1328.0  1339.0  1344.0   \n",
       "2281            5102        Corippo    45.0    41.0    38.0    44.0    45.0   \n",
       "2254            6011   Zwischbergen   176.0   177.0   181.0   182.0   176.0   \n",
       "2222            3669     Tschappina   153.0   163.0   159.0   158.0   161.0   \n",
       "2221            6773    Beurnevésin   175.0   176.0   180.0   179.0   178.0   \n",
       "...              ...            ...     ...     ...     ...     ...     ...   \n",
       "2282            4546            NaN     NaN     NaN     NaN     NaN     NaN   \n",
       "2283            4683            NaN     NaN     NaN     NaN     NaN     NaN   \n",
       "2284            4723            NaN     NaN     NaN     NaN     NaN     NaN   \n",
       "2285            4724            NaN     NaN     NaN     NaN     NaN     NaN   \n",
       "2286            4786            NaN     NaN     NaN     NaN     NaN     NaN   \n",
       "\n",
       "        1986    1987    1988    1989    1990    1991    1992    1993    1994  \\\n",
       "1210  1316.0  1303.0  1305.0  1300.0  1332.0  1509.0  1532.0  1522.0  1515.0   \n",
       "2281    41.0    39.0    39.0    39.0    38.0    40.0    38.0    38.0    35.0   \n",
       "2254   179.0   181.0   184.0   187.0   191.0   184.0   190.0   179.0   173.0   \n",
       "2222   160.0   162.0   164.0   162.0   163.0   151.0   162.0   161.0   172.0   \n",
       "2221   178.0   179.0   174.0   160.0   159.0   164.0   163.0   157.0   152.0   \n",
       "...      ...     ...     ...     ...     ...     ...     ...     ...     ...   \n",
       "2282     NaN     NaN     NaN     NaN     NaN     NaN     NaN     NaN     NaN   \n",
       "2283     NaN     NaN     NaN     NaN     NaN     NaN     NaN     NaN     NaN   \n",
       "2284     NaN     NaN     NaN     NaN     NaN     NaN     NaN     NaN     NaN   \n",
       "2285     NaN     NaN     NaN     NaN     NaN     NaN     NaN     NaN     NaN   \n",
       "2286     NaN     NaN     NaN     NaN     NaN     NaN     NaN     NaN     NaN   \n",
       "\n",
       "        1995    1996    1997    1998    1999    2000    2001    2002    2003  \\\n",
       "1210  1506.0  1490.0  1497.0  1480.0  1580.0  1597.0  1549.0  1567.0  1581.0   \n",
       "2281    34.0    33.0    31.0    29.0    28.0    33.0    24.0    24.0    24.0   \n",
       "2254   177.0   159.0   161.0   162.0   160.0   158.0   152.0   127.0   127.0   \n",
       "2222   167.0   171.0   166.0   165.0   173.0   172.0   166.0   159.0   160.0   \n",
       "2221   147.0   161.0   170.0   160.0   167.0   170.0   166.0   162.0   166.0   \n",
       "...      ...     ...     ...     ...     ...     ...     ...     ...     ...   \n",
       "2282     NaN     NaN     NaN     NaN     NaN     NaN     NaN     NaN     NaN   \n",
       "2283     NaN     NaN     NaN     NaN     NaN     NaN     NaN     NaN     NaN   \n",
       "2284     NaN     NaN     NaN     NaN     NaN     NaN     NaN     NaN     NaN   \n",
       "2285     NaN     NaN     NaN     NaN     NaN     NaN     NaN     NaN     NaN   \n",
       "2286     NaN     NaN     NaN     NaN     NaN     NaN     NaN     NaN     NaN   \n",
       "\n",
       "        2004    2005    2006    2007    2008  2009_x  2010_x  2011_x  2012_x  \\\n",
       "1210  1707.0  1811.0  1845.0  1881.0  1852.0  1838.0  1791.0  1732.0  1693.0   \n",
       "2281    20.0    17.0    17.0    18.0    19.0    18.0    15.0    12.0    12.0   \n",
       "2254   126.0   129.0   126.0   114.0   105.0   111.0   102.0    80.0    76.0   \n",
       "2222   158.0   162.0   160.0   162.0   162.0   161.0   142.0   141.0   139.0   \n",
       "2221   154.0   156.0   150.0   155.0   152.0   155.0   150.0   139.0   134.0   \n",
       "...      ...     ...     ...     ...     ...     ...     ...     ...     ...   \n",
       "2282     NaN     NaN     NaN     NaN     NaN     NaN     NaN     NaN     NaN   \n",
       "2283     NaN     NaN     NaN     NaN     NaN     NaN     NaN     NaN     NaN   \n",
       "2284     NaN     NaN     NaN     NaN     NaN     NaN     NaN     NaN     NaN   \n",
       "2285     NaN     NaN     NaN     NaN     NaN     NaN     NaN     NaN     NaN   \n",
       "2286     NaN     NaN     NaN     NaN     NaN     NaN     NaN     NaN     NaN   \n",
       "\n",
       "      2013_x  2014_x  2015_x  2016_x  Bevölkerungswachstum Gemeindename_y  \\\n",
       "1210  1542.0  1405.0  1359.0  1324.0            -27.965180       Tujetsch   \n",
       "2281    12.0    12.0    13.0    13.0            -27.777778        Corippo   \n",
       "2254    87.0    86.0    89.0    84.0            -24.324324   Zwischbergen   \n",
       "2222   137.0   138.0   128.0   126.0            -21.739130     Tschappina   \n",
       "2221   134.0   131.0   124.0   126.0            -18.709677    Beurnevésin   \n",
       "...      ...     ...     ...     ...                   ...            ...   \n",
       "2282     NaN     NaN     NaN     NaN                   NaN   Schlatt (TG)   \n",
       "2283     NaN     NaN     NaN     NaN                   NaN        Lengwil   \n",
       "2284     NaN     NaN     NaN     NaN                   NaN        Braunau   \n",
       "2285     NaN     NaN     NaN     NaN                   NaN      Eschlikon   \n",
       "2286     NaN     NaN     NaN     NaN                   NaN     Wilen (TG)   \n",
       "\n",
       "      2009_y  2010_y  2011_y  2012_y  2013_y  2014_y  2015_y  2016_y  \\\n",
       "1210    1668    1693    1692    1732    1748    1773    1777    1779   \n",
       "2281      71      71      71      71      71      71      71      72   \n",
       "2254      84      84      84      85      81      83      84      85   \n",
       "2222     177     180     180     184     184     184     183     239   \n",
       "2221      81      81      81      81      83      79      79      78   \n",
       "...      ...     ...     ...     ...     ...     ...     ...     ...   \n",
       "2282     686     696     703     712     727     738     767     781   \n",
       "2283     582     593     596     601     635     670     704     717   \n",
       "2284     277     284     292     294     303     314     319     321   \n",
       "2285    1688    1703    1742    1837    1894    1898    1927    1938   \n",
       "2286     830     826     831     848     895     943     972    1003   \n",
       "\n",
       "      Wohnungswachstum Total  \n",
       "1210                6.654676  \n",
       "2281                1.408451  \n",
       "2254                1.190476  \n",
       "2222               35.028249  \n",
       "2221               -3.703704  \n",
       "...                      ...  \n",
       "2282               13.848397  \n",
       "2283               23.195876  \n",
       "2284               15.884477  \n",
       "2285               14.810427  \n",
       "2286               20.843373  \n",
       "\n",
       "[2287 rows x 49 columns]"
      ]
     },
     "execution_count": 42,
     "metadata": {},
     "output_type": "execute_result"
    }
   ],
   "source": [
    "#Antwort NaN finden!\n",
    "df_bev.merge(df_wohn_tot, how='outer', on='Gemeindenummer').sort_values(\"Bevölkerungswachstum\")"
   ]
  },
  {
   "cell_type": "markdown",
   "metadata": {},
   "source": [
    "**2. Nun nehmen wir noch die Leerwohnungsziffer dazu** "
   ]
  },
  {
   "cell_type": "code",
   "execution_count": 48,
   "metadata": {},
   "outputs": [],
   "source": [
    "df_2 = df_1.merge(df_lwz, how='inner', on='Gemeindenummer')"
   ]
  },
  {
   "cell_type": "code",
   "execution_count": 49,
   "metadata": {},
   "outputs": [
    {
     "data": {
      "text/html": [
       "<div>\n",
       "<style scoped>\n",
       "    .dataframe tbody tr th:only-of-type {\n",
       "        vertical-align: middle;\n",
       "    }\n",
       "\n",
       "    .dataframe tbody tr th {\n",
       "        vertical-align: top;\n",
       "    }\n",
       "\n",
       "    .dataframe thead th {\n",
       "        text-align: right;\n",
       "    }\n",
       "</style>\n",
       "<table border=\"1\" class=\"dataframe\">\n",
       "  <thead>\n",
       "    <tr style=\"text-align: right;\">\n",
       "      <th></th>\n",
       "      <th>Gemeindenummer</th>\n",
       "      <th>Gemeindename_x</th>\n",
       "      <th>1981</th>\n",
       "      <th>1982</th>\n",
       "      <th>1983</th>\n",
       "      <th>1984</th>\n",
       "      <th>1985</th>\n",
       "      <th>1986</th>\n",
       "      <th>1987</th>\n",
       "      <th>1988</th>\n",
       "      <th>1989</th>\n",
       "      <th>1990</th>\n",
       "      <th>1991</th>\n",
       "      <th>1992</th>\n",
       "      <th>1993</th>\n",
       "      <th>1994</th>\n",
       "      <th>1995</th>\n",
       "      <th>1996</th>\n",
       "      <th>1997</th>\n",
       "      <th>1998</th>\n",
       "      <th>1999</th>\n",
       "      <th>2000</th>\n",
       "      <th>2001</th>\n",
       "      <th>2002</th>\n",
       "      <th>2003</th>\n",
       "      <th>...</th>\n",
       "      <th>2005</th>\n",
       "      <th>2006</th>\n",
       "      <th>2007</th>\n",
       "      <th>2008</th>\n",
       "      <th>2009_x</th>\n",
       "      <th>2010_x</th>\n",
       "      <th>2011_x</th>\n",
       "      <th>2012_x</th>\n",
       "      <th>2013_x</th>\n",
       "      <th>2014_x</th>\n",
       "      <th>2015_x</th>\n",
       "      <th>2016_x</th>\n",
       "      <th>Bevölkerungswachstum</th>\n",
       "      <th>Gemeindename_y</th>\n",
       "      <th>2009_y</th>\n",
       "      <th>2010_y</th>\n",
       "      <th>2011_y</th>\n",
       "      <th>2012_y</th>\n",
       "      <th>2013_y</th>\n",
       "      <th>2014_y</th>\n",
       "      <th>2015_y</th>\n",
       "      <th>2016_y</th>\n",
       "      <th>Wohnungswachstum Total</th>\n",
       "      <th>Gemeinde</th>\n",
       "      <th>Leerwohnungsziffer</th>\n",
       "    </tr>\n",
       "  </thead>\n",
       "  <tbody>\n",
       "    <tr>\n",
       "      <td>0</td>\n",
       "      <td>261</td>\n",
       "      <td>Zürich</td>\n",
       "      <td>370103</td>\n",
       "      <td>366040</td>\n",
       "      <td>363449</td>\n",
       "      <td>356665</td>\n",
       "      <td>354525</td>\n",
       "      <td>351545</td>\n",
       "      <td>349549</td>\n",
       "      <td>346879</td>\n",
       "      <td>345159</td>\n",
       "      <td>342861</td>\n",
       "      <td>341934</td>\n",
       "      <td>343267</td>\n",
       "      <td>345235</td>\n",
       "      <td>343045</td>\n",
       "      <td>342872</td>\n",
       "      <td>343869</td>\n",
       "      <td>341250</td>\n",
       "      <td>338594</td>\n",
       "      <td>336821</td>\n",
       "      <td>336822</td>\n",
       "      <td>337035</td>\n",
       "      <td>340197</td>\n",
       "      <td>342116</td>\n",
       "      <td>...</td>\n",
       "      <td>345236</td>\n",
       "      <td>347517</td>\n",
       "      <td>350125</td>\n",
       "      <td>358540</td>\n",
       "      <td>365132</td>\n",
       "      <td>368677</td>\n",
       "      <td>372857</td>\n",
       "      <td>376990</td>\n",
       "      <td>380777</td>\n",
       "      <td>384786</td>\n",
       "      <td>391359</td>\n",
       "      <td>396955</td>\n",
       "      <td>8.715478</td>\n",
       "      <td>Zürich</td>\n",
       "      <td>207183</td>\n",
       "      <td>208090</td>\n",
       "      <td>209701</td>\n",
       "      <td>211942</td>\n",
       "      <td>214470</td>\n",
       "      <td>215608</td>\n",
       "      <td>218586</td>\n",
       "      <td>220940</td>\n",
       "      <td>6.640024</td>\n",
       "      <td>Zürich</td>\n",
       "      <td>0.205486</td>\n",
       "    </tr>\n",
       "    <tr>\n",
       "      <td>1</td>\n",
       "      <td>6621</td>\n",
       "      <td>Genève</td>\n",
       "      <td>156617</td>\n",
       "      <td>157322</td>\n",
       "      <td>158426</td>\n",
       "      <td>158806</td>\n",
       "      <td>159527</td>\n",
       "      <td>159895</td>\n",
       "      <td>160645</td>\n",
       "      <td>161473</td>\n",
       "      <td>163998</td>\n",
       "      <td>165404</td>\n",
       "      <td>168530</td>\n",
       "      <td>169025</td>\n",
       "      <td>170189</td>\n",
       "      <td>171744</td>\n",
       "      <td>172737</td>\n",
       "      <td>173549</td>\n",
       "      <td>172425</td>\n",
       "      <td>172586</td>\n",
       "      <td>172809</td>\n",
       "      <td>173519</td>\n",
       "      <td>174691</td>\n",
       "      <td>175697</td>\n",
       "      <td>177306</td>\n",
       "      <td>...</td>\n",
       "      <td>178487</td>\n",
       "      <td>178722</td>\n",
       "      <td>178603</td>\n",
       "      <td>179971</td>\n",
       "      <td>183287</td>\n",
       "      <td>185958</td>\n",
       "      <td>187470</td>\n",
       "      <td>188234</td>\n",
       "      <td>189033</td>\n",
       "      <td>191557</td>\n",
       "      <td>194565</td>\n",
       "      <td>198072</td>\n",
       "      <td>8.066584</td>\n",
       "      <td>Genève</td>\n",
       "      <td>101701</td>\n",
       "      <td>104440</td>\n",
       "      <td>104760</td>\n",
       "      <td>105217</td>\n",
       "      <td>106075</td>\n",
       "      <td>106313</td>\n",
       "      <td>107056</td>\n",
       "      <td>107474</td>\n",
       "      <td>5.676444</td>\n",
       "      <td>Genève</td>\n",
       "      <td>0.573162</td>\n",
       "    </tr>\n",
       "  </tbody>\n",
       "</table>\n",
       "<p>2 rows × 51 columns</p>\n",
       "</div>"
      ],
      "text/plain": [
       "   Gemeindenummer Gemeindename_x    1981    1982    1983    1984    1985  \\\n",
       "0             261         Zürich  370103  366040  363449  356665  354525   \n",
       "1            6621         Genève  156617  157322  158426  158806  159527   \n",
       "\n",
       "     1986    1987    1988    1989    1990    1991    1992    1993    1994  \\\n",
       "0  351545  349549  346879  345159  342861  341934  343267  345235  343045   \n",
       "1  159895  160645  161473  163998  165404  168530  169025  170189  171744   \n",
       "\n",
       "     1995    1996    1997    1998    1999    2000    2001    2002    2003  \\\n",
       "0  342872  343869  341250  338594  336821  336822  337035  340197  342116   \n",
       "1  172737  173549  172425  172586  172809  173519  174691  175697  177306   \n",
       "\n",
       "   ...    2005    2006    2007    2008  2009_x  2010_x  2011_x  2012_x  \\\n",
       "0  ...  345236  347517  350125  358540  365132  368677  372857  376990   \n",
       "1  ...  178487  178722  178603  179971  183287  185958  187470  188234   \n",
       "\n",
       "   2013_x  2014_x  2015_x  2016_x  Bevölkerungswachstum  Gemeindename_y  \\\n",
       "0  380777  384786  391359  396955              8.715478          Zürich   \n",
       "1  189033  191557  194565  198072              8.066584          Genève   \n",
       "\n",
       "   2009_y  2010_y  2011_y  2012_y  2013_y  2014_y  2015_y  2016_y  \\\n",
       "0  207183  208090  209701  211942  214470  215608  218586  220940   \n",
       "1  101701  104440  104760  105217  106075  106313  107056  107474   \n",
       "\n",
       "   Wohnungswachstum Total  Gemeinde Leerwohnungsziffer  \n",
       "0                6.640024    Zürich           0.205486  \n",
       "1                5.676444    Genève           0.573162  \n",
       "\n",
       "[2 rows x 51 columns]"
      ]
     },
     "execution_count": 49,
     "metadata": {},
     "output_type": "execute_result"
    }
   ],
   "source": [
    "df_2.head(2)"
   ]
  },
  {
   "cell_type": "markdown",
   "metadata": {},
   "source": [
    "**Tipp:** Es lohnt sich, bei merge-Operationen ein neues Dataframe zu erstellen, sonst gibt es schnell mal ein Chaos."
   ]
  },
  {
   "cell_type": "markdown",
   "metadata": {},
   "source": [
    "Weil wir an den meisten Infos in diese Tabelle gar nicht interessiert sind, selektieren wir etwas, auch der Übersichtlichkeit halber.\n",
    "\n",
    "Wir wählen nur unsere drei Indikatoren sowie den aktuellen Bevölkerungsstand."
   ]
  },
  {
   "cell_type": "code",
   "execution_count": 52,
   "metadata": {},
   "outputs": [
    {
     "data": {
      "text/html": [
       "<div>\n",
       "<style scoped>\n",
       "    .dataframe tbody tr th:only-of-type {\n",
       "        vertical-align: middle;\n",
       "    }\n",
       "\n",
       "    .dataframe tbody tr th {\n",
       "        vertical-align: top;\n",
       "    }\n",
       "\n",
       "    .dataframe thead th {\n",
       "        text-align: right;\n",
       "    }\n",
       "</style>\n",
       "<table border=\"1\" class=\"dataframe\">\n",
       "  <thead>\n",
       "    <tr style=\"text-align: right;\">\n",
       "      <th></th>\n",
       "      <th>Gemeindenummer</th>\n",
       "      <th>Gemeinde</th>\n",
       "      <th>Bevölkerung</th>\n",
       "      <th>Bevölkerungswachstum</th>\n",
       "      <th>Wohnungswachstum Total</th>\n",
       "      <th>Leerwohnungsziffer</th>\n",
       "    </tr>\n",
       "  </thead>\n",
       "  <tbody>\n",
       "    <tr>\n",
       "      <td>0</td>\n",
       "      <td>261</td>\n",
       "      <td>Zürich</td>\n",
       "      <td>396955</td>\n",
       "      <td>8.715478</td>\n",
       "      <td>6.640024</td>\n",
       "      <td>0.205486</td>\n",
       "    </tr>\n",
       "    <tr>\n",
       "      <td>1</td>\n",
       "      <td>6621</td>\n",
       "      <td>Genève</td>\n",
       "      <td>198072</td>\n",
       "      <td>8.066584</td>\n",
       "      <td>5.676444</td>\n",
       "      <td>0.573162</td>\n",
       "    </tr>\n",
       "  </tbody>\n",
       "</table>\n",
       "</div>"
      ],
      "text/plain": [
       "   Gemeindenummer Gemeinde  Bevölkerung  Bevölkerungswachstum  \\\n",
       "0             261   Zürich       396955              8.715478   \n",
       "1            6621   Genève       198072              8.066584   \n",
       "\n",
       "   Wohnungswachstum Total  Leerwohnungsziffer  \n",
       "0                6.640024            0.205486  \n",
       "1                5.676444            0.573162  "
      ]
     },
     "execution_count": 52,
     "metadata": {},
     "output_type": "execute_result"
    }
   ],
   "source": [
    "df_3 = df_2[['Gemeindenummer', 'Gemeinde', '2016_x', 'Bevölkerungswachstum', 'Wohnungswachstum Total', 'Leerwohnungsziffer']].copy()\n",
    "df_3.rename(columns={'2016_x': 'Bevölkerung'}, inplace=True)\n",
    "df_3.head(2)"
   ]
  },
  {
   "cell_type": "markdown",
   "metadata": {},
   "source": [
    "Wir sind nun bereit für eine erste Analyse - am einfachsten mit ein paar Scatterplots, da sieht man schnell mal, ob etwas zusammenhängt."
   ]
  },
  {
   "cell_type": "markdown",
   "metadata": {},
   "source": [
    "### Charts"
   ]
  },
  {
   "cell_type": "markdown",
   "metadata": {},
   "source": [
    "**Frage:** Wie hängen Wohnungswachstum und Leerwohnungsziffer zusammen?"
   ]
  },
  {
   "cell_type": "code",
   "execution_count": 53,
   "metadata": {},
   "outputs": [
    {
     "data": {
      "text/plain": [
       "<matplotlib.axes._subplots.AxesSubplot at 0x11ac93ad0>"
      ]
     },
     "execution_count": 53,
     "metadata": {},
     "output_type": "execute_result"
    },
    {
     "data": {
      "image/png": "[encoded data removed]",
      "text/plain": [
       "<Figure size 720x504 with 1 Axes>"
      ]
     },
     "metadata": {
      "needs_background": "light"
     },
     "output_type": "display_data"
    }
   ],
   "source": [
    "df_3.plot(kind='scatter', x='Bevölkerungswachstum', y='Leerwohnungsziffer', figsize=(10,7))"
   ]
  },
  {
   "cell_type": "markdown",
   "metadata": {},
   "source": [
    "Antwort: In einigen Gemeinden ist die Bevölkerung sehr stark gewachsen, dort sind die Leerstände allerdings nicht so gross. Tendenziell am meisten Leerstände gibt es in der Mitte der Verteilung. Schrumpfende Gemeinden haben meist nicht ganz so hohe Leerstände."
   ]
  },
  {
   "cell_type": "markdown",
   "metadata": {},
   "source": [
    "Wir können den Plot übrigens noch etwas aufhübschen und die Punkte nach Bevölkerungsgrösse skalieren..."
   ]
  },
  {
   "cell_type": "code",
   "execution_count": 54,
   "metadata": {},
   "outputs": [
    {
     "data": {
      "text/plain": [
       "<matplotlib.axes._subplots.AxesSubplot at 0x11ac505d0>"
      ]
     },
     "execution_count": 54,
     "metadata": {},
     "output_type": "execute_result"
    },
    {
     "data": {
      "image/png": "[encoded data removed]",
      "text/plain": [
       "<Figure size 720x504 with 1 Axes>"
      ]
     },
     "metadata": {
      "needs_background": "light"
     },
     "output_type": "display_data"
    }
   ],
   "source": [
    "area = df_3['Bevölkerung'] / 1000\n",
    "df_3.plot(kind='scatter', x='Bevölkerungswachstum', y='Leerwohnungsziffer', s=area, alpha=0.6, figsize=(10,7))"
   ]
  },
  {
   "cell_type": "markdown",
   "metadata": {},
   "source": [
    "**Quiz:** Wie hängt das Wohnungswachstum mit dem Bevölkerungswachstum zusammen? Zeichnen Sie einen Plot."
   ]
  },
  {
   "cell_type": "code",
   "execution_count": null,
   "metadata": {},
   "outputs": [],
   "source": [
    "#Antwort\n"
   ]
  },
  {
   "cell_type": "markdown",
   "metadata": {},
   "source": [
    "**Quiz:** Bilden Sie eine neue Kennzahl, die das Wohnungswachstum mit dem Bevölkerungswachstum vergleicht.\n",
    "\n",
    "Wie verhält sich diese Kennzal zur Leerwohnungsziffer?"
   ]
  },
  {
   "cell_type": "code",
   "execution_count": null,
   "metadata": {},
   "outputs": [],
   "source": [
    "#Antwort\n"
   ]
  },
  {
   "cell_type": "code",
   "execution_count": null,
   "metadata": {},
   "outputs": [],
   "source": []
  },
  {
   "cell_type": "markdown",
   "metadata": {},
   "source": [
    "Offensichtlich bringen uns diese Charts auch nicht viel weiter. Wir wissen jetzt zwar, dass die grossen Städte kein besonders hohes Wachstum verzeichneten und auch nicht sehr hohe Leerstände aufweisen, aber nicht viel mehr.\n",
    "\n",
    "Da hilft nur ein: Geopandas, to the rescue!"
   ]
  },
  {
   "cell_type": "markdown",
   "metadata": {},
   "source": [
    "## Geo Plots"
   ]
  },
  {
   "cell_type": "markdown",
   "metadata": {},
   "source": [
    "Geopandas funktioniert sehr ähnlich wie Pandas - bietet aber zusätzliche Funktionalität!\n",
    "\n",
    "Zuerst müssen wir ein paar Geodaten laden, so genannte shape files."
   ]
  },
  {
   "cell_type": "markdown",
   "metadata": {},
   "source": [
    "### Geodaten laden"
   ]
  },
  {
   "cell_type": "markdown",
   "metadata": {},
   "source": [
    "Zuerst eines für die Schweizer Landesgrenzen..."
   ]
  },
  {
   "cell_type": "code",
   "execution_count": null,
   "metadata": {},
   "outputs": [],
   "source": [
    "gdf_ch = gpd.read_file('dataprojects/immobilienboom/shp/g1l17.shp')\n",
    "gdf_ch.head(2)"
   ]
  },
  {
   "cell_type": "markdown",
   "metadata": {},
   "source": [
    "... dann eines für die Gemeinden..."
   ]
  },
  {
   "cell_type": "code",
   "execution_count": null,
   "metadata": {},
   "outputs": [],
   "source": [
    "gdf_gemeinden = gpd.read_file('dataprojects/immobilienboom/shp/g1g17.shp')\n",
    "gdf_gemeinden.head(2)"
   ]
  },
  {
   "cell_type": "markdown",
   "metadata": {},
   "source": [
    "... und noch eines für die Seen!"
   ]
  },
  {
   "cell_type": "code",
   "execution_count": null,
   "metadata": {},
   "outputs": [],
   "source": [
    "gdf_lakes = gpd.read_file('dataprojects/immobilienboom/shp/g1s17.shp')\n",
    "gdf_lakes.head(2)"
   ]
  },
  {
   "cell_type": "markdown",
   "metadata": {},
   "source": [
    "Das coole an Geopandas ist: Man kann diese Shapefiles mit wenigen Zeilen Code zeichnen lassen."
   ]
  },
  {
   "cell_type": "code",
   "execution_count": null,
   "metadata": {},
   "outputs": [],
   "source": [
    "ax = gdf_ch.plot(edgecolor='grey', color='white', alpha=1, linewidth=2, figsize=(20,13))\n",
    "gdf_lakes.plot(edgecolor='grey', facecolor='lightblue', alpha=1, linewidth=1, ax=ax)\n",
    "gdf_gemeinden.plot(edgecolor='grey', color='white', alpha=1, linewidth=0.2, ax=ax)\n",
    "ax.axis('off')"
   ]
  },
  {
   "cell_type": "markdown",
   "metadata": {},
   "source": [
    "Das hier brauchen wir später noch:"
   ]
  },
  {
   "cell_type": "code",
   "execution_count": null,
   "metadata": {},
   "outputs": [],
   "source": [
    "title_font = {\n",
    "    'family': 'sans-serif',\n",
    "    'color':  'black',\n",
    "    'weight': 'bold',\n",
    "    'size': 20\n",
    "}\n",
    "point_names = {\n",
    "    'family': 'sans-serif',\n",
    "    'color':  'black',\n",
    "    'weight': 'normal',\n",
    "    'size': 10\n",
    "}"
   ]
  },
  {
   "cell_type": "markdown",
   "metadata": {},
   "source": [
    "### Geodaten mit den restlichen Infos verbinden"
   ]
  },
  {
   "cell_type": "markdown",
   "metadata": {},
   "source": [
    "Damit wir auf der Karte nicht nur die Gemeinden einzeichnen können, sondern auch die restlichen Infos (zB die Leerwohnungsziffer), müssen wir erneut zwei Tabellen verschmelzen. Merke: In der Geodaten-Tabelle heisst das dazugehörige Index-Feld für die Gemeinenummer nicht \"Gemeindenummer\", sondern \"GMDNR\"."
   ]
  },
  {
   "cell_type": "code",
   "execution_count": null,
   "metadata": {},
   "outputs": [],
   "source": [
    "gdf_gemeinden_m = gdf_gemeinden.merge(df_3, how=\"inner\", left_on=\"GMDNR\", right_on=\"Gemeindenummer\")"
   ]
  },
  {
   "cell_type": "code",
   "execution_count": null,
   "metadata": {},
   "outputs": [],
   "source": [
    "gdf_gemeinden_m.head(2)"
   ]
  },
  {
   "cell_type": "markdown",
   "metadata": {},
   "source": [
    "### Choropleth Maps"
   ]
  },
  {
   "cell_type": "markdown",
   "metadata": {},
   "source": [
    "Machen wir mal einen ersten Plot, um zu schauen, welche Gemeinden einwohnermässig am meisten gewachsen sind."
   ]
  },
  {
   "cell_type": "code",
   "execution_count": null,
   "metadata": {},
   "outputs": [],
   "source": [
    "#Selber Code wie oben, für die Landesgrenzen und die Seen\n",
    "ax = gdf_ch.plot(edgecolor='grey', color='white', alpha=1, linewidth=2, figsize=(20,13))\n",
    "gdf_lakes.plot(edgecolor='grey', facecolor='lightblue', alpha=1, linewidth=1, ax=ax)\n",
    "\n",
    "#Code für die Gemeinden, eingefärbt nach der Spalte \"Bevölkerungswachstum\"\n",
    "gdf_gemeinden_m.plot(edgecolor='grey', column='Bevölkerungswachstum', cmap='YlOrRd', scheme='quantiles', alpha=0.8, linewidth=0.5, ax=ax, legend=True)\n",
    "\n",
    "my_title = \"Bevölkerungswachstum in den Gemeinden zwischen 2009 und 2016\"\n",
    "plt.text(480000, 312000, my_title, fontdict=title_font)\n",
    "\n",
    "ax.axis('off')"
   ]
  },
  {
   "cell_type": "markdown",
   "metadata": {},
   "source": [
    "### Dot Maps"
   ]
  },
  {
   "cell_type": "markdown",
   "metadata": {},
   "source": [
    "Ich persönlich mag choropleth maps nicht so - viel lieber dot maps.\n",
    "\n",
    "Dazu müssen wir kurz die Geometrie unseres Geodataframes ändern (was das genau ist, wird später im Kurs noch behandelt)"
   ]
  },
  {
   "cell_type": "code",
   "execution_count": null,
   "metadata": {},
   "outputs": [],
   "source": [
    "gdf_gemeinden_m['point_geometry'] = gdf_gemeinden_m.apply(lambda row: Point(row.X_CNTR, row.Y_CNTR), axis=1)"
   ]
  },
  {
   "cell_type": "code",
   "execution_count": null,
   "metadata": {},
   "outputs": [],
   "source": [
    "gdf_gemeinden_m = gdf_gemeinden_m.set_geometry('point_geometry')"
   ]
  },
  {
   "cell_type": "markdown",
   "metadata": {},
   "source": [
    "Plus, wir kreieren uns noch eine zusätzliche Spalte mit dem marker size:"
   ]
  },
  {
   "cell_type": "code",
   "execution_count": null,
   "metadata": {},
   "outputs": [],
   "source": [
    "#play around with the marker size\n",
    "gdf_gemeinden_m['markersize'] = (gdf_gemeinden_m['Bevölkerung'] ** 0.5) / 1.5"
   ]
  },
  {
   "cell_type": "markdown",
   "metadata": {},
   "source": [
    "Jetzt sind wir ready für diesen Plot-Typ"
   ]
  },
  {
   "cell_type": "code",
   "execution_count": null,
   "metadata": {},
   "outputs": [],
   "source": [
    "#Selber Code wie oben, für die Landesgrenzen und die Seen\n",
    "ax = gdf_ch.plot(edgecolor='grey', color='#EEEEEE', alpha=1, linewidth=2, figsize=(20,13))\n",
    "gdf_lakes.plot(edgecolor='grey', facecolor='lightblue', alpha=1, linewidth=1, ax=ax)\n",
    "\n",
    "#Wir haben die Gemetrie zuvor auf einen Punkt gesetzt - darum kommt das jetzt etwas anders raus\n",
    "gdf_gemeinden_m.plot(markersize=gdf_gemeinden_m['markersize'], column='Bevölkerungswachstum', cmap='YlOrRd', scheme='quantiles', alpha=0.7, linewidth=0.5, legend=True, ax=ax)\n",
    "\n",
    "my_title = \"Bevölkerungswachstum in den Gemeinden zwischen 2009 und 2016\"\n",
    "plt.text(480000, 312000, my_title, fontdict=title_font)\n",
    "\n",
    "ax.axis('off')"
   ]
  },
  {
   "cell_type": "markdown",
   "metadata": {},
   "source": [
    "Das schöne ist: Man sieht jetzt, wo die Gemeinden wirklich sind, und vor allem auch: wie gross sie sind.\n",
    "\n",
    "Es zeigt sich: Stark gewachsen ist die Bevölkerung vor allem um den Genfersee sowie im Raum Zug-Zürich."
   ]
  },
  {
   "cell_type": "markdown",
   "metadata": {
    "collapsed": true
   },
   "source": [
    "Machen wir gleich noch einen Plot - mit den **Leerstandsziffern**"
   ]
  },
  {
   "cell_type": "code",
   "execution_count": null,
   "metadata": {},
   "outputs": [],
   "source": [
    "#Selber Code wie oben, für die Landesgrenzen und die Seen\n",
    "ax = gdf_ch.plot(edgecolor='grey', color='#EEEEEE', alpha=1, linewidth=2, figsize=(20,13))\n",
    "gdf_lakes.plot(edgecolor='grey', facecolor='lightblue', alpha=1, linewidth=1, ax=ax)\n",
    "\n",
    "#Die Gemeinden, eingefärbt anhand der Leerwohnungsziffer\n",
    "gdf_gemeinden_m.plot(markersize=gdf_gemeinden_m['markersize'], column='Leerwohnungsziffer', cmap='YlOrRd', scheme='quantiles', alpha=0.8, linewidth=0.5, legend=True, ax=ax)\n",
    "\n",
    "my_title = \"Leerwohnungsziffer 2017\"\n",
    "plt.text(480000, 312000, my_title, fontdict=title_font)\n",
    "\n",
    "ax.axis('off')"
   ]
  },
  {
   "cell_type": "markdown",
   "metadata": {},
   "source": [
    "Man sieht nun sehr rasch, wo die Problemzonen sind: im Mittelland, im Wallis, um den Bodensee.\n",
    "\n",
    "Die Frage ist: Können wir die \"schlimmsten\" Gemeinden irgendwie identifizieren?"
   ]
  },
  {
   "cell_type": "markdown",
   "metadata": {},
   "source": [
    "## Gemeinden filtern"
   ]
  },
  {
   "cell_type": "markdown",
   "metadata": {},
   "source": [
    "Wir gehen jetzt einfach mal explorativ vor - und selektieren eine Reihe von Gemeinden anhand von bestimmten Kriterien, die wir als problematisch oder einfach nur als interessant erachten im Kontext des Immobilien-Baubooms der letzten Jahre.\n",
    "\n",
    "Zum Beispiel:\n",
    "- hohes Wohnungswachstum (>20%)\n",
    "- hohe Leerstandsziffer (>4%)\n",
    "- minimale Grösse (>500 Einwohner)\n",
    "\n",
    "Was sind das für Gemeinden?"
   ]
  },
  {
   "cell_type": "code",
   "execution_count": null,
   "metadata": {},
   "outputs": [],
   "source": [
    "gdf_gemeinden_1 = gdf_gemeinden_m[(gdf_gemeinden_m['Leerwohnungsziffer'] >= 4) & (gdf_gemeinden_m['Wohnungswachstum Total'] > 20) & (gdf_gemeinden_m['Bevölkerung'] > 500)]\n"
   ]
  },
  {
   "cell_type": "code",
   "execution_count": null,
   "metadata": {},
   "outputs": [],
   "source": [
    "gdf_gemeinden_1.sort_values('Wohnungswachstum Total', ascending=False)[['Gemeinde', 'Bevölkerung', 'Wohnungswachstum Total', 'Leerwohnungsziffer']]\n"
   ]
  },
  {
   "cell_type": "markdown",
   "metadata": {
    "collapsed": true
   },
   "source": [
    "Und wo sind sie?"
   ]
  },
  {
   "cell_type": "code",
   "execution_count": null,
   "metadata": {},
   "outputs": [],
   "source": [
    "#Selber Code wie oben, für die Landesgrenzen und die Seen\n",
    "ax = gdf_ch.plot(edgecolor='grey', color='#EEEEEE', alpha=1, linewidth=2, figsize=(20,13))\n",
    "gdf_lakes.plot(edgecolor='grey', facecolor='lightblue', alpha=1, linewidth=1, ax=ax)\n",
    "\n",
    "#Die Gemeinden, eingefärbt anhand der Leerwohnungsziffer (Achtung, neue, angepasste Farbskala!)\n",
    "gdf_gemeinden_1.plot(markersize=gdf_gemeinden_1['markersize'], column='Leerwohnungsziffer', cmap='YlOrRd', scheme='quantiles', alpha=0.8, linewidth=0.5, legend=True, ax=ax)\n",
    "\n",
    "#Wir schreiben die Punkte noch an :-)\n",
    "for i in gdf_gemeinden_1.index:\n",
    "    y = gdf_gemeinden_1.loc[i, 'Y_CNTR']\n",
    "    x = gdf_gemeinden_1.loc[i, 'X_MAX']\n",
    "    gemeindename = gdf_gemeinden_1.loc[i, 'Gemeinde']\n",
    "    plt.text(x, y, gemeindename, fontdict=point_names)\n",
    "\n",
    "my_title = \"Gemeinden mit hohen Leerständen und grossem Bauboom\"\n",
    "plt.text(480000, 312000, my_title, fontdict=title_font)\n",
    "\n",
    "ax.axis('off')"
   ]
  },
  {
   "cell_type": "markdown",
   "metadata": {
    "collapsed": true
   },
   "source": [
    "Falls wir mal eine Reportage aus einer Gemeinde machen wollen, in der viel gebaut wurde - am Markt vorbei - wären das hier die Kandidaten!"
   ]
  },
  {
   "cell_type": "markdown",
   "metadata": {
    "collapsed": true
   },
   "source": [
    "## Und nun, zum selber machen...\n",
    "\n",
    "Welches sind Gemeinden, die man sich näher anschauen sollte?\n",
    "1. Wählen Wie Indikatoren aus, der Sie interessiert (zB: Einfamilienhäuser, Leerstände)\n",
    "1. Verbinden Sie die Datensets\n",
    "1. Geodaten und restliche Daten verbinden\n",
    "1. Filtern Sie eine Reihe von Gemeinden heraus, die speziell auffallen\n",
    "1. Plotten Sie diese Gemeinden auf einer Karte\n",
    "\n",
    "Keine Angst: Geopandas-Funktionen kommen erst im letzten Schritt rein."
   ]
  },
  {
   "cell_type": "markdown",
   "metadata": {},
   "source": [
    "### 1. Indikatoren wählen"
   ]
  },
  {
   "cell_type": "markdown",
   "metadata": {},
   "source": [
    "Gehen Sie nochmals ganz nach oben zurück, zum Teil \"Analyse\".\n",
    "\n",
    "Und berechnen Sie eine Reihe von Indikatoren, die Sie näher untersuchen wollen, aus den Tabellen \"df_bev\", \"df_wohn_tot\", \"df_wohn_EFH\", \"df_wohn_MFH\", \"df_lwz\". (Oder wenn Sie ganz verwegen sind: Holen Sie sich vom www.bfs.admin.ch irgendeine andere Statistik auf Gemeindeebene, welche die Gemeindenummer beinhaltet!)"
   ]
  },
  {
   "cell_type": "code",
   "execution_count": null,
   "metadata": {},
   "outputs": [],
   "source": []
  },
  {
   "cell_type": "code",
   "execution_count": null,
   "metadata": {},
   "outputs": [],
   "source": []
  },
  {
   "cell_type": "code",
   "execution_count": null,
   "metadata": {},
   "outputs": [],
   "source": []
  },
  {
   "cell_type": "markdown",
   "metadata": {},
   "source": [
    "### 2. Tabellen zusammenführen\n",
    "\n",
    "Benutzen Sie die Funktion `merge()`, um ihre Zahlen in einer einzigen Tabelle zu verschmelzen!"
   ]
  },
  {
   "cell_type": "code",
   "execution_count": null,
   "metadata": {},
   "outputs": [],
   "source": []
  },
  {
   "cell_type": "code",
   "execution_count": null,
   "metadata": {},
   "outputs": [],
   "source": []
  },
  {
   "cell_type": "code",
   "execution_count": null,
   "metadata": {},
   "outputs": [],
   "source": []
  },
  {
   "cell_type": "markdown",
   "metadata": {},
   "source": [
    "### 3. Geodaten mit Tabellen verbinden\n",
    "Holen Sie sich nochmals das originale Geodataframe \"gdf_gemeinden\". Führen Sie dieses zusammen mit ihrer Tabelle."
   ]
  },
  {
   "cell_type": "code",
   "execution_count": null,
   "metadata": {},
   "outputs": [],
   "source": []
  },
  {
   "cell_type": "code",
   "execution_count": null,
   "metadata": {},
   "outputs": [],
   "source": []
  },
  {
   "cell_type": "code",
   "execution_count": null,
   "metadata": {},
   "outputs": [],
   "source": []
  },
  {
   "cell_type": "markdown",
   "metadata": {},
   "source": [
    "### 4. Gemeinden filtern\n",
    "Spielen Sie mit den Parametern so lange, bis Sie eine Liste von ungefähr 30 Gemeinden erhalten, die alle ihre Kriterien erfüllen."
   ]
  },
  {
   "cell_type": "code",
   "execution_count": null,
   "metadata": {},
   "outputs": [],
   "source": []
  },
  {
   "cell_type": "code",
   "execution_count": null,
   "metadata": {},
   "outputs": [],
   "source": []
  },
  {
   "cell_type": "code",
   "execution_count": null,
   "metadata": {},
   "outputs": [],
   "source": []
  },
  {
   "cell_type": "markdown",
   "metadata": {},
   "source": [
    "### 5. Dot Map der gefilterten Gemeinden\n",
    "Die hohe Kunst des Programmierens ist: Code kopieren, Code anpassen. Nicht vergessen: Punkt-Geometrie im Geodataframe nochmals setzen!"
   ]
  },
  {
   "cell_type": "code",
   "execution_count": null,
   "metadata": {},
   "outputs": [],
   "source": []
  },
  {
   "cell_type": "code",
   "execution_count": null,
   "metadata": {},
   "outputs": [],
   "source": []
  },
  {
   "cell_type": "code",
   "execution_count": null,
   "metadata": {},
   "outputs": [],
   "source": []
  }
 ],
 "metadata": {
  "kernelspec": {
   "display_name": "Python 3",
   "language": "python",
   "name": "python3"
  },
  "language_info": {
   "codemirror_mode": {
    "name": "ipython",
    "version": 3
   },
   "file_extension": ".py",
   "mimetype": "text/x-python",
   "name": "python",
   "nbconvert_exporter": "python",
   "pygments_lexer": "ipython3",
   "version": "3.7.4"
  }
 },
 "nbformat": 4,
 "nbformat_minor": 2
}
