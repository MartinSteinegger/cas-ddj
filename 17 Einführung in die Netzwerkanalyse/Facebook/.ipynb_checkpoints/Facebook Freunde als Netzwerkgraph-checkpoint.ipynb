{
 "cells": [
  {
   "cell_type": "markdown",
   "metadata": {},
   "source": [
    "# Facebook Freunde Scrapen\n",
    "- Eine super Datenquelle um Netzwerke zu verstehen sind die eigenen Freunde. \n",
    "- Diese lassen sich von Facebook scrapen, da Facebook natürlich keinen Export erlaubt - d'oh. "
   ]
  },
  {
   "cell_type": "code",
   "execution_count": 22,
   "metadata": {},
   "outputs": [],
   "source": [
    "from bs4 import BeautifulSoup\n",
    "import requests\n",
    "import time\n",
    "import datetime\n",
    "import pandas as pd\n",
    "from selenium import webdriver\n",
    "from selenium.webdriver.common.keys import Keys\n",
    "import json\n",
    "import csv\n",
    "import re"
   ]
  },
  {
   "cell_type": "code",
   "execution_count": 23,
   "metadata": {},
   "outputs": [],
   "source": [
    "s = webdriver.Chrome('/usr/local/bin/chromedriver')"
   ]
  },
  {
   "cell_type": "markdown",
   "metadata": {},
   "source": [
    "https://selenium-python.readthedocs.io/api.html#selenium.webdriver.remote.webdriver.WebDriver.find_element_by_link_text- "
   ]
  },
  {
   "cell_type": "code",
   "execution_count": 24,
   "metadata": {},
   "outputs": [],
   "source": [
    "USERNAME = \"alpinus.kanal@gmail.com\"\n",
    "PASSWORD = \"Kensai_95\"\n",
    "MY_SLUG = \"MartyStonie\""
   ]
  },
  {
   "cell_type": "code",
   "execution_count": 25,
   "metadata": {},
   "outputs": [],
   "source": [
    "def login(s):\n",
    "    try:\n",
    "        print(\"Logging into FB\")\n",
    "        s.get(\"http://facebook.com/login\")\n",
    "        s.find_element_by_id(\"email\").send_keys(USERNAME)\n",
    "        r = s.find_element_by_id(\"pass\")\n",
    "        r.send_keys(PASSWORD)\n",
    "        r.send_keys(Keys.RETURN)\n",
    "    except:\n",
    "        print(\"Probably already logged in...\")"
   ]
  },
  {
   "cell_type": "code",
   "execution_count": 26,
   "metadata": {},
   "outputs": [],
   "source": [
    "def scrape_friends(s):\n",
    "    login(s)\n",
    "    #Scrape my friends\n",
    "    s.get(\"https://www.facebook.com/%s/friends\" % MY_SLUG)\n",
    "    for i in range(30):\n",
    "        print(\"scrolling...and...waiting..%s\" % i)\n",
    "        s.execute_script('window.scroll(0,100000);')\n",
    "        time.sleep(1)\n",
    "    # get html\n",
    "    elem = s.find_element_by_xpath(\"//*\")\n",
    "    source_code = elem.get_attribute(\"outerHTML\")\n",
    "    soup = BeautifulSoup(source_code, 'lxml')\n",
    "    friends = soup.select(\".fcb a\")\n",
    "    print(\"Scraping {%s} friends\" % len(friends))\n",
    "    with open('friends.csv', mode='w') as myfile:\n",
    "        mycsv = csv.writer(myfile, delimiter=',', quotechar='\"', quoting=csv.QUOTE_MINIMAL)\n",
    "        mycsv.writerow([\"Friend ID\", \"Friend Name\"])\n",
    "        for friend in friends:\n",
    "          try:\n",
    "            friend_name = friend.text.encode(\"ascii\",\"ignore\")\n",
    "            friend_id = json.loads(friend[\"data-gt\"])[\"engagement\"][\"eng_tid\"].encode(\"ascii\",\"ignore\")\n",
    "            mycsv.writerow([friend_id, friend_name])\n",
    "          except:\n",
    "            print(\"Problems obtaining %s\" % friend)"
   ]
  },
  {
   "cell_type": "code",
   "execution_count": 27,
   "metadata": {},
   "outputs": [
    {
     "name": "stdout",
     "output_type": "stream",
     "text": [
      "Logging into FB\n",
      "scrolling...and...waiting..0\n",
      "scrolling...and...waiting..1\n",
      "scrolling...and...waiting..2\n",
      "scrolling...and...waiting..3\n",
      "scrolling...and...waiting..4\n",
      "scrolling...and...waiting..5\n",
      "scrolling...and...waiting..6\n",
      "scrolling...and...waiting..7\n",
      "scrolling...and...waiting..8\n",
      "scrolling...and...waiting..9\n",
      "scrolling...and...waiting..10\n",
      "scrolling...and...waiting..11\n",
      "scrolling...and...waiting..12\n",
      "scrolling...and...waiting..13\n",
      "scrolling...and...waiting..14\n",
      "scrolling...and...waiting..15\n",
      "scrolling...and...waiting..16\n",
      "scrolling...and...waiting..17\n",
      "scrolling...and...waiting..18\n",
      "scrolling...and...waiting..19\n",
      "scrolling...and...waiting..20\n",
      "scrolling...and...waiting..21\n",
      "scrolling...and...waiting..22\n",
      "scrolling...and...waiting..23\n",
      "scrolling...and...waiting..24\n",
      "scrolling...and...waiting..25\n",
      "scrolling...and...waiting..26\n",
      "scrolling...and...waiting..27\n",
      "scrolling...and...waiting..28\n",
      "scrolling...and...waiting..29\n",
      "Scraping {0} friends\n"
     ]
    }
   ],
   "source": [
    "scrape_friends(s)"
   ]
  },
  {
   "cell_type": "code",
   "execution_count": 28,
   "metadata": {},
   "outputs": [],
   "source": [
    "def scrape_mutual_friends(s):\n",
    "    login(s)\n",
    "    edgelist = []\n",
    "    friendslist = []\n",
    "    \n",
    "    #Get FriendsIDs\n",
    "    with open('friends.csv', mode='r') as csv_file:\n",
    "        csv_reader = csv.DictReader(csv_file)\n",
    "        for i, row in enumerate(csv_reader):\n",
    "            if i != 0:\n",
    "                friendslist.append([row[\"Friend ID\"],row[\"Friend Name\"]])\n",
    "                \n",
    "    #Get my Id\n",
    "    s.get(\"http://facebook.com/%s\" % MY_SLUG)\n",
    "    elem = s.find_element_by_xpath(\"//*\")\n",
    "    source_code = elem.get_attribute(\"outerHTML\")\n",
    "    soup = BeautifulSoup(source_code, 'lxml')\n",
    "    my_id = re.search(r\"profile_id=(\\d*)\", source_code).groups()[0]\n",
    "    print(\"My ID: %s\" % my_id)\n",
    "\n",
    "    for friends in friendslist:\n",
    "        print(\"Visiting friend: %s\" % friends[1])\n",
    "        s.get(\"https://www.facebook.com/browse/mutual_friends/?uid=%s&node=%s\" % (my_id,friends[0]))\n",
    "        elem = s.find_element_by_xpath(\"//*\")\n",
    "        source_code = elem.get_attribute(\"outerHTML\")\n",
    "        soup = BeautifulSoup(source_code, 'lxml')\n",
    "        mutual_friends = soup.select(\".fcb a\")\n",
    "        print(\"Found %s mutual friends\" % len(mutual_friends))\n",
    "        for friend in mutual_friends:\n",
    "            edgelist.append([friends[0],json.loads(friend[\"data-gt\"])[\"engagement\"][\"eng_tid\"].encode(\"ascii\",\"ignore\")])\n",
    "\n",
    "    with open('network.csv', mode='w') as myfile:\n",
    "        mycsv = csv.writer(myfile, delimiter=',', quotechar='\"', quoting=csv.QUOTE_MINIMAL)\n",
    "        mycsv.writerow([\"From\",\"To\"])\n",
    "        for edge in edgelist:\n",
    "            mycsv.writerow([edge[0],edge[1]])"
   ]
  },
  {
   "cell_type": "code",
   "execution_count": 29,
   "metadata": {},
   "outputs": [
    {
     "name": "stdout",
     "output_type": "stream",
     "text": [
      "Logging into FB\n"
     ]
    },
    {
     "ename": "AttributeError",
     "evalue": "'NoneType' object has no attribute 'groups'",
     "output_type": "error",
     "traceback": [
      "\u001b[0;31m---------------------------------------------------------------------------\u001b[0m",
      "\u001b[0;31mAttributeError\u001b[0m                            Traceback (most recent call last)",
      "\u001b[0;32m<ipython-input-29-439be136c09e>\u001b[0m in \u001b[0;36m<module>\u001b[0;34m\u001b[0m\n\u001b[0;32m----> 1\u001b[0;31m \u001b[0mscrape_mutual_friends\u001b[0m\u001b[0;34m(\u001b[0m\u001b[0ms\u001b[0m\u001b[0;34m)\u001b[0m\u001b[0;34m\u001b[0m\u001b[0;34m\u001b[0m\u001b[0m\n\u001b[0m",
      "\u001b[0;32m<ipython-input-28-835bd3f421f3>\u001b[0m in \u001b[0;36mscrape_mutual_friends\u001b[0;34m(s)\u001b[0m\n\u001b[1;32m     16\u001b[0m     \u001b[0msource_code\u001b[0m \u001b[0;34m=\u001b[0m \u001b[0melem\u001b[0m\u001b[0;34m.\u001b[0m\u001b[0mget_attribute\u001b[0m\u001b[0;34m(\u001b[0m\u001b[0;34m\"outerHTML\"\u001b[0m\u001b[0;34m)\u001b[0m\u001b[0;34m\u001b[0m\u001b[0;34m\u001b[0m\u001b[0m\n\u001b[1;32m     17\u001b[0m     \u001b[0msoup\u001b[0m \u001b[0;34m=\u001b[0m \u001b[0mBeautifulSoup\u001b[0m\u001b[0;34m(\u001b[0m\u001b[0msource_code\u001b[0m\u001b[0;34m,\u001b[0m \u001b[0;34m'lxml'\u001b[0m\u001b[0;34m)\u001b[0m\u001b[0;34m\u001b[0m\u001b[0;34m\u001b[0m\u001b[0m\n\u001b[0;32m---> 18\u001b[0;31m     \u001b[0mmy_id\u001b[0m \u001b[0;34m=\u001b[0m \u001b[0mre\u001b[0m\u001b[0;34m.\u001b[0m\u001b[0msearch\u001b[0m\u001b[0;34m(\u001b[0m\u001b[0;34mr\"profile_id=(\\d*)\"\u001b[0m\u001b[0;34m,\u001b[0m \u001b[0msource_code\u001b[0m\u001b[0;34m)\u001b[0m\u001b[0;34m.\u001b[0m\u001b[0mgroups\u001b[0m\u001b[0;34m(\u001b[0m\u001b[0;34m)\u001b[0m\u001b[0;34m[\u001b[0m\u001b[0;36m0\u001b[0m\u001b[0;34m]\u001b[0m\u001b[0;34m\u001b[0m\u001b[0;34m\u001b[0m\u001b[0m\n\u001b[0m\u001b[1;32m     19\u001b[0m     \u001b[0mprint\u001b[0m\u001b[0;34m(\u001b[0m\u001b[0;34m\"My ID: %s\"\u001b[0m \u001b[0;34m%\u001b[0m \u001b[0mmy_id\u001b[0m\u001b[0;34m)\u001b[0m\u001b[0;34m\u001b[0m\u001b[0;34m\u001b[0m\u001b[0m\n\u001b[1;32m     20\u001b[0m \u001b[0;34m\u001b[0m\u001b[0m\n",
      "\u001b[0;31mAttributeError\u001b[0m: 'NoneType' object has no attribute 'groups'"
     ]
    }
   ],
   "source": [
    "scrape_mutual_friends(s)"
   ]
  },
  {
   "cell_type": "code",
   "execution_count": 19,
   "metadata": {},
   "outputs": [],
   "source": [
    "import networkx as nx\n",
    "\n",
    "def create_user_network():\n",
    "    friendslist = []\n",
    "    edgelist = []\n",
    "    \n",
    "    with open('friends.csv', mode='r') as csv_file:\n",
    "        csv_reader = csv.DictReader(csv_file)\n",
    "        for i, row in enumerate(csv_reader):\n",
    "            if i != 0:\n",
    "                friendslist.append([row[\"Friend ID\"],row[\"Friend Name\"]])        \n",
    "\n",
    "    with open('network.csv', mode='r') as csv_file:\n",
    "        csv_reader = csv.DictReader(csv_file)\n",
    "        for i, row in enumerate(csv_reader):\n",
    "            if i != 0:\n",
    "                edgelist.append([row[\"From\"],row[\"To\"]])\n",
    "    \n",
    "    G  = nx.Graph(name=\"Friends\")\n",
    "                            \n",
    "    for friend in friendslist:\n",
    "        G.add_node(friend[0],label=friend[1], size=1)\n",
    "\n",
    "    for edge in edgelist:\n",
    "        G.add_edge(edge[0],edge[1],weight=1)\n",
    "   \n",
    "    nx.write_gexf(G,\"Friends.gexf\")"
   ]
  },
  {
   "cell_type": "code",
   "execution_count": 20,
   "metadata": {},
   "outputs": [],
   "source": [
    "create_user_network()"
   ]
  },
  {
   "cell_type": "code",
   "execution_count": null,
   "metadata": {},
   "outputs": [],
   "source": []
  }
 ],
 "metadata": {
  "kernelspec": {
   "display_name": "Python 3",
   "language": "python",
   "name": "python3"
  },
  "language_info": {
   "codemirror_mode": {
    "name": "ipython",
    "version": 3
   },
   "file_extension": ".py",
   "mimetype": "text/x-python",
   "name": "python",
   "nbconvert_exporter": "python",
   "pygments_lexer": "ipython3",
   "version": "3.7.4"
  }
 },
 "nbformat": 4,
 "nbformat_minor": 2
}
