{
 "cells": [
  {
   "cell_type": "code",
   "execution_count": 1,
   "metadata": {},
   "outputs": [],
   "source": [
    "import requests\n",
    "import csv\n",
    "data = requests.get(\"http://p3.snf.ch/P3Export/P3_PersonExport.csv\").text.splitlines()\n",
    "personen = csv.DictReader(data,delimiter=';')"
   ]
  },
  {
   "cell_type": "code",
   "execution_count": 4,
   "metadata": {},
   "outputs": [
    {
     "data": {
      "text/plain": [
       "OrderedDict([('Last Name', 'a Marca'),\n",
       "             ('First Name', 'Davide'),\n",
       "             ('Gender', 'male'),\n",
       "             ('Institute Name', ''),\n",
       "             ('Institute Place', ''),\n",
       "             ('Person ID SNSF', '53856'),\n",
       "             ('OCRID', ''),\n",
       "             ('Projects as responsible Applicant', ''),\n",
       "             ('Projects as Applicant', ''),\n",
       "             ('Projects as Partner', ''),\n",
       "             ('Projects as Practice Partner', ''),\n",
       "             ('Projects as Employee', '36549'),\n",
       "             ('Projects as Contact Person', '')])"
      ]
     },
     "execution_count": 4,
     "metadata": {},
     "output_type": "execute_result"
    }
   ],
   "source": [
    "next(personen)"
   ]
  },
  {
   "cell_type": "code",
   "execution_count": null,
   "metadata": {},
   "outputs": [],
   "source": []
  }
 ],
 "metadata": {
  "kernelspec": {
   "display_name": "Python 3",
   "language": "python",
   "name": "python3"
  },
  "language_info": {
   "codemirror_mode": {
    "name": "ipython",
    "version": 3
   },
   "file_extension": ".py",
   "mimetype": "text/x-python",
   "name": "python",
   "nbconvert_exporter": "python",
   "pygments_lexer": "ipython3",
   "version": "3.7.4"
  }
 },
 "nbformat": 4,
 "nbformat_minor": 2
}
