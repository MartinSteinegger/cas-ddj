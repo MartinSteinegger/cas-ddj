{
 "cells": [
  {
   "cell_type": "markdown",
   "metadata": {},
   "source": [
    "# Übung 3"
   ]
  },
  {
   "cell_type": "markdown",
   "metadata": {},
   "source": [
    "#### 1. Importiere requests, BeautifulSoup und Pandas"
   ]
  },
  {
   "cell_type": "code",
   "execution_count": 23,
   "metadata": {},
   "outputs": [],
   "source": [
    "import requests"
   ]
  },
  {
   "cell_type": "code",
   "execution_count": 24,
   "metadata": {},
   "outputs": [],
   "source": [
    "from bs4 import BeautifulSoup"
   ]
  },
  {
   "cell_type": "code",
   "execution_count": 25,
   "metadata": {},
   "outputs": [],
   "source": [
    "import pandas as pd"
   ]
  },
  {
   "cell_type": "markdown",
   "metadata": {},
   "source": [
    "#### 2. Lade den Inhalt des Parkhaus-RSS-Feeds in eine Variabel"
   ]
  },
  {
   "cell_type": "code",
   "execution_count": 39,
   "metadata": {},
   "outputs": [
    {
     "data": {
      "text/plain": [
       "<Response [200]>"
      ]
     },
     "execution_count": 39,
     "metadata": {},
     "output_type": "execute_result"
    }
   ],
   "source": [
    "r = requests.get('http://www.plszh.ch/plsFeed/rss')\n",
    "r"
   ]
  },
  {
   "cell_type": "markdown",
   "metadata": {},
   "source": [
    "#### 3. Ziehen wir aus dieser alle Titel heraus und machen daraus eine Liste"
   ]
  },
  {
   "cell_type": "code",
   "execution_count": 40,
   "metadata": {},
   "outputs": [],
   "source": [
    "inhalt = r.text\n",
    "soup = BeautifulSoup(inhalt,\"xml\")\n",
    "titles = soup.find_all('title')"
   ]
  },
  {
   "cell_type": "code",
   "execution_count": 41,
   "metadata": {},
   "outputs": [
    {
     "data": {
      "text/plain": [
       "[<title>FEED Parkleitsystem Stadt Zürich</title>,\n",
       " <title>Parkgarage am Central / Seilergraben</title>,\n",
       " <title>Parkhaus Accu / Otto-Schütz-Weg</title>,\n",
       " <title>Parkhaus Albisriederplatz / Badenerstrasse 380</title>,\n",
       " <title>Parkhaus Bleicherweg / Beethovenstrasse 35</title>,\n",
       " <title>Parkhaus Center Eleven / Sophie-Täuber-Strasse 4</title>,\n",
       " <title>Parkhaus City Parking / Gessnerallee 14</title>,\n",
       " <title>Parkhaus Cityport / Affolternstrasse 56</title>,\n",
       " <title>Parkhaus Crowne Plaza / Badenerstrasse 420</title>,\n",
       " <title>Parkhaus Dorflinde / Schwamendingenstrasse 31</title>,\n",
       " <title>Parkhaus Feldegg / Riesbachstrasse 7</title>,\n",
       " <title>Parkhaus Globus / Löwenstrasse 50</title>,\n",
       " <title>Parkhaus Hardau II / Bullingerstrasse 73</title>,\n",
       " <title>Parkhaus Hauptbahnhof / Sihlquai 41</title>,\n",
       " <title>Parkhaus Hohe Promenade / Rämistrasse 22a</title>,\n",
       " <title>Parkhaus Jelmoli / Steinmühleplatz 1</title>,\n",
       " <title>Parkhaus Jungholz / Jungholzstrasse 19</title>,\n",
       " <title>Parkhaus Max-Bill-Platz / Armin-Bollinger-Weg</title>,\n",
       " <title>Parkhaus Messe Zürich AG / Andreasstrasse 65</title>,\n",
       " <title>Parkhaus Nordhaus / Siewerdtstrasse 8</title>,\n",
       " <title>Parkhaus Octavo / Brown-Boveri-Strasse 2</title>,\n",
       " <title>Parkhaus Opéra / Schillerstrasse 5</title>,\n",
       " <title>Parkhaus P West / Förrlibuckstrasse 151</title>,\n",
       " <title>Parkhaus Park Hyatt / Beethovenstrasse 21</title>,\n",
       " <title>Parkhaus Parkside / Sophie-Täuber-Strasse 10</title>,\n",
       " <title>Parkhaus Pfingstweid / Pfingstweidstrasse 1</title>,\n",
       " <title>Parkhaus Stampfenbach / Niklausstrasse 1</title>,\n",
       " <title>Parkhaus Talgarten / Nüschelerstrasse 31</title>,\n",
       " <title>Parkhaus USZ Nord / Frauenklinikstrasse</title>,\n",
       " <title>Parkhaus Uni Irchel / Winterthurerstrasse 181</title>,\n",
       " <title>Parkhaus Urania / Uraniastrasse 3</title>,\n",
       " <title>Parkhaus Utoquai / Färberstrasse 6</title>,\n",
       " <title>Parkhaus Züri 11 Shopping / Nansenstrasse 5/7</title>,\n",
       " <title>Parkhaus Zürichhorn / Dufourstrasse 142</title>,\n",
       " <title>Parkplatz Eisfeld / Thurgauerstrasse 54</title>,\n",
       " <title>Parkplatz Theater 11 / Dörfli-/Thurgauerstrasse</title>,\n",
       " <title>Parkplatz USZ Süd / Gloriastrasse</title>,\n",
       " <title>Puls 5 Parkgarage / Giessereistrasse 18</title>]"
      ]
     },
     "execution_count": 41,
     "metadata": {},
     "output_type": "execute_result"
    }
   ],
   "source": [
    "titles"
   ]
  },
  {
   "cell_type": "markdown",
   "metadata": {},
   "source": [
    "#### 4. Ziehen wir alle Links heraus und machen daraus eine Liste"
   ]
  },
  {
   "cell_type": "code",
   "execution_count": 38,
   "metadata": {},
   "outputs": [
    {
     "data": {
      "text/plain": [
       "38"
      ]
     },
     "execution_count": 38,
     "metadata": {},
     "output_type": "execute_result"
    }
   ],
   "source": [
    "links = soup.find_all(\"link\")\n",
    "len(links)"
   ]
  },
  {
   "cell_type": "code",
   "execution_count": 42,
   "metadata": {},
   "outputs": [
    {
     "data": {
      "text/plain": [
       "[<link>http://www.plszh.ch/plsFeed/rss</link>,\n",
       " <link>http://www.plszh.ch/plsNeu/parkhaus/central.jsp?pid=central</link>,\n",
       " <link>http://www.plszh.ch/plsNeu/parkhaus/accu.jsp?pid=accu</link>,\n",
       " <link>http://www.plszh.ch/plsNeu/parkhaus/albisriederplatz.jsp?pid=albisriederplatz</link>,\n",
       " <link>http://www.plszh.ch/plsNeu/parkhaus/bleicherweg.jsp?pid=bleicherweg</link>,\n",
       " <link>http://www.plszh.ch/plsNeu/parkhaus/center_11.jsp?pid=center_11</link>,\n",
       " <link>http://www.plszh.ch/plsNeu/parkhaus/cp.jsp?pid=cp</link>,\n",
       " <link>http://www.plszh.ch/plsNeu/parkhaus/cityport.jsp?pid=cityport</link>,\n",
       " <link>http://www.plszh.ch/plsNeu/parkhaus/crowne_plaza.jsp?pid=crowne_plaza</link>,\n",
       " <link>http://www.plszh.ch/plsNeu/parkhaus/dorflinde.jsp?pid=dorflinde</link>,\n",
       " <link>http://www.plszh.ch/plsNeu/parkhaus/feldegg.jsp?pid=feldegg</link>,\n",
       " <link>http://www.plszh.ch/plsNeu/parkhaus/globus.jsp?pid=globus</link>,\n",
       " <link>http://www.plszh.ch/plsNeu/parkhaus/hardau.jsp?pid=hardau</link>,\n",
       " <link>http://www.plszh.ch/plsNeu/parkhaus/hb.jsp?pid=hb</link>,\n",
       " <link>http://www.plszh.ch/plsNeu/parkhaus/promenade.jsp?pid=promenade</link>,\n",
       " <link>http://www.plszh.ch/plsNeu/parkhaus/jelmoli.jsp?pid=jelmoli</link>,\n",
       " <link>http://www.plszh.ch/plsNeu/parkhaus/jungholz.jsp?pid=jungholz</link>,\n",
       " <link>http://www.plszh.ch/plsNeu/parkhaus/max_bill_platz.jsp?pid=max_bill_platz</link>,\n",
       " <link>http://www.plszh.ch/plsNeu/parkhaus/messe.jsp?pid=messe</link>,\n",
       " <link>http://www.plszh.ch/plsNeu/parkhaus/nordhaus.jsp?pid=nordhaus</link>,\n",
       " <link>http://www.plszh.ch/plsNeu/parkhaus/octavo.jsp?pid=octavo</link>,\n",
       " <link>http://www.plszh.ch/plsNeu/parkhaus/opera.jsp?pid=opera</link>,\n",
       " <link>http://www.plszh.ch/plsNeu/parkhaus/p_west.jsp?pid=p_west</link>,\n",
       " <link>http://www.plszh.ch/plsNeu/parkhaus/park_hyatt.jsp?pid=park_hyatt</link>,\n",
       " <link>http://www.plszh.ch/plsNeu/parkhaus/parkside.jsp?pid=parkside</link>,\n",
       " <link>http://www.plszh.ch/plsNeu/parkhaus/pfingstweid.jsp?pid=pfingstweid</link>,\n",
       " <link>http://www.plszh.ch/plsNeu/parkhaus/stampfenbach.jsp?pid=stampfenbach</link>,\n",
       " <link>http://www.plszh.ch/plsNeu/parkhaus/talgarten.jsp?pid=talgarten</link>,\n",
       " <link>http://www.plszh.ch/plsNeu/parkhaus/unispital_nord.jsp?pid=unispital_nord</link>,\n",
       " <link>http://www.plszh.ch/plsNeu/parkhaus/uni_irchel.jsp?pid=uni_irchel</link>,\n",
       " <link>http://www.plszh.ch/plsNeu/parkhaus/urania.jsp?pid=urania</link>,\n",
       " <link>http://www.plszh.ch/plsNeu/parkhaus/utoquai.jsp?pid=utoquai</link>,\n",
       " <link>http://www.plszh.ch/plsNeu/parkhaus/zueri11.jsp?pid=zueri11</link>,\n",
       " <link>http://www.plszh.ch/plsNeu/parkhaus/zuerichhorn.jsp?pid=zuerichhorn</link>,\n",
       " <link>http://www.plszh.ch/plsNeu/parkhaus/eisfeld.jsp?pid=eisfeld</link>,\n",
       " <link>http://www.plszh.ch/plsNeu/parkhaus/theater_11.jsp?pid=theater_11</link>,\n",
       " <link>http://www.plszh.ch/plsNeu/parkhaus/unispital_sued.jsp?pid=unispital_sued</link>,\n",
       " <link>http://www.plszh.ch/plsNeu/parkhaus/puls5.jsp?pid=puls5</link>]"
      ]
     },
     "execution_count": 42,
     "metadata": {},
     "output_type": "execute_result"
    }
   ],
   "source": [
    "links"
   ]
  },
  {
   "cell_type": "markdown",
   "metadata": {},
   "source": [
    "#### 5. Nun bauen wir eine Dictionary aus den beiden Listen mit dem ersten Key \"Titel\" und zweiten Key \"URL\"."
   ]
  },
  {
   "cell_type": "code",
   "execution_count": 35,
   "metadata": {},
   "outputs": [],
   "source": [
    "lst = []\n",
    "for titel,url in zip(titles,links):\n",
    "    \n",
    "    mini_dict = {'Titel':titel.text,\n",
    "                 'URL':url.text}\n",
    "    \n",
    "    lst.append(mini_dict)"
   ]
  },
  {
   "cell_type": "markdown",
   "metadata": {},
   "source": [
    "#### 6. Schliesslich machen wir daraus einen DataFrame (eine für uns Menschen lesbare Tabelle) und speichern das Ergebnis ab."
   ]
  },
  {
   "cell_type": "code",
   "execution_count": 36,
   "metadata": {},
   "outputs": [
    {
     "data": {
      "text/html": [
       "<div>\n",
       "<style scoped>\n",
       "    .dataframe tbody tr th:only-of-type {\n",
       "        vertical-align: middle;\n",
       "    }\n",
       "\n",
       "    .dataframe tbody tr th {\n",
       "        vertical-align: top;\n",
       "    }\n",
       "\n",
       "    .dataframe thead th {\n",
       "        text-align: right;\n",
       "    }\n",
       "</style>\n",
       "<table border=\"1\" class=\"dataframe\">\n",
       "  <thead>\n",
       "    <tr style=\"text-align: right;\">\n",
       "      <th></th>\n",
       "      <th>Titel</th>\n",
       "      <th>URL</th>\n",
       "    </tr>\n",
       "  </thead>\n",
       "  <tbody>\n",
       "    <tr>\n",
       "      <td>0</td>\n",
       "      <td>FEED Parkleitsystem Stadt Zürich</td>\n",
       "      <td>http://www.plszh.ch/plsFeed/rss</td>\n",
       "    </tr>\n",
       "    <tr>\n",
       "      <td>1</td>\n",
       "      <td>Parkgarage am Central / Seilergraben</td>\n",
       "      <td>http://www.plszh.ch/plsNeu/parkhaus/central.js...</td>\n",
       "    </tr>\n",
       "    <tr>\n",
       "      <td>2</td>\n",
       "      <td>Parkhaus Accu / Otto-Schütz-Weg</td>\n",
       "      <td>http://www.plszh.ch/plsNeu/parkhaus/accu.jsp?p...</td>\n",
       "    </tr>\n",
       "    <tr>\n",
       "      <td>3</td>\n",
       "      <td>Parkhaus Albisriederplatz / Badenerstrasse 380</td>\n",
       "      <td>http://www.plszh.ch/plsNeu/parkhaus/albisriede...</td>\n",
       "    </tr>\n",
       "    <tr>\n",
       "      <td>4</td>\n",
       "      <td>Parkhaus Bleicherweg / Beethovenstrasse 35</td>\n",
       "      <td>http://www.plszh.ch/plsNeu/parkhaus/bleicherwe...</td>\n",
       "    </tr>\n",
       "  </tbody>\n",
       "</table>\n",
       "</div>"
      ],
      "text/plain": [
       "                                            Titel  \\\n",
       "0                FEED Parkleitsystem Stadt Zürich   \n",
       "1            Parkgarage am Central / Seilergraben   \n",
       "2                 Parkhaus Accu / Otto-Schütz-Weg   \n",
       "3  Parkhaus Albisriederplatz / Badenerstrasse 380   \n",
       "4      Parkhaus Bleicherweg / Beethovenstrasse 35   \n",
       "\n",
       "                                                 URL  \n",
       "0                    http://www.plszh.ch/plsFeed/rss  \n",
       "1  http://www.plszh.ch/plsNeu/parkhaus/central.js...  \n",
       "2  http://www.plszh.ch/plsNeu/parkhaus/accu.jsp?p...  \n",
       "3  http://www.plszh.ch/plsNeu/parkhaus/albisriede...  \n",
       "4  http://www.plszh.ch/plsNeu/parkhaus/bleicherwe...  "
      ]
     },
     "execution_count": 36,
     "metadata": {},
     "output_type": "execute_result"
    }
   ],
   "source": [
    "pd.DataFrame(lst).head()"
   ]
  },
  {
   "cell_type": "code",
   "execution_count": 46,
   "metadata": {},
   "outputs": [],
   "source": [
    "import re"
   ]
  },
  {
   "cell_type": "code",
   "execution_count": 47,
   "metadata": {},
   "outputs": [],
   "source": [
    "pd.DataFrame(lst).to_csv(\"Liste Parkhaus.csv\")"
   ]
  },
  {
   "cell_type": "code",
   "execution_count": 74,
   "metadata": {},
   "outputs": [
    {
     "data": {
      "text/plain": [
       "[<description>http://www.plszh.ch/plsFeed/rss?type=rss_0.92 | rss_0.93 | rss_0.94 | rss_1.0 | rss_2.0 (=default) | atom_0.3 | atom_1.0</description>,\n",
       " <description>open /    0</description>,\n",
       " <description>open /  129</description>,\n",
       " <description>open /   56</description>,\n",
       " <description>open /   11</description>,\n",
       " <description>open /  143</description>,\n",
       " <description>open /  132</description>,\n",
       " <description>open /   29</description>,\n",
       " <description>open /  160</description>,\n",
       " <description>open /   35</description>,\n",
       " <description>open /   52</description>,\n",
       " <description>open /   26</description>,\n",
       " <description>open /   97</description>,\n",
       " <description>open /   82</description>,\n",
       " <description>open /  305</description>,\n",
       " <description>open /   24</description>,\n",
       " <description>open /   88</description>,\n",
       " <description>open /   80</description>,\n",
       " <description>open /  999</description>,\n",
       " <description>open /   52</description>,\n",
       " <description>open /  109</description>,\n",
       " <description>open /   82</description>,\n",
       " <description>open /  264</description>,\n",
       " <description>open /  117</description>,\n",
       " <description>open /    0</description>,\n",
       " <description>open /   83</description>,\n",
       " <description>open /    1</description>,\n",
       " <description>open /   11</description>,\n",
       " <description>open /   25</description>,\n",
       " <description>open /  485</description>,\n",
       " <description>open /  162</description>,\n",
       " <description>open /   25</description>,\n",
       " <description>open /   14</description>,\n",
       " <description>open /   36</description>,\n",
       " <description>open /   61</description>,\n",
       " <description>open /  142</description>,\n",
       " <description>open /    3</description>,\n",
       " <description>open /   17</description>]"
      ]
     },
     "execution_count": 74,
     "metadata": {},
     "output_type": "execute_result"
    }
   ],
   "source": [
    "descriptions = soup.find_all('description')\n",
    "descriptions"
   ]
  },
  {
   "cell_type": "code",
   "execution_count": 82,
   "metadata": {},
   "outputs": [
    {
     "data": {
      "text/plain": [
       "17"
      ]
     },
     "execution_count": 82,
     "metadata": {},
     "output_type": "execute_result"
    }
   ],
   "source": [
    "a = \"open /   17\"\n",
    "int(re.findall(\"[0-9]+\",a)[0])"
   ]
  },
  {
   "cell_type": "code",
   "execution_count": 71,
   "metadata": {},
   "outputs": [],
   "source": [
    "lst = []\n",
    "for titel,url,pp in zip(titles,links,descriptions):\n",
    "    #ppcount = re.findall(\"[0-9]+\", pp.text)\n",
    "    ppcount = re.search(\"[0-9]+\", pp.text)\n",
    "    mini_dict = {\"Titel\":titel.text,\n",
    "                \"URL\":url.text,\n",
    "                \"Parkplaetze\":ppcount[0]}\n",
    "    lst.append(mini_dict)"
   ]
  },
  {
   "cell_type": "code",
   "execution_count": 88,
   "metadata": {},
   "outputs": [
    {
     "data": {
      "text/plain": [
       "4137"
      ]
     },
     "execution_count": 88,
     "metadata": {},
     "output_type": "execute_result"
    }
   ],
   "source": [
    "#variante thomas\n",
    "lst = []\n",
    "summe = 0\n",
    "for title,url,pp in zip(titles,links,descriptions):\n",
    "    number_of_parkspots = int(re.findall(\"[0-9]+\",pp.text)[0])\n",
    "    summe = summe + number_of_parkspots\n",
    "    lst.append({\"Titel\":title.text,\"Url\":url.text,\"Parkplätze\": number_of_parkspots})\n",
    "summe"
   ]
  },
  {
   "cell_type": "code",
   "execution_count": 94,
   "metadata": {},
   "outputs": [
    {
     "data": {
      "text/html": [
       "<div>\n",
       "<style scoped>\n",
       "    .dataframe tbody tr th:only-of-type {\n",
       "        vertical-align: middle;\n",
       "    }\n",
       "\n",
       "    .dataframe tbody tr th {\n",
       "        vertical-align: top;\n",
       "    }\n",
       "\n",
       "    .dataframe thead th {\n",
       "        text-align: right;\n",
       "    }\n",
       "</style>\n",
       "<table border=\"1\" class=\"dataframe\">\n",
       "  <thead>\n",
       "    <tr style=\"text-align: right;\">\n",
       "      <th></th>\n",
       "      <th>Titel</th>\n",
       "      <th>Url</th>\n",
       "      <th>Parkplätze</th>\n",
       "    </tr>\n",
       "  </thead>\n",
       "  <tbody>\n",
       "    <tr>\n",
       "      <td>0</td>\n",
       "      <td>FEED Parkleitsystem Stadt Zürich</td>\n",
       "      <td>http://www.plszh.ch/plsFeed/rss</td>\n",
       "      <td>0</td>\n",
       "    </tr>\n",
       "    <tr>\n",
       "      <td>1</td>\n",
       "      <td>Parkgarage am Central / Seilergraben</td>\n",
       "      <td>http://www.plszh.ch/plsNeu/parkhaus/central.js...</td>\n",
       "      <td>0</td>\n",
       "    </tr>\n",
       "    <tr>\n",
       "      <td>2</td>\n",
       "      <td>Parkhaus Accu / Otto-Schütz-Weg</td>\n",
       "      <td>http://www.plszh.ch/plsNeu/parkhaus/accu.jsp?p...</td>\n",
       "      <td>129</td>\n",
       "    </tr>\n",
       "    <tr>\n",
       "      <td>3</td>\n",
       "      <td>Parkhaus Albisriederplatz / Badenerstrasse 380</td>\n",
       "      <td>http://www.plszh.ch/plsNeu/parkhaus/albisriede...</td>\n",
       "      <td>56</td>\n",
       "    </tr>\n",
       "    <tr>\n",
       "      <td>4</td>\n",
       "      <td>Parkhaus Bleicherweg / Beethovenstrasse 35</td>\n",
       "      <td>http://www.plszh.ch/plsNeu/parkhaus/bleicherwe...</td>\n",
       "      <td>11</td>\n",
       "    </tr>\n",
       "  </tbody>\n",
       "</table>\n",
       "</div>"
      ],
      "text/plain": [
       "                                            Titel  \\\n",
       "0                FEED Parkleitsystem Stadt Zürich   \n",
       "1            Parkgarage am Central / Seilergraben   \n",
       "2                 Parkhaus Accu / Otto-Schütz-Weg   \n",
       "3  Parkhaus Albisriederplatz / Badenerstrasse 380   \n",
       "4      Parkhaus Bleicherweg / Beethovenstrasse 35   \n",
       "\n",
       "                                                 Url  Parkplätze  \n",
       "0                    http://www.plszh.ch/plsFeed/rss           0  \n",
       "1  http://www.plszh.ch/plsNeu/parkhaus/central.js...           0  \n",
       "2  http://www.plszh.ch/plsNeu/parkhaus/accu.jsp?p...         129  \n",
       "3  http://www.plszh.ch/plsNeu/parkhaus/albisriede...          56  \n",
       "4  http://www.plszh.ch/plsNeu/parkhaus/bleicherwe...          11  "
      ]
     },
     "execution_count": 94,
     "metadata": {},
     "output_type": "execute_result"
    }
   ],
   "source": [
    "#head bringt die ersten fünf\n",
    "pd.DataFrame(lst).head()\n",
    "#pd.DataFrame(lst)[1:]\n",
    "#pd.DataFrame(lst) = bringt alles"
   ]
  },
  {
   "cell_type": "code",
   "execution_count": null,
   "metadata": {},
   "outputs": [],
   "source": []
  }
 ],
 "metadata": {
  "kernelspec": {
   "display_name": "Python 3",
   "language": "python",
   "name": "python3"
  },
  "language_info": {
   "codemirror_mode": {
    "name": "ipython",
    "version": 3
   },
   "file_extension": ".py",
   "mimetype": "text/x-python",
   "name": "python",
   "nbconvert_exporter": "python",
   "pygments_lexer": "ipython3",
   "version": "3.7.4"
  }
 },
 "nbformat": 4,
 "nbformat_minor": 2
}
