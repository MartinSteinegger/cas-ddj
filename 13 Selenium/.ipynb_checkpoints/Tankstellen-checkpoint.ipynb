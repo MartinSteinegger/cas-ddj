{
 "cells": [
  {
   "cell_type": "markdown",
   "metadata": {},
   "source": [
    "Benzinpreise: http://benzin-preis.ch/"
   ]
  },
  {
   "cell_type": "code",
   "execution_count": 20,
   "metadata": {},
   "outputs": [],
   "source": [
    "# Projekt von Jörg, https://www.psychologie.ch/fsp-register\n",
    "from selenium import webdriver\n",
    "from selenium.webdriver.common.keys import Keys\n",
    "from selenium.webdriver.common.by import By\n",
    "from selenium.webdriver.support.ui import Select\n",
    "import time\n",
    "import pandas as pd\n",
    "from bs4 import BeautifulSoup\n",
    "import requests"
   ]
  },
  {
   "cell_type": "code",
   "execution_count": 44,
   "metadata": {},
   "outputs": [],
   "source": [
    "driver = webdriver.Chrome(executable_path='/usr/local/bin/chromedriver')\n",
    "driver.get('http://benzin-preis.ch/')"
   ]
  },
  {
   "cell_type": "code",
   "execution_count": 45,
   "metadata": {},
   "outputs": [],
   "source": [
    "search = driver.find_element_by_name('such')"
   ]
  },
  {
   "cell_type": "code",
   "execution_count": 46,
   "metadata": {},
   "outputs": [],
   "source": [
    "# wenn man alle Daten will einfach leere Suche klicken\n",
    "search.send_keys('Winterthur')"
   ]
  },
  {
   "cell_type": "code",
   "execution_count": 47,
   "metadata": {},
   "outputs": [],
   "source": [
    "driver.find_element_by_name('search').click()"
   ]
  },
  {
   "cell_type": "code",
   "execution_count": 48,
   "metadata": {},
   "outputs": [],
   "source": [
    "page = driver.page_source.encode('utf-8')\n",
    "with open(\"page.htm\", \"wb+\") as file:\n",
    "    file.write(page)\n",
    "    file.close()"
   ]
  },
  {
   "cell_type": "code",
   "execution_count": 49,
   "metadata": {},
   "outputs": [
    {
     "name": "stdout",
     "output_type": "stream",
     "text": [
      "01 Scraping Zefix.ipynb  page17.htm               page30.htm\r\n",
      "2 Htmls auslesen.ipynb   page18.htm               page31.htm\r\n",
      "Psychologie Übung.ipynb  page19.htm               page32.htm\r\n",
      "Tankstellen.ipynb        page2.htm                page33.htm\r\n",
      "bäckereien_list.csv      page20.htm               page34.htm\r\n",
      "page.htm                 page21.htm               page4.htm\r\n",
      "page0.htm                page22.htm               page5.htm\r\n",
      "page1.htm                page23.htm               page6.htm\r\n",
      "page10.htm               page24.htm               page7.htm\r\n",
      "page11.htm               page25.htm               page8.htm\r\n",
      "page12.htm               page26.htm               page9.htm\r\n",
      "page13.htm               page27.htm               \u001b[34mpages\u001b[m\u001b[m\r\n",
      "page14.htm               page28.htm               psycho.htm\r\n",
      "page15.htm               page29.htm\r\n",
      "page16.htm               page3.htm\r\n"
     ]
    }
   ],
   "source": [
    "!ls"
   ]
  },
  {
   "cell_type": "code",
   "execution_count": 50,
   "metadata": {},
   "outputs": [],
   "source": [
    "# jetzt mit xpath auf den weiter-button klicken (lösung unten hat barney in \n",
    "#der selenium-webbibliothek gefunden) https://selenium-python.readthedocs.io/\n",
    "driver.find_element_by_xpath(\"//a[@href='?next=6']\").click()"
   ]
  },
  {
   "cell_type": "code",
   "execution_count": null,
   "metadata": {},
   "outputs": [],
   "source": [
    "#und dann weiter wie gehabt"
   ]
  }
 ],
 "metadata": {
  "kernelspec": {
   "display_name": "Python 3",
   "language": "python",
   "name": "python3"
  },
  "language_info": {
   "codemirror_mode": {
    "name": "ipython",
    "version": 3
   },
   "file_extension": ".py",
   "mimetype": "text/x-python",
   "name": "python",
   "nbconvert_exporter": "python",
   "pygments_lexer": "ipython3",
   "version": "3.7.4"
  }
 },
 "nbformat": 4,
 "nbformat_minor": 2
}
