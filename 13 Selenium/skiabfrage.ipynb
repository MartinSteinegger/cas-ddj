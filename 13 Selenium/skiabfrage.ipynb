{
 "cells": [
  {
   "cell_type": "code",
   "execution_count": 1,
   "metadata": {},
   "outputs": [],
   "source": [
    "from selenium import webdriver\n",
    "from selenium.webdriver.common.keys import Keys\n",
    "from selenium.webdriver.common.by import By\n",
    "from selenium.webdriver.support.ui import Select\n",
    "import time\n",
    "import pandas as pd\n",
    "from bs4 import BeautifulSoup\n",
    "import requests\n",
    "import datetime\n",
    "from datetime import date"
   ]
  },
  {
   "cell_type": "code",
   "execution_count": 2,
   "metadata": {},
   "outputs": [
    {
     "data": {
      "text/plain": [
       "datetime.date(2019, 10, 28)"
      ]
     },
     "execution_count": 2,
     "metadata": {},
     "output_type": "execute_result"
    }
   ],
   "source": [
    "#Aktuelles Datum\n",
    "today = date.today()\n",
    "today"
   ]
  },
  {
   "cell_type": "code",
   "execution_count": 3,
   "metadata": {},
   "outputs": [],
   "source": [
    "#Skisite besuchen\n",
    "driver = webdriver.Chrome(executable_path='/usr/local/bin/chromedriver')\n",
    "driver.get('https://ski.ticketcorner.ch/resort/56?forDate=28.10.2019')"
   ]
  },
  {
   "cell_type": "code",
   "execution_count": 4,
   "metadata": {},
   "outputs": [],
   "source": [
    "#Seite abspeichern\n",
    "page = driver.page_source.encode('utf-8')\n",
    "with open(\"skipage.htm\", \"wb+\") as file:\n",
    "    file.write(page)\n",
    "    file.close()"
   ]
  },
  {
   "cell_type": "code",
   "execution_count": 5,
   "metadata": {},
   "outputs": [],
   "source": [
    "#Seite öffnen und in bs einlesen\n",
    "file = open('skipage.htm', 'r')\n",
    "text = file.read()\n",
    "h = BeautifulSoup(text, 'html.parser')"
   ]
  },
  {
   "cell_type": "code",
   "execution_count": 6,
   "metadata": {},
   "outputs": [],
   "source": [
    "#graphdays exrtrahieren.\n",
    "days = h.find_all('div', {'class':'graph-day'})"
   ]
  },
  {
   "cell_type": "code",
   "execution_count": 7,
   "metadata": {},
   "outputs": [
    {
     "data": {
      "text/plain": [
       "170"
      ]
     },
     "execution_count": 7,
     "metadata": {},
     "output_type": "execute_result"
    }
   ],
   "source": [
    "len(h.find_all('div', {'class':'graph-day'}))"
   ]
  },
  {
   "cell_type": "code",
   "execution_count": 8,
   "metadata": {},
   "outputs": [
    {
     "data": {
      "text/plain": [
       "<div class=\"day-date\">28.10.</div>"
      ]
     },
     "execution_count": 8,
     "metadata": {},
     "output_type": "execute_result"
    }
   ],
   "source": [
    "days[0].find('div', {'class':'day-date'})\n"
   ]
  },
  {
   "cell_type": "code",
   "execution_count": 9,
   "metadata": {},
   "outputs": [
    {
     "data": {
      "text/plain": [
       "<div class=\"graph-day\" data-date=\"28.10.2019\" data-price-available=\"false\">\n",
       "<div class=\"day-price\"></div>\n",
       "<div class=\"bar-height max-price not-available\" style=\"height:100%;\"></div>\n",
       "<div class=\"graph-bar\">\n",
       "<div class=\"bar-height-background not-available\"></div>\n",
       "<div class=\"bar-height regular-price not-available\" style=\"height:80%;\"></div>\n",
       "</div>\n",
       "<div class=\"day-date\">28.10.</div>\n",
       "<div class=\"day-week\">Mo</div>\n",
       "<div class=\"graph-overlay\"></div>\n",
       "</div>"
      ]
     },
     "execution_count": 9,
     "metadata": {},
     "output_type": "execute_result"
    }
   ],
   "source": [
    "days[0]"
   ]
  },
  {
   "cell_type": "code",
   "execution_count": 10,
   "metadata": {},
   "outputs": [
    {
     "data": {
      "text/plain": [
       "<div class=\"graph-day\" data-date=\"30.11.2019\" data-price-available=\"true\" data-url=\"/cart/56/saveTicket/53215?forDate=30.11.2019\">\n",
       "<div class=\"day-price\">49.00</div>\n",
       "<div class=\"bar-height max-price\" style=\"height: 81.6667%;\"></div>\n",
       "<div class=\"graph-bar\">\n",
       "<div class=\"bar-height-background\"></div>\n",
       "<div class=\"bar-height regular-price\" style=\"height: 81.6667%;\"></div>\n",
       "</div>\n",
       "<div class=\"day-date\">30.11.</div>\n",
       "<div class=\"day-week\">Sa</div>\n",
       "<div class=\"graph-overlay\"></div>\n",
       "</div>"
      ]
     },
     "execution_count": 10,
     "metadata": {},
     "output_type": "execute_result"
    }
   ],
   "source": [
    "days[33]"
   ]
  },
  {
   "cell_type": "code",
   "execution_count": 11,
   "metadata": {},
   "outputs": [
    {
     "data": {
      "text/plain": [
       "'49.00'"
      ]
     },
     "execution_count": 11,
     "metadata": {},
     "output_type": "execute_result"
    }
   ],
   "source": [
    "days[33].find('div', {'class':'day-price'}).text"
   ]
  },
  {
   "cell_type": "code",
   "execution_count": 12,
   "metadata": {},
   "outputs": [],
   "source": [
    "daylist = []\n",
    "for elem in days:\n",
    "\n",
    "    day = elem.find('div', {'class':'day-date'}).text\n",
    "    price = elem.find('div', {'class':'day-price'}).text\n",
    "    \n",
    "    minidict = {'Ortschaft': \"Brigels-Waltensburg-Andiast\",\n",
    "                'Tag': day,\n",
    "                'Preis': price,\n",
    "                'Abfragedatum': today}\n",
    "    \n",
    "    daylist.append(minidict)  "
   ]
  },
  {
   "cell_type": "code",
   "execution_count": 14,
   "metadata": {},
   "outputs": [
    {
     "data": {
      "text/html": [
       "<div>\n",
       "<style scoped>\n",
       "    .dataframe tbody tr th:only-of-type {\n",
       "        vertical-align: middle;\n",
       "    }\n",
       "\n",
       "    .dataframe tbody tr th {\n",
       "        vertical-align: top;\n",
       "    }\n",
       "\n",
       "    .dataframe thead th {\n",
       "        text-align: right;\n",
       "    }\n",
       "</style>\n",
       "<table border=\"1\" class=\"dataframe\">\n",
       "  <thead>\n",
       "    <tr style=\"text-align: right;\">\n",
       "      <th></th>\n",
       "      <th>Ortschaft</th>\n",
       "      <th>Tag</th>\n",
       "      <th>Preis</th>\n",
       "      <th>Abfragedatum</th>\n",
       "    </tr>\n",
       "  </thead>\n",
       "  <tbody>\n",
       "    <tr>\n",
       "      <td>0</td>\n",
       "      <td>Brigels-Waltensburg-Andiast</td>\n",
       "      <td>28.10.</td>\n",
       "      <td></td>\n",
       "      <td>2019-10-28</td>\n",
       "    </tr>\n",
       "    <tr>\n",
       "      <td>1</td>\n",
       "      <td>Brigels-Waltensburg-Andiast</td>\n",
       "      <td>29.10.</td>\n",
       "      <td></td>\n",
       "      <td>2019-10-28</td>\n",
       "    </tr>\n",
       "    <tr>\n",
       "      <td>2</td>\n",
       "      <td>Brigels-Waltensburg-Andiast</td>\n",
       "      <td>30.10.</td>\n",
       "      <td></td>\n",
       "      <td>2019-10-28</td>\n",
       "    </tr>\n",
       "    <tr>\n",
       "      <td>3</td>\n",
       "      <td>Brigels-Waltensburg-Andiast</td>\n",
       "      <td>31.10.</td>\n",
       "      <td></td>\n",
       "      <td>2019-10-28</td>\n",
       "    </tr>\n",
       "    <tr>\n",
       "      <td>4</td>\n",
       "      <td>Brigels-Waltensburg-Andiast</td>\n",
       "      <td>1.11.</td>\n",
       "      <td></td>\n",
       "      <td>2019-10-28</td>\n",
       "    </tr>\n",
       "    <tr>\n",
       "      <td>...</td>\n",
       "      <td>...</td>\n",
       "      <td>...</td>\n",
       "      <td>...</td>\n",
       "      <td>...</td>\n",
       "    </tr>\n",
       "    <tr>\n",
       "      <td>165</td>\n",
       "      <td>Brigels-Waltensburg-Andiast</td>\n",
       "      <td>10.4.</td>\n",
       "      <td></td>\n",
       "      <td>2019-10-28</td>\n",
       "    </tr>\n",
       "    <tr>\n",
       "      <td>166</td>\n",
       "      <td>Brigels-Waltensburg-Andiast</td>\n",
       "      <td>11.4.</td>\n",
       "      <td></td>\n",
       "      <td>2019-10-28</td>\n",
       "    </tr>\n",
       "    <tr>\n",
       "      <td>167</td>\n",
       "      <td>Brigels-Waltensburg-Andiast</td>\n",
       "      <td>12.4.</td>\n",
       "      <td></td>\n",
       "      <td>2019-10-28</td>\n",
       "    </tr>\n",
       "    <tr>\n",
       "      <td>168</td>\n",
       "      <td>Brigels-Waltensburg-Andiast</td>\n",
       "      <td>13.4.</td>\n",
       "      <td></td>\n",
       "      <td>2019-10-28</td>\n",
       "    </tr>\n",
       "    <tr>\n",
       "      <td>169</td>\n",
       "      <td>Brigels-Waltensburg-Andiast</td>\n",
       "      <td>14.4.</td>\n",
       "      <td></td>\n",
       "      <td>2019-10-28</td>\n",
       "    </tr>\n",
       "  </tbody>\n",
       "</table>\n",
       "<p>170 rows × 4 columns</p>\n",
       "</div>"
      ],
      "text/plain": [
       "                       Ortschaft     Tag Preis Abfragedatum\n",
       "0    Brigels-Waltensburg-Andiast  28.10.         2019-10-28\n",
       "1    Brigels-Waltensburg-Andiast  29.10.         2019-10-28\n",
       "2    Brigels-Waltensburg-Andiast  30.10.         2019-10-28\n",
       "3    Brigels-Waltensburg-Andiast  31.10.         2019-10-28\n",
       "4    Brigels-Waltensburg-Andiast   1.11.         2019-10-28\n",
       "..                           ...     ...   ...          ...\n",
       "165  Brigels-Waltensburg-Andiast   10.4.         2019-10-28\n",
       "166  Brigels-Waltensburg-Andiast   11.4.         2019-10-28\n",
       "167  Brigels-Waltensburg-Andiast   12.4.         2019-10-28\n",
       "168  Brigels-Waltensburg-Andiast   13.4.         2019-10-28\n",
       "169  Brigels-Waltensburg-Andiast   14.4.         2019-10-28\n",
       "\n",
       "[170 rows x 4 columns]"
      ]
     },
     "execution_count": 14,
     "metadata": {},
     "output_type": "execute_result"
    }
   ],
   "source": [
    "pd.DataFrame(daylist)"
   ]
  },
  {
   "cell_type": "code",
   "execution_count": null,
   "metadata": {},
   "outputs": [],
   "source": []
  }
 ],
 "metadata": {
  "kernelspec": {
   "display_name": "Python 3",
   "language": "python",
   "name": "python3"
  },
  "language_info": {
   "codemirror_mode": {
    "name": "ipython",
    "version": 3
   },
   "file_extension": ".py",
   "mimetype": "text/x-python",
   "name": "python",
   "nbconvert_exporter": "python",
   "pygments_lexer": "ipython3",
   "version": "3.7.4"
  }
 },
 "nbformat": 4,
 "nbformat_minor": 2
}
