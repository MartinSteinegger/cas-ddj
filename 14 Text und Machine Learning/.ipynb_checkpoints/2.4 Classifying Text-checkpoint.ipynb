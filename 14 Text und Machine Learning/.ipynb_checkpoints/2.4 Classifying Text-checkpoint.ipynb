{
 "cells": [
  {
   "cell_type": "markdown",
   "metadata": {},
   "source": [
    "# Document classifier"
   ]
  },
  {
   "cell_type": "markdown",
   "metadata": {},
   "source": [
    "## Daten\n",
    "- Wir brauchen zuerst daten um unser Modell zu trainieren"
   ]
  },
  {
   "cell_type": "code",
   "execution_count": 22,
   "metadata": {},
   "outputs": [],
   "source": [
    "from textblob.classifiers import NaiveBayesClassifier\n",
    "\n",
    "train = [\n",
    "    ('I love this sandwich.', 'pos'),\n",
    "    ('This is an amazing place!', 'pos'),\n",
    "    ('I feel very good about these beers.', 'pos'),\n",
    "    ('This is my best work.', 'pos'),\n",
    "    (\"What an awesome view\", 'pos'),\n",
    "    ('I do not like this restaurant', 'neg'),\n",
    "    ('I am tired of this stuff.', 'neg'),\n",
    "    (\"I can't deal with this\", 'neg'),\n",
    "    ('He is my sworn enemy!', 'neg'),\n",
    "    ('My boss is horrible.', 'neg')\n",
    "]\n",
    "test = [\n",
    "    ('The beer was good.', 'pos'),\n",
    "    ('I do not enjoy my job', 'neg'),\n",
    "    (\"I ain't feeling dandy today.\", 'neg'),\n",
    "    (\"I feel amazing!\", 'pos'),\n",
    "    ('Gary is a friend of mine.', 'pos'),\n",
    "    (\"I can't believe I'm doing this.\", 'neg'),\n",
    "    (\"I am very happy.\",'pos')\n",
    "]"
   ]
  },
  {
   "cell_type": "markdown",
   "metadata": {},
   "source": [
    "## Training"
   ]
  },
  {
   "cell_type": "code",
   "execution_count": 23,
   "metadata": {},
   "outputs": [],
   "source": [
    "cl = NaiveBayesClassifier(train)"
   ]
  },
  {
   "cell_type": "code",
   "execution_count": 24,
   "metadata": {},
   "outputs": [
    {
     "data": {
      "text/plain": [
       "[('love sandwich', 'pos'),\n",
       " ('amazing place', 'pos'),\n",
       " ('feel good beers', 'pos'),\n",
       " ('best work', 'pos'),\n",
       " ('awesome view', 'pos'),\n",
       " ('like restaurant', 'neg'),\n",
       " ('tired stuff', 'neg'),\n",
       " ('ca deal', 'neg'),\n",
       " ('sworn enemy', 'neg'),\n",
       " ('boss horrible', 'neg')]"
      ]
     },
     "execution_count": 24,
     "metadata": {},
     "output_type": "execute_result"
    }
   ],
   "source": [
    "#Stoppwörter, punkte und krimskrams raus\n",
    "from nltk.corpus import stopwords\n",
    "stopwords = stopwords.words('english')\n",
    "from nltk.tokenize import word_tokenize\n",
    "training_new = []\n",
    "for element in train:\n",
    "    words = word_tokenize(element[0])\n",
    "    words = [word.lower() for word in words if word.isalpha()]\n",
    "    words = [word for word in words if word not in stopwords]\n",
    "    training_new.append((\" \".join(words),element[1]))\n",
    "training_new"
   ]
  },
  {
   "cell_type": "code",
   "execution_count": 29,
   "metadata": {},
   "outputs": [],
   "source": [
    "b = NaiveBayesClassifier(training_new)"
   ]
  },
  {
   "cell_type": "markdown",
   "metadata": {},
   "source": [
    "## Test\n",
    "- Wie gut performed unser Modell bei Daten die es noch nie gesehen hat?"
   ]
  },
  {
   "cell_type": "code",
   "execution_count": 25,
   "metadata": {},
   "outputs": [
    {
     "data": {
      "text/plain": [
       "0.7142857142857143"
      ]
     },
     "execution_count": 25,
     "metadata": {},
     "output_type": "execute_result"
    }
   ],
   "source": [
    "cl.accuracy(test)"
   ]
  },
  {
   "cell_type": "code",
   "execution_count": 32,
   "metadata": {},
   "outputs": [
    {
     "data": {
      "text/plain": [
       "0.7142857142857143"
      ]
     },
     "execution_count": 32,
     "metadata": {},
     "output_type": "execute_result"
    }
   ],
   "source": [
    "b.accuracy(test)"
   ]
  },
  {
   "cell_type": "markdown",
   "metadata": {},
   "source": [
    "- Zu 80% korrekt, ok für mich :)"
   ]
  },
  {
   "cell_type": "markdown",
   "metadata": {},
   "source": [
    "## Features\n",
    "- Welche wörter sorgen am meisten dafür dass etwas positiv oder negativ klassifiziert wird?"
   ]
  },
  {
   "cell_type": "code",
   "execution_count": 26,
   "metadata": {},
   "outputs": [
    {
     "name": "stdout",
     "output_type": "stream",
     "text": [
      "Most Informative Features\n",
      "          contains(this) = True              neg : pos    =      2.3 : 1.0\n",
      "          contains(this) = False             pos : neg    =      1.8 : 1.0\n",
      "          contains(This) = False             neg : pos    =      1.6 : 1.0\n",
      "            contains(an) = False             neg : pos    =      1.6 : 1.0\n",
      "             contains(I) = False             pos : neg    =      1.4 : 1.0\n"
     ]
    }
   ],
   "source": [
    "cl.show_informative_features(5)"
   ]
  },
  {
   "cell_type": "code",
   "execution_count": 35,
   "metadata": {},
   "outputs": [
    {
     "name": "stdout",
     "output_type": "stream",
     "text": [
      "Most Informative Features\n",
      "          contains(like) = False             pos : neg    =      1.2 : 1.0\n",
      "         contains(tired) = False             pos : neg    =      1.2 : 1.0\n",
      "          contains(deal) = False             pos : neg    =      1.2 : 1.0\n",
      "          contains(love) = False             neg : pos    =      1.2 : 1.0\n",
      "            contains(ca) = False             pos : neg    =      1.2 : 1.0\n",
      "          contains(view) = False             neg : pos    =      1.2 : 1.0\n",
      "          contains(good) = False             neg : pos    =      1.2 : 1.0\n",
      "      contains(horrible) = False             pos : neg    =      1.2 : 1.0\n",
      "          contains(boss) = False             pos : neg    =      1.2 : 1.0\n",
      "          contains(best) = False             neg : pos    =      1.2 : 1.0\n"
     ]
    }
   ],
   "source": [
    "b.show_informative_features(10)"
   ]
  },
  {
   "cell_type": "markdown",
   "metadata": {},
   "source": [
    "Er ist der meinung wenn \"this\" vorkommt ist es eher positiv, was natürlich quatsch ist, aber das hat er nun mal so gelernt, deswegen braucht ihr gute trainingsdaten. "
   ]
  },
  {
   "cell_type": "markdown",
   "metadata": {},
   "source": [
    "## Klassifizierung"
   ]
  },
  {
   "cell_type": "code",
   "execution_count": 11,
   "metadata": {},
   "outputs": [
    {
     "data": {
      "text/plain": [
       "'pos'"
      ]
     },
     "execution_count": 11,
     "metadata": {},
     "output_type": "execute_result"
    }
   ],
   "source": [
    "cl.classify(\"Their burgers are amazing\")  # \"pos\""
   ]
  },
  {
   "cell_type": "code",
   "execution_count": 12,
   "metadata": {},
   "outputs": [
    {
     "data": {
      "text/plain": [
       "'neg'"
      ]
     },
     "execution_count": 12,
     "metadata": {},
     "output_type": "execute_result"
    }
   ],
   "source": [
    "cl.classify(\"I don't like their pizza.\")  # \"neg\""
   ]
  },
  {
   "cell_type": "code",
   "execution_count": 13,
   "metadata": {},
   "outputs": [
    {
     "data": {
      "text/plain": [
       "'pos'"
      ]
     },
     "execution_count": 13,
     "metadata": {},
     "output_type": "execute_result"
    }
   ],
   "source": [
    "a.classify(\"I love my job.\")"
   ]
  },
  {
   "cell_type": "markdown",
   "metadata": {},
   "source": [
    "### Klassizierung nach Sätzen"
   ]
  },
  {
   "cell_type": "code",
   "execution_count": 33,
   "metadata": {},
   "outputs": [],
   "source": [
    "from textblob import TextBlob\n",
    "blob = TextBlob(\"The beer was amazing. \"\n",
    "                \"But the hangover was horrible. My boss was not happy.\",\n",
    "                classifier=a)"
   ]
  },
  {
   "cell_type": "code",
   "execution_count": 34,
   "metadata": {},
   "outputs": [
    {
     "name": "stdout",
     "output_type": "stream",
     "text": [
      "The beer was amazing. (pos)\n",
      "But the hangover was horrible. (neg)\n",
      "My boss was not happy. (neg)\n"
     ]
    }
   ],
   "source": [
    "for sentence in blob.sentences:\n",
    "    print((\"%s (%s)\") % (sentence,sentence.classify()))"
   ]
  },
  {
   "cell_type": "markdown",
   "metadata": {},
   "source": [
    "## Mit schweizer Songtexten Kommentare klassifizieren\n",
    "- http://www.falleri.ch"
   ]
  },
  {
   "cell_type": "code",
   "execution_count": 16,
   "metadata": {},
   "outputs": [
    {
     "data": {
      "text/plain": [
       "[('dir', 'schweiz'),\n",
       " ('isch', 'schweiz'),\n",
       " ('würmli', 'schweiz'),\n",
       " ('gseh', 'schweiz'),\n",
       " ('eim', 'schweiz'),\n",
       " ('jungi', 'schweiz'),\n",
       " ('ume', 'schweiz'),\n",
       " ('schwänzli', 'schweiz'),\n",
       " ('chöpfli', 'schweiz'),\n",
       " ('affe', 'schweiz'),\n",
       " ('wisli', 'schweiz'),\n",
       " ('schwanz', 'schweiz'),\n",
       " ('einzigs', 'schweiz'),\n",
       " ('ängel', 'schweiz'),\n",
       " ('schwän', 'schweiz'),\n",
       " ('bisch', 'schweiz'),\n",
       " ('äntehüüsli', 'schweiz'),\n",
       " ('alles', 'schweiz'),\n",
       " ('de', 'schweiz'),\n",
       " ('ha', 'schweiz'),\n",
       " ('füess', 'schweiz'),\n",
       " ('wei', 'schweiz'),\n",
       " ('s', 'schweiz'),\n",
       " ('ich', 'schweiz'),\n",
       " ('affetanz', 'schweiz'),\n",
       " ('als', 'schweiz'),\n",
       " ('oder', 'schweiz'),\n",
       " ('ärde', 'schweiz'),\n",
       " ('ds', 'schweiz'),\n",
       " ('rue', 'schweiz'),\n",
       " ('ding', 'schweiz'),\n",
       " ('chranz', 'schweiz'),\n",
       " ('bei', 'schweiz'),\n",
       " ('wie', 'schweiz'),\n",
       " ('himmel', 'schweiz'),\n",
       " ('ids', 'schweiz'),\n",
       " ('übere', 'schweiz'),\n",
       " ('chindli', 'schweiz'),\n",
       " ('sälber', 'schweiz'),\n",
       " ('türli', 'schweiz'),\n",
       " ('dr', 'schweiz'),\n",
       " ('froh', 'schweiz'),\n",
       " ('ängeli', 'schweiz'),\n",
       " ('und', 'schweiz'),\n",
       " ('hell', 'schweiz'),\n",
       " ('zur', 'schweiz'),\n",
       " ('im', 'schweiz'),\n",
       " ('ine', 'schweiz'),\n",
       " ('dunklet', 'schweiz'),\n",
       " ('bettli', 'schweiz'),\n",
       " ('gueti', 'schweiz'),\n",
       " ('guet', 'schweiz'),\n",
       " ('müed', 'schweiz'),\n",
       " ('nand', 'schweiz'),\n",
       " ('wacht', 'schweiz'),\n",
       " ('lyt', 'schweiz'),\n",
       " ('eiget', 'schweiz'),\n",
       " ('ufem', 'schweiz'),\n",
       " ('i', 'schweiz'),\n",
       " ('gange', 'schweiz'),\n",
       " ('ga', 'schweiz'),\n",
       " ('gumpe', 'schweiz'),\n",
       " ('schue', 'schweiz'),\n",
       " ('meiteli', 'schweiz'),\n",
       " ('härzeli', 'schweiz'),\n",
       " ('ässe', 'schweiz'),\n",
       " ('myni', 'schweiz'),\n",
       " ('trotze', 'schweiz'),\n",
       " ('das', 'schweiz'),\n",
       " ('bruchsch', 'schweiz'),\n",
       " ('tanz', 'schweiz'),\n",
       " ('am', 'schweiz'),\n",
       " ('see', 'schweiz'),\n",
       " ('wil', 'schweiz'),\n",
       " ('scho', 'schweiz'),\n",
       " ('viel', 'schweiz'),\n",
       " ('ob', 'schweiz'),\n",
       " ('härzli', 'schweiz'),\n",
       " ('uf', 'schweiz'),\n",
       " ('wiehnachtszyt', 'schweiz'),\n",
       " ('wenn', 'schweiz'),\n",
       " ('gö', 'schweiz'),\n",
       " ('chöme', 'schweiz'),\n",
       " ('sand', 'schweiz'),\n",
       " ('hei', 'schweiz'),\n",
       " ('ring', 'schweiz'),\n",
       " ('vögeli', 'schweiz'),\n",
       " ('singe', 'schweiz'),\n",
       " ('stärn', 'schweiz'),\n",
       " ('äs', 'schweiz'),\n",
       " ('wyt', 'schweiz'),\n",
       " ('land', 'schweiz'),\n",
       " ('o', 'schweiz'),\n",
       " ('höö', 'schweiz'),\n",
       " ('uftue', 'schweiz'),\n",
       " ('cha', 'schweiz'),\n",
       " ('lach', 'schweiz'),\n",
       " ('zue', 'schweiz'),\n",
       " ('u', 'schweiz'),\n",
       " ('strecke', 'schweiz'),\n",
       " ('si', 'schweiz'),\n",
       " ('darum', 'schweiz'),\n",
       " ('stägli', 'schweiz'),\n",
       " ('sing', 'schweiz'),\n",
       " ('tuusig', 'schweiz'),\n",
       " ('chrippli', 'schweiz'),\n",
       " ('schnäderet', 'schweiz'),\n",
       " ('cho', 'schweiz'),\n",
       " ('spaziere', 'schweiz'),\n",
       " ('arme', 'schweiz'),\n",
       " ('em', 'schweiz'),\n",
       " ('du', 'schweiz'),\n",
       " ('grüess', 'schweiz'),\n",
       " ('e', 'schweiz'),\n",
       " ('strümpf', 'schweiz'),\n",
       " ('derzue', 'schweiz'),\n",
       " ('a', 'schweiz'),\n",
       " ('nacht', 'schweiz'),\n",
       " ('us', 'schweiz'),\n",
       " ('bin', 'schweiz'),\n",
       " ('sie', 'schweiz'),\n",
       " ('jetzt', 'schweiz'),\n",
       " ('hunger', 'schweiz'),\n",
       " ('jesuschindli', 'schweiz'),\n",
       " ('schlüsseli', 'schweiz'),\n",
       " ('ganz', 'schweiz'),\n",
       " ('het', 'schweiz'),\n",
       " ('schlaus', 'schweiz'),\n",
       " ('z', 'schweiz'),\n",
       " ('ja', 'schweiz'),\n",
       " ('süsch', 'schweiz'),\n",
       " ('so', 'schweiz'),\n",
       " ('liebgott', 'schweiz'),\n",
       " ('wer', 'schweiz'),\n",
       " ('niemert', 'schweiz'),\n",
       " ('drum', 'schweiz'),\n",
       " ('ohni', 'schweiz'),\n",
       " ('äntli', 'schweiz'),\n",
       " ('macht', 'schweiz'),\n",
       " ('mys', 'schweiz'),\n",
       " ('lass', 'schweiz'),\n",
       " ('schüttle', 'schweiz'),\n",
       " ('blettli', 'schweiz'),\n",
       " ('stö', 'schweiz'),\n",
       " ('d', 'schweiz'),\n",
       " ('alli', 'schweiz'),\n",
       " ('immerzue', 'schweiz'),\n",
       " ('eis', 'schweiz'),\n",
       " ('glänzt', 'schweiz'),\n",
       " ('wasser', 'schweiz'),\n",
       " ('ou', 'schweiz'),\n",
       " ('grosse', 'schweiz'),\n",
       " ('grüene', 'schweiz'),\n",
       " ('schynt', 'schweiz'),\n",
       " ('mir', 'schweiz'),\n",
       " ('bürschteli', 'schweiz'),\n",
       " ('liebe', 'schweiz'),\n",
       " ('stärndli', 'schweiz'),\n",
       " ('schwümme', 'schweiz'),\n",
       " ('zum', 'schweiz'),\n",
       " ('heilige', 'schweiz'),\n",
       " ('schell', 'schweiz'),\n",
       " ('ihre', 'schweiz'),\n",
       " ('es', 'schweiz'),\n",
       " ('nid', 'schweiz'),\n",
       " ('winke', 'schweiz'),\n",
       " ('bande', 'deutschland'),\n",
       " ('aus', 'deutschland'),\n",
       " ('dir', 'deutschland'),\n",
       " ('sind', 'deutschland'),\n",
       " ('lauert', 'deutschland'),\n",
       " ('vögelein', 'deutschland'),\n",
       " ('wollen', 'deutschland'),\n",
       " ('in', 'deutschland'),\n",
       " ('von', 'deutschland'),\n",
       " ('stelle', 'deutschland'),\n",
       " ('heil', 'deutschland'),\n",
       " ('alle', 'deutschland'),\n",
       " ('keine', 'deutschland'),\n",
       " ('lauter', 'deutschland'),\n",
       " ('eine', 'deutschland'),\n",
       " ('einen', 'deutschland'),\n",
       " ('kehre', 'deutschland'),\n",
       " ('durch', 'deutschland'),\n",
       " ('schalle', 'deutschland'),\n",
       " ('schon', 'deutschland'),\n",
       " ('affenmilchmann', 'deutschland'),\n",
       " ('schlick', 'deutschland'),\n",
       " ('feldaus', 'deutschland'),\n",
       " ('weil', 'deutschland'),\n",
       " ('affenmama', 'deutschland'),\n",
       " ('tröpfchen', 'deutschland'),\n",
       " ('sänge', 'deutschland'),\n",
       " ('herzen', 'deutschland'),\n",
       " ('beim', 'deutschland'),\n",
       " ('habe', 'deutschland'),\n",
       " ('ruft', 'deutschland'),\n",
       " ('wiesen', 'deutschland'),\n",
       " ('selbst', 'deutschland'),\n",
       " ('wir', 'deutschland'),\n",
       " ('wird', 'deutschland'),\n",
       " ('bienchen', 'deutschland'),\n",
       " ('ich', 'deutschland'),\n",
       " ('affen', 'deutschland'),\n",
       " ('wünschen', 'deutschland'),\n",
       " ('spricht', 'deutschland'),\n",
       " ('schön', 'deutschland'),\n",
       " ('die', 'deutschland'),\n",
       " ('streit', 'deutschland'),\n",
       " ('nun', 'deutschland'),\n",
       " ('bei', 'deutschland'),\n",
       " ('springen', 'deutschland'),\n",
       " ('vogelschar', 'deutschland'),\n",
       " ('besser', 'deutschland'),\n",
       " ('wie', 'deutschland'),\n",
       " ('blüten', 'deutschland'),\n",
       " ('moral', 'deutschland'),\n",
       " ('kann', 'deutschland'),\n",
       " ('froh', 'deutschland'),\n",
       " ('musiziern', 'deutschland'),\n",
       " ('nur', 'deutschland'),\n",
       " ('immer', 'deutschland'),\n",
       " ('und', 'deutschland'),\n",
       " ('nicht', 'deutschland'),\n",
       " ('genuß', 'deutschland'),\n",
       " ('auch', 'deutschland'),\n",
       " ('kuckuck', 'deutschland'),\n",
       " ('komm', 'deutschland'),\n",
       " ('zur', 'deutschland'),\n",
       " ('lustig', 'deutschland'),\n",
       " ('im', 'deutschland'),\n",
       " ('hand', 'deutschland'),\n",
       " ('affenonkel', 'deutschland'),\n",
       " ('scherzen', 'deutschland'),\n",
       " ('hatten', 'deutschland'),\n",
       " ('der', 'deutschland'),\n",
       " ('kokosmilch', 'deutschland'),\n",
       " ('ein', 'deutschland'),\n",
       " ('gleich', 'deutschland'),\n",
       " ('fiel', 'deutschland'),\n",
       " ('flink', 'deutschland'),\n",
       " ('manche', 'deutschland'),\n",
       " ('winter', 'deutschland'),\n",
       " ('nehmen', 'deutschland'),\n",
       " ('wachsstock', 'deutschland'),\n",
       " ('denkt', 'deutschland'),\n",
       " ('wälder', 'deutschland'),\n",
       " ('sangen', 'deutschland'),\n",
       " ('zwitschern', 'deutschland'),\n",
       " ('das', 'deutschland'),\n",
       " ('reißt', 'deutschland'),\n",
       " ('suchen', 'deutschland'),\n",
       " ('nichts', 'deutschland'),\n",
       " ('trefflicher', 'deutschland'),\n",
       " ('feldein', 'deutschland'),\n",
       " ('räumet', 'deutschland'),\n",
       " ('am', 'deutschland'),\n",
       " ('affenbaby', 'deutschland'),\n",
       " ('held', 'deutschland'),\n",
       " ('verkünden', 'deutschland'),\n",
       " ('geklaut', 'deutschland'),\n",
       " ('such', 'deutschland'),\n",
       " ('geschicht', 'deutschland'),\n",
       " ('nah', 'deutschland'),\n",
       " ('bald', 'deutschland'),\n",
       " ('nach', 'deutschland'),\n",
       " ('bau', 'deutschland'),\n",
       " ('lasset', 'deutschland'),\n",
       " ('gesungen', 'deutschland'),\n",
       " ('affenbande', 'deutschland'),\n",
       " ('gedenken', 'deutschland'),\n",
       " ('esel', 'deutschland'),\n",
       " ('sprach', 'deutschland'),\n",
       " ('star', 'deutschland'),\n",
       " ('segen', 'deutschland'),\n",
       " ('herum', 'deutschland'),\n",
       " ('gelungen', 'deutschland'),\n",
       " ('angelt', 'deutschland'),\n",
       " ('lieblich', 'deutschland'),\n",
       " ('hier', 'deutschland'),\n",
       " ('frühling', 'deutschland'),\n",
       " ('affenbraut', 'deutschland'),\n",
       " ('n', 'deutschland'),\n",
       " ('dann', 'deutschland'),\n",
       " ('heide', 'deutschland'),\n",
       " ('hat', 'deutschland'),\n",
       " ('volle', 'deutschland'),\n",
       " ('wo', 'deutschland'),\n",
       " ('flieg', 'deutschland'),\n",
       " ('mit', 'deutschland'),\n",
       " ('wald', 'deutschland'),\n",
       " ('graus', 'deutschland'),\n",
       " ('besten', 'deutschland'),\n",
       " ('brüllt', 'deutschland'),\n",
       " ('wabe', 'deutschland'),\n",
       " ('will', 'deutschland'),\n",
       " ('pfeffernüss', 'deutschland'),\n",
       " ('an', 'deutschland'),\n",
       " ('ei', 'deutschland'),\n",
       " ('aber', 'deutschland'),\n",
       " ('schrei', 'deutschland'),\n",
       " ('da', 'deutschland'),\n",
       " ('hub', 'deutschland'),\n",
       " ('sang', 'deutschland'),\n",
       " ('dem', 'deutschland'),\n",
       " ('du', 'deutschland'),\n",
       " ('frohes', 'deutschland'),\n",
       " ('jahr', 'deutschland'),\n",
       " ('sein', 'deutschland'),\n",
       " ('ganze', 'deutschland'),\n",
       " ('ist', 'deutschland'),\n",
       " ('sonst', 'deutschland'),\n",
       " ('sie', 'deutschland'),\n",
       " ('kuß', 'deutschland'),\n",
       " ('einmarschiern', 'deutschland'),\n",
       " ('andern', 'deutschland'),\n",
       " ('sitzt', 'deutschland'),\n",
       " ('hält', 'deutschland'),\n",
       " ('blümchen', 'deutschland'),\n",
       " ('tanzen', 'deutschland'),\n",
       " ('welch', 'deutschland'),\n",
       " ('pfeifen', 'deutschland'),\n",
       " ('urwaldbäume', 'deutschland'),\n",
       " ('deiner', 'deutschland'),\n",
       " ('voll', 'deutschland'),\n",
       " ('kokosnuß', 'deutschland'),\n",
       " ('amsel', 'deutschland'),\n",
       " ('so', 'deutschland'),\n",
       " ('singen', 'deutschland'),\n",
       " ('klang', 'deutschland'),\n",
       " ('kalt', 'deutschland'),\n",
       " ('wer', 'deutschland'),\n",
       " ('dort', 'deutschland'),\n",
       " ('drossel', 'deutschland'),\n",
       " ('wohl', 'deutschland'),\n",
       " ('macht', 'deutschland'),\n",
       " ('summ', 'deutschland'),\n",
       " ('kokosnüsse', 'deutschland'),\n",
       " ('dickicht', 'deutschland'),\n",
       " ('fern', 'deutschland'),\n",
       " ('was', 'deutschland'),\n",
       " ('den', 'deutschland'),\n",
       " ('krümchen', 'deutschland'),\n",
       " ('tun', 'deutschland'),\n",
       " ('kommt', 'deutschland'),\n",
       " ('klau', 'deutschland'),\n",
       " ('er', 'deutschland'),\n",
       " ('uns', 'deutschland'),\n",
       " ('sich', 'deutschland'),\n",
       " ('feld', 'deutschland'),\n",
       " ('fluß', 'deutschland'),\n",
       " ('honigkuchen', 'deutschland'),\n",
       " ('regen', 'deutschland'),\n",
       " ('elefant', 'deutschland'),\n",
       " ('vögel', 'deutschland'),\n",
       " ('heim', 'deutschland'),\n",
       " ('rasen', 'deutschland'),\n",
       " ('songtext', 'deutschland'),\n",
       " ('reicher', 'deutschland'),\n",
       " ('tireliern', 'deutschland'),\n",
       " ('beide', 'deutschland'),\n",
       " ('felder', 'deutschland'),\n",
       " ('es', 'deutschland'),\n",
       " ('christgeschenken', 'deutschland'),\n",
       " ('leide', 'deutschland'),\n",
       " ('lässt', 'deutschland'),\n",
       " ('fink', 'deutschland'),\n",
       " ('maienzeit', 'deutschland'),\n",
       " ('schrein', 'deutschland'),\n",
       " ('urwald', 'deutschland'),\n",
       " ('zu', 'deutschland'),\n",
       " ('dich', 'deutschland'),\n",
       " ('auf', 'deutschland'),\n",
       " ('schönen', 'deutschland'),\n",
       " ('freudig', 'deutschland')]"
      ]
     },
     "execution_count": 16,
     "metadata": {},
     "output_type": "execute_result"
    }
   ],
   "source": [
    "import os,glob\n",
    "from nltk.tokenize import sent_tokenize\n",
    "from nltk.tokenize import word_tokenize\n",
    "\n",
    "\n",
    "from io import open\n",
    "\n",
    "\n",
    "train = []\n",
    "countries = [\"schweiz\", \"deutschland\"]\n",
    "for country in countries:\n",
    "    out = []\n",
    "    folder_path = 'songtexte/%s' % country \n",
    "    for filename in glob.glob(os.path.join(folder_path, '*.txt')):\n",
    "      with open(filename, 'r') as f:\n",
    "        text = f.read()\n",
    "        words = word_tokenize(text)\n",
    "        words=[word.lower() for word in words if word.isalpha()]\n",
    "        for word in words:\n",
    "            out.append(word)\n",
    "    out = set(out)\n",
    "    for word in out:\n",
    "        train.append((word,country))\n",
    "        #print (filename)\n",
    "        #print (len(text))\n",
    "train"
   ]
  },
  {
   "cell_type": "code",
   "execution_count": 41,
   "metadata": {},
   "outputs": [],
   "source": [
    "from textblob.classifiers import NaiveBayesClassifier\n",
    "c2 = NaiveBayesClassifier(train)"
   ]
  },
  {
   "cell_type": "code",
   "execution_count": 18,
   "metadata": {},
   "outputs": [
    {
     "data": {
      "text/plain": [
       "'deutschland'"
      ]
     },
     "execution_count": 18,
     "metadata": {},
     "output_type": "execute_result"
    }
   ],
   "source": [
    "c2.classify(\"Ich gehe durch den Wald\")  # \"deutsch\""
   ]
  },
  {
   "cell_type": "code",
   "execution_count": 19,
   "metadata": {},
   "outputs": [
    {
     "data": {
      "text/plain": [
       "'schweiz'"
      ]
     },
     "execution_count": 19,
     "metadata": {},
     "output_type": "execute_result"
    }
   ],
   "source": [
    "c2.classify(\"Häsch es guet\")  # \"deutsch\""
   ]
  },
  {
   "cell_type": "code",
   "execution_count": 20,
   "metadata": {},
   "outputs": [
    {
     "data": {
      "text/plain": [
       "'deutschland'"
      ]
     },
     "execution_count": 20,
     "metadata": {},
     "output_type": "execute_result"
    }
   ],
   "source": [
    "c2.classify(\"Ich fahre mit meinem Porsche auf der Autobahn.\")"
   ]
  },
  {
   "cell_type": "code",
   "execution_count": 44,
   "metadata": {},
   "outputs": [
    {
     "name": "stdout",
     "output_type": "stream",
     "text": [
      "Most Informative Features\n",
      "           contains(wer) = True           schwei : deutsc =      1.1 : 1.0\n",
      "            contains(es) = True           schwei : deutsc =      1.1 : 1.0\n",
      "           contains(ich) = True           schwei : deutsc =      1.1 : 1.0\n",
      "          contains(froh) = True           schwei : deutsc =      1.1 : 1.0\n",
      "           contains(das) = True           schwei : deutsc =      1.1 : 1.0\n",
      "         contains(macht) = True           schwei : deutsc =      1.1 : 1.0\n",
      "           contains(dir) = True           schwei : deutsc =      1.1 : 1.0\n",
      "           contains(und) = True           schwei : deutsc =      1.1 : 1.0\n",
      "           contains(stö) = False          deutsc : schwei =      1.0 : 1.0\n",
      "        contains(derzue) = False          deutsc : schwei =      1.0 : 1.0\n"
     ]
    }
   ],
   "source": [
    "c2.show_informative_features(10)"
   ]
  },
  {
   "cell_type": "markdown",
   "metadata": {},
   "source": [
    "### Orakel "
   ]
  },
  {
   "cell_type": "markdown",
   "metadata": {},
   "source": [
    "Ihr könnt natürlich jetzt Euer eigenes Orakel bauen wie hier: - http://home.datacomm.ch/cgi-heeb/dialect/chochi.pl?Hand=Hand&nicht=net&heute=hit&Fenster=Feischter&gestern=gescht&Abend=Abend&gehorchen=folge&Mond=Manat&jeweils=abe&Holzsplitter=Schepfa&Senden=Jetzt+analysieren%21"
   ]
  },
  {
   "cell_type": "markdown",
   "metadata": {},
   "source": [
    "## Hardcore Beispiel mit Film-review daten mit NLTK\n",
    "- https://www.nltk.org/book/ch06.html\n",
    "- Wir nutzen nur noch die 100 häufigsten Wörter in den Texten und schauen ob sie bei positiv oder negativ vorkommen"
   ]
  },
  {
   "cell_type": "code",
   "execution_count": null,
   "metadata": {},
   "outputs": [],
   "source": [
    "import random\n",
    "import nltk\n",
    "nltk.download(\"movie_reviews\")\n",
    "from nltk.corpus import movie_reviews\n",
    "documents = [(list(movie_reviews.words(fileid)), category)\n",
    "              for category in movie_reviews.categories()\n",
    "              for fileid in movie_reviews.fileids(category)]\n",
    "random.shuffle(documents)"
   ]
  },
  {
   "cell_type": "code",
   "execution_count": null,
   "metadata": {},
   "outputs": [],
   "source": [
    "(\" \").join(documents[1][0])"
   ]
  },
  {
   "cell_type": "code",
   "execution_count": null,
   "metadata": {},
   "outputs": [],
   "source": [
    "all_words = nltk.FreqDist(w.lower() for w in movie_reviews.words())\n",
    "word_features = list(all_words)[:2000]\n",
    "word_features[0:10]"
   ]
  },
  {
   "cell_type": "code",
   "execution_count": null,
   "metadata": {},
   "outputs": [],
   "source": [
    "all_words = nltk.FreqDist(w.lower() for w in movie_reviews.words())\n",
    "word_features = list(all_words)[:2000]\n",
    "\n",
    "def document_features(document): \n",
    "    document_words = set(document)\n",
    "    features = {}\n",
    "    for word in word_features:\n",
    "        features['contains({})'.format(word)] = (word in document_words)\n",
    "    return features"
   ]
  },
  {
   "cell_type": "code",
   "execution_count": null,
   "metadata": {
    "scrolled": false
   },
   "outputs": [],
   "source": [
    "print(document_features(movie_reviews.words('pos/cv957_8737.txt')))"
   ]
  },
  {
   "cell_type": "code",
   "execution_count": null,
   "metadata": {},
   "outputs": [],
   "source": [
    "featuresets = [(document_features(d), c) for (d,c) in documents]\n",
    "train_set, test_set = featuresets[100:], featuresets[:100]\n",
    "classifier = nltk.NaiveBayesClassifier.train(train_set)"
   ]
  },
  {
   "cell_type": "code",
   "execution_count": null,
   "metadata": {},
   "outputs": [],
   "source": [
    "classifier.classify(document_features(\"a movie with bad actors\".split(\" \")))"
   ]
  },
  {
   "cell_type": "code",
   "execution_count": null,
   "metadata": {},
   "outputs": [],
   "source": [
    "classifier.classify(document_features(\"an uplifting movie with russel crowe\".split(\" \")))"
   ]
  },
  {
   "cell_type": "code",
   "execution_count": null,
   "metadata": {},
   "outputs": [],
   "source": [
    "classifier.show_most_informative_features(10)"
   ]
  }
 ],
 "metadata": {
  "kernelspec": {
   "display_name": "Python 3",
   "language": "python",
   "name": "python3"
  },
  "language_info": {
   "codemirror_mode": {
    "name": "ipython",
    "version": 3
   },
   "file_extension": ".py",
   "mimetype": "text/x-python",
   "name": "python",
   "nbconvert_exporter": "python",
   "pygments_lexer": "ipython3",
   "version": "3.7.4"
  }
 },
 "nbformat": 4,
 "nbformat_minor": 2
}
